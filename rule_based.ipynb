{
  "nbformat": 4,
  "nbformat_minor": 0,
  "metadata": {
    "colab": {
      "name": "ITproject.ipynb",
      "provenance": [],
      "collapsed_sections": [],
      "authorship_tag": "ABX9TyPGIJ90yXk9jDaa3n27DSIs",
      "include_colab_link": true
    },
    "kernelspec": {
      "name": "python3",
      "display_name": "Python 3"
    },
    "language_info": {
      "name": "python"
    }
  },
  "cells": [
    {
      "cell_type": "markdown",
      "metadata": {
        "id": "view-in-github",
        "colab_type": "text"
      },
      "source": [
        "<a href=\"https://colab.research.google.com/github/kavyaaa-1/IT-Project_Chatbot/blob/main/ITproject.ipynb\" target=\"_parent\"><img src=\"https://colab.research.google.com/assets/colab-badge.svg\" alt=\"Open In Colab\"/></a>"
      ]
    },
    {
      "cell_type": "code",
      "execution_count": 1,
      "metadata": {
        "id": "7s9YH9Z_Igp7"
      },
      "outputs": [],
      "source": [
        "import nltk\n",
        "from nltk.chat.util import Chat, reflections"
      ]
    },
    {
      "cell_type": "code",
      "source": [
        "set_pairs=[\n",
        "    [\n",
        "        r\"Hello|Hey|hey\",\n",
        "        [\"Hello mate! how was your day?\"]\n",
        "    ],\n",
        "    [\n",
        "        r\"Sad|Gloomy|Bad\",\n",
        "        [\"Its okay to have bad days\"]  \n",
        "    ],\n",
        "    [\n",
        "        r\"Good|Happy|Great\",\n",
        "        [\"Nice to hear this!!\"]\n",
        "    ],\n",
        "    [\n",
        "        r\"ty|thank you|merci|danke\",\n",
        "        [\"Whatever\"]\n",
        "    ],\n",
        "    [\n",
        "        r\" I need Help\",\n",
        "        [\"How can i help you?\"]\n",
        "    ],\n",
        "    [\n",
        "        r\"Tell me a joke\",\n",
        "        [\"What did a bison say to his leaving son?-Bison\"]\n",
        "    ],\n",
        "    [\n",
        "        r\"President of the US\",\n",
        "        [\"The current serving president of the United States is Joe Biden\"]\n",
        "    ],\n",
        "    [\n",
        "        r\"Tell me a fun fact|101 Knowledge|Fun Fact\",\n",
        "        [\"The word VERB is actually a noun\"]\n",
        "    ],\n",
        "    [\n",
        "       r\"quit|bye|ciao|\",\n",
        "        [\"thank you for your time\"]\n",
        "    ]\n",
        "]"
      ],
      "metadata": {
        "id": "LP9kI9gsIjdN"
      },
      "execution_count": 2,
      "outputs": []
    },
    {
      "cell_type": "code",
      "source": [
        "def chatbot():\n",
        "    print(\"Hello i am your personal chatbot TOKI here at your assistance\")\n",
        "chatbot()"
      ],
      "metadata": {
        "colab": {
          "base_uri": "https://localhost:8080/"
        },
        "id": "M_UNue5lIyED",
        "outputId": "487a95c8-b713-4f89-b907-ebdc337b1077"
      },
      "execution_count": 3,
      "outputs": [
        {
          "output_type": "stream",
          "name": "stdout",
          "text": [
            "Hello i am your personal chatbot TOKI here at your assistance\n"
          ]
        }
      ]
    },
    {
      "cell_type": "code",
      "source": [
        "chat=Chat(set_pairs,reflections)\n",
        "chat.converse()\n",
        "if __name__ == \"main\":\n",
        "    chatbot()"
      ],
      "metadata": {
        "colab": {
          "base_uri": "https://localhost:8080/"
        },
        "id": "lTgCbAGXI3EM",
        "outputId": "93714e14-3419-4430-f6b6-677496687bd7"
      },
      "execution_count": 4,
      "outputs": [
        {
          "output_type": "stream",
          "name": "stdout",
          "text": [
            ">hello\n",
            "Hello mate! how was your day?\n",
            ">nice\n",
            "thank you for your time\n",
            ">good\n",
            "Nice to hear this!!\n",
            ">help\n",
            "thank you for your time\n",
            ">fun fact\n",
            "The word VERB is actually a noun\n",
            ">president of us\n",
            "thank you for your time\n",
            ">President of the US\n",
            "The current serving president of the United States is Joe Biden\n",
            ">bye\n",
            "thank you for your time\n",
            ">quit\n",
            "thank you for your time\n"
          ]
        }
      ]
    },
    {
      "cell_type": "code",
      "source": [
        "import nltk\n",
        "nltk.download('punkt')"
      ],
      "metadata": {
        "colab": {
          "base_uri": "https://localhost:8080/"
        },
        "id": "PvDoRkD3KBFy",
        "outputId": "45969be1-354b-4443-cb5e-5faa30aa0b72"
      },
      "execution_count": 6,
      "outputs": [
        {
          "output_type": "stream",
          "name": "stderr",
          "text": [
            "[nltk_data] Downloading package punkt to /root/nltk_data...\n",
            "[nltk_data]   Unzipping tokenizers/punkt.zip.\n"
          ]
        },
        {
          "output_type": "execute_result",
          "data": {
            "text/plain": [
              "True"
            ]
          },
          "metadata": {},
          "execution_count": 6
        }
      ]
    },
    {
      "cell_type": "code",
      "source": [
        "sentence = \"Hello i am your personal chatbot TOKI here at your assistance.\"\n",
        "tokens = nltk.word_tokenize(sentence)\n",
        "tokens"
      ],
      "metadata": {
        "colab": {
          "base_uri": "https://localhost:8080/"
        },
        "id": "33tyHupfI39B",
        "outputId": "113897cf-b219-4b24-9831-9f6df36c9c08"
      },
      "execution_count": 7,
      "outputs": [
        {
          "output_type": "execute_result",
          "data": {
            "text/plain": [
              "['Hello',\n",
              " 'i',\n",
              " 'am',\n",
              " 'your',\n",
              " 'personal',\n",
              " 'chatbot',\n",
              " 'TOKI',\n",
              " 'here',\n",
              " 'at',\n",
              " 'your',\n",
              " 'assistance',\n",
              " '.']"
            ]
          },
          "metadata": {},
          "execution_count": 7
        }
      ]
    },
    {
      "cell_type": "code",
      "source": [
        "for i in tokens:\n",
        "  i = i.lower()"
      ],
      "metadata": {
        "id": "Ci9SH0rJKohL"
      },
      "execution_count": 12,
      "outputs": []
    },
    {
      "cell_type": "code",
      "source": [
        "tokens"
      ],
      "metadata": {
        "colab": {
          "base_uri": "https://localhost:8080/"
        },
        "id": "0iq-muYPL4-i",
        "outputId": "7e11a834-3ed9-4a13-ffec-468c54f8d209"
      },
      "execution_count": 13,
      "outputs": [
        {
          "output_type": "execute_result",
          "data": {
            "text/plain": [
              "['Hello',\n",
              " 'i',\n",
              " 'am',\n",
              " 'your',\n",
              " 'personal',\n",
              " 'chatbot',\n",
              " 'TOKI',\n",
              " 'here',\n",
              " 'at',\n",
              " 'your',\n",
              " 'assistance',\n",
              " '.']"
            ]
          },
          "metadata": {},
          "execution_count": 13
        }
      ]
    },
    {
      "cell_type": "code",
      "source": [
        ""
      ],
      "metadata": {
        "id": "_DCvQ_bFMVCT"
      },
      "execution_count": null,
      "outputs": []
    }
  ]
}

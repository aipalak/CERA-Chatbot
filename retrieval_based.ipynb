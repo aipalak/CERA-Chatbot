{
  "nbformat": 4,
  "nbformat_minor": 0,
  "metadata": {
    "colab": {
      "name": "ITproject2.ipynb",
      "provenance": [],
      "collapsed_sections": [],
      "include_colab_link": true
    },
    "kernelspec": {
      "name": "python3",
      "display_name": "Python 3"
    },
    "language_info": {
      "name": "python"
    }
  },
  "cells": [
    {
      "cell_type": "markdown",
      "metadata": {
        "id": "view-in-github",
        "colab_type": "text"
      },
      "source": [
        "<a href=\"https://colab.research.google.com/github/kavyaaa-1/IT-Project_Chatbot/blob/main/ITproject2.ipynb\" target=\"_parent\"><img src=\"https://colab.research.google.com/assets/colab-badge.svg\" alt=\"Open In Colab\"/></a>"
      ]
    },
    {
      "cell_type": "code",
      "execution_count": 50,
      "metadata": {
        "id": "ihWLY3qyWABT"
      },
      "outputs": [],
      "source": [
        "import nltk \n",
        "import numpy as np\n",
        "import random\n",
        "import string\n",
        "\n",
        "import warnings\n",
        "warnings.filterwarnings = False \n",
        "\n",
        "from sklearn.feature_extraction.text import TfidfVectorizer\n",
        "from sklearn.metrics.pairwise import cosine_similarity"
      ]
    },
    {
      "cell_type": "code",
      "source": [
        "nltk.download('omw-1.4')"
      ],
      "metadata": {
        "colab": {
          "base_uri": "https://localhost:8080/"
        },
        "id": "x_8gPS4kiuW2",
        "outputId": "29a17131-287a-4382-8cfd-b817f6ef7e76"
      },
      "execution_count": 51,
      "outputs": [
        {
          "output_type": "stream",
          "name": "stderr",
          "text": [
            "[nltk_data] Downloading package omw-1.4 to /root/nltk_data...\n",
            "[nltk_data]   Package omw-1.4 is already up-to-date!\n"
          ]
        },
        {
          "output_type": "execute_result",
          "data": {
            "text/plain": [
              "True"
            ]
          },
          "metadata": {},
          "execution_count": 51
        }
      ]
    },
    {
      "cell_type": "code",
      "source": [
        "from bs4 import BeautifulSoup\n",
        "import requests\n",
        "import re\n",
        "nltk.download('punkt')\n",
        "nltk.download(\"wordnet\")"
      ],
      "metadata": {
        "colab": {
          "base_uri": "https://localhost:8080/"
        },
        "id": "ODOq5D23idTi",
        "outputId": "b08c38a7-6e46-47e2-c6bb-9a0d18cb5fd9"
      },
      "execution_count": 52,
      "outputs": [
        {
          "output_type": "stream",
          "name": "stderr",
          "text": [
            "[nltk_data] Downloading package punkt to /root/nltk_data...\n",
            "[nltk_data]   Package punkt is already up-to-date!\n",
            "[nltk_data] Downloading package wordnet to /root/nltk_data...\n",
            "[nltk_data]   Package wordnet is already up-to-date!\n"
          ]
        },
        {
          "output_type": "execute_result",
          "data": {
            "text/plain": [
              "True"
            ]
          },
          "metadata": {},
          "execution_count": 52
        }
      ]
    },
    {
      "cell_type": "code",
      "source": [
        "#headers = {'User-Agent': 'Mozilla/5.0 (Windows NT 10.0; Win64; x64) AppleWebKit/537.36 (KHTML, like Gecko) Chrome/71.0.3578.98 Safari/537.36', \n",
        "#'Accept' : 'text/html,application/xhtml+xml,application/xml;q=0.9,*/*;q=0.8', \n",
        "#'Accept-Language' : 'en-US,en;q=0.5',\n",
        "#'Accept-Encoding' : 'gzip', \n",
        "#'DNT' : '1', # Do Not Track Request Header \n",
        "#'Connection' : 'close'}"
      ],
      "metadata": {
        "id": "Fo1WQAqlW37Q"
      },
      "execution_count": 53,
      "outputs": []
    },
    {
      "cell_type": "code",
      "source": [
        "#url = (\"https://conceptmedical.ca/20-popular-skincare-questions/\")\n",
        "\n",
        "#html = requests.get(url, headers = headers).text\n",
        "#soup = BeautifulSoup(html)"
      ],
      "metadata": {
        "id": "YD8hVNjfWaSF"
      },
      "execution_count": 54,
      "outputs": []
    },
    {
      "cell_type": "code",
      "source": [
        "#info = soup.find_all('p')\n",
        "#info2 = soup.find_all('li')"
      ],
      "metadata": {
        "id": "KBWntV0ZcxEx"
      },
      "execution_count": 55,
      "outputs": []
    },
    {
      "cell_type": "code",
      "source": [
        "#text1 = \" \"\n",
        "\n",
        "#for para in info:\n",
        "#  text1 += para.text\n"
      ],
      "metadata": {
        "id": "rKpmyFDUXT84"
      },
      "execution_count": 56,
      "outputs": []
    },
    {
      "cell_type": "code",
      "source": [
        "#text2 = \" \"\n",
        "\n",
        "#for lists in info2:\n",
        "#  text2 += lists.text"
      ],
      "metadata": {
        "id": "bT2LbIC8b1Pc"
      },
      "execution_count": 57,
      "outputs": []
    },
    {
      "cell_type": "code",
      "source": [
        "#corpus_text = text1 + text2"
      ],
      "metadata": {
        "id": "NoYsIB5_YwmQ"
      },
      "execution_count": 58,
      "outputs": []
    },
    {
      "cell_type": "code",
      "source": [
        "f = open(\"/content/Cera DataSet.txt\", \"r\")\n",
        "corpus_text = f.read()"
      ],
      "metadata": {
        "id": "ZM9J330k3Cis"
      },
      "execution_count": 59,
      "outputs": []
    },
    {
      "cell_type": "code",
      "source": [
        "corpus_text = corpus_text.lower()"
      ],
      "metadata": {
        "id": "ulKcbYTVdAYD"
      },
      "execution_count": 60,
      "outputs": []
    },
    {
      "cell_type": "code",
      "source": [
        "corpus_text = re.sub(r'\\[[0-9]*\\]', ' ', corpus_text)\n",
        "corpus_text = re.sub(r'\\s+', ' ', corpus_text)"
      ],
      "metadata": {
        "id": "LOyqskicd9Zm"
      },
      "execution_count": 61,
      "outputs": []
    },
    {
      "cell_type": "code",
      "source": [
        "corpus_text"
      ],
      "metadata": {
        "id": "RodrLpeYe0MF",
        "outputId": "01c87edb-20ad-4392-e8ed-787943710a37",
        "colab": {
          "base_uri": "https://localhost:8080/",
          "height": 174
        }
      },
      "execution_count": 62,
      "outputs": [
        {
          "output_type": "execute_result",
          "data": {
            "text/plain": [
              "\"dry vs dehydrated skin is a common subject of confusion for a lot of people. dry skin is a skin type, which lacks proper levels of oil. it will often have an uneven tone, small pores, feel itchy and have a flaky appearance. to soothe dry skin, include emollients, ceramides, mineral oils and squalane. dehydrated skin on the other hand, is a skin condition that lacks proper levels of hydration. it will have a dull appearance and feel tight. ingredients you should be including in your skincare routine are hyaluronic acid, glycerin, antioxidants. everyone should be using and can benefit from incorporating three specific products into their daily routine. these three products are a vitamin c serum (of no less than 10% l-ascorbic acid), a retinol product, and a quality broad-spectrum sunscreen. frequency you should be exfoliating will be based off of if your skin type can tolerate it. for dry and sensitive skin once every 10 days is sufficient, normal to combination skin once a week, oily skin should exfoliate 2-3 times a week. more aggressive exfoliation such as chemical peels or microdermabrasion, should be performed every 4-6 weeks. skincare products should be applied to your face, but did you know you should also be applying serums and creams to your neck, décolleté and hands. these are also areas that show signs of aging, so they are equally important to treat and take care of. it is so detrimental to begin proper anti-aging skincare by your late twenties! this allows proper cellular changes to be made to aid in the prevention of early signs of aging. treatment options include light therapy (such as broad band light treatments), micro-needling and medical grade chemical peels. we also have medical grade skincare options with active ingredients that can help to reduce the overall appearance of pigmentation in the skin. yes! the skin under your eye is much thinner and more sensitive than the skin on the rest of your face, meaning it requires more support. when choosing an undereye cream, look for products that include antioxidants, vitamins, hyaluronic acid, and possibly a low percentage retinol. retinol (or vitamin a) is a well-loved ingredient due to its ability to speed skin cell turnover and boost collagen production. while sensitive skin can use a retinol product, it can lead to flakiness and the feeling of dryness in the skin. to counter this, it is suggested to incorporate a hyaluronic acid and proper moisturizer into your routine. the percentage of retinol as well as the frequency of application weekly should be adjusted to suit your skin type. if you are still finding the usage harsh, consult with your skincare professional for alternative options that are best suited for your skin type. one important thing to remember when it comes to skincare products is to be consistent and patient. you have to remember that your cellular turnover (how quickly dead cells shed and new cells surface) is at minimum 28 days and this rate slows as we age. a general rule of thumb, is to expect to begin to see changes from new skincare at a minimum of 4 weeks from starting use. of course, depending on the product itself, it may actually take a little longer to notice significant change. serums are meant to be applied before moisturizer because their molecular sizes are different. serums are a more fluid product with a smaller molecular size which allows it to penetrate deeper into your skin layers. creams and moisturizers have a larger molecule size, which means they more so sit on the top layer of skin. the proper order of skincare application can vary depending on products being used. typically, for morning skincare i recommend: cleanser, toner, antioxidant serum, hydrating serum, eye cream, moisturizer, sunscreen. for a nightly routine i suggest: an oil-based cleanser, water-based cleanser, toner, targeted serum, eye cream, retinol, moisturizer. the biggest misconception that i have noticed with acne is that “drying out” your skin will diminish your acne. by over exfoliating or harshly diminishing the oils in your skins protective barrier, you are actually creating more of a problem. by doing this, your sebaceous glands will over produce oil to compensate for the sudden loss, furthering your breakouts. when treating skin conditions, you should receive a professional facial once within your cell turnover cycle (this means once every 4-6 weeks depending on your age). if you find your skin is fully balanced, and you have no skin conditions needing to be treated, a facial once a season is an acceptable practice. your skins health and condition can be attributed to many factors. one of them being the foods we intake. surprisingly, there are a number of foods linked to causing hormonal changes in your body. some of these may be: milk products, peanut products, and animal products. if you are noticing consistent issues with your skin. yes there are skincare products to avoid while pregnant. ruling out toxic skincare is especially important especially while pregnant. some harmful ingredients you must watch out for are phthalates, sulfates, parabens, bha’s, silicones, and synthetic fragrances. additionally, avoid high doses of retinol, salicylic acid, and benzoyl peroxide, as these may cause harm to the baby. you cannot change the actual size of your pores, as your pore size is genetic. what you can do is keep your pores tight and clean through treatment and proper skincare. by doing this, it gives the overall appearance of smaller pores because they are not nearly as noticeable. you should always receive a thorough skin analysis from a professional to assess skin type and any existing conditions, but there are some key factors when trying to determine this yourself at home. think about how your skin feels when you wake up in the morning. if it’s generally tight and flaky, it’s likely to be dry. oily skin usually has larger pores and looks shiny and glossy all over. combination skin will usually have an oily t-zone with large pores, while the rest of the face is dry and the pores are smaller. lastly, normal skin feels overall even and balanced.the most common skin types are dry, combination, and oily. commonly, dry skin causes feelings of tightness around the eyes and mouth, as well as patches of flaky skin around the cheek area, combination skin presents a shine on the nose and forehead and also includes dry patches on the cheek area whereas oily skin is generally soft and greasy to the touch and gives the cheeks an overly shiny surface. you should wash your face twice daily, preferably with a gentle cleanser. this is because bacteria builds up in your skin overnight, so it is important to wash it off in the morning. washing your face in the morning also acts as a great primer before applying your morning skincare routine. you should always wash your face before you go to bed dirt, makeup, and environmental toxins accumulate on your face throughout the day. washing your face at night removes these impurities and stops pores from becoming clogged. vitamin c is a nutrient found in the body that has advantageous effects when consumed as part of a balanced diet. many people also apply it topically. vitamin c has incredible anti-aging effects, as it can reduce the appearance of fine lines and wrinkles. as well as this, due to its powerful antioxidant properties, it protects the skin from free radical damage,this means it prevents premature skin aging. furthermore, vitamin c enhances collagen production and helps to create tighter and younger looking skin overall. retinol appears in night-time skincare routines. this is because this powerful substance removes dead skin cells from the upper layer of the skin’s surface. this resultantly makes skin more vulnerable to sun damage. moreover, you should begin by applying retinol 3 times a week and then gradually increase the frequency. this is due to the strength of retinol. by increasing the frequency gradually, you allow your skin to become familiar with the product, therefore minimising irritation. to help soothe potential dryness or irritation. as well as this, in the morning, make sure to apply spf30+. this will protect your skin from the potential sun damage that retinol can lead to. over time, sleep can change the shape and appearance of your skin. this is because your face is compressed into your pillow every night for multiple hours. ultimately, this can flatten the surface of your skin and cause wrinkles to form. therefore, it is important to change your pillows every 1-2 years to help enhance the support for your skin. moisturiser should always be applied first. as a result, this allows the moisturiser to penetrate into the skin before spf application. also, spf should always be the final step in your skincare routine as it is a thicker consistency, so it must not overshadow the thinner products. spf is a vital part of any skincare routine and should be the last step. it’s even important on days when the sun is not as abrasive. even in the winter months, dangerous uv rays can still penetrate through clouds, and even windows, making you vulnerable to harsh skin damage. this is especially the case if your skin is not fully protected. sun damage can lead to dark spots, wrinkles and in some cases, skin cancer. spf needs to be applied daily! anxiety-induced breakouts are very common and are often caused by excess oil secretion brought on by our body’s stress response. as well as learning psychological techniques to cope with stress and anxiety, you may also benefit from using bhas, such as salicylic acid. these help break down the excess oil found in inflamed or clogged pores. additionally, using products containing benzoyl peroxide is a great way to fight against the bacteria that causes acne. this helps to keep future breakouts at bay. there are a variety of different treatments and products that help to improve the skin’s elasticity and tighten the overall surface. for example, ingredients such as aloe vera contain malic acid, which helps to create plumper and younger looking skin. moreover, techniques such as lymphatic massage, use specialist tools to increase blood circulation around affected areas, creating firmer skin. lastly, products such as retinol serums offer incredible anti-aging results, helping more attractive skin to form over time. blackheads form when excess hair and oil become clogged in an open pore. the most effective way to remove blackheads is by getting a high-quality facial treatment.a great example is a chemical peel. this is because chemical peels, especially those that use salicylic acid, help to exfoliate the skin and unclog affected pores, giving you a clearer and blemish-free complexion. toners are products that are used to remove excess oil, makeup and dirt. in reality, toners are not necessary, especially if you are using an effective cleanser. this is because they can often lead to dryness or irritation. however, toners do help to shrink the size of enlarged pores, which is helpful for those with an oily skin type or acne-prone skin. acne scars are extremely common but luckily usually require little to no treatment. however, if you suffer from serious acne, or have a compulsion to pick your spots, acne scarring can occur more intensely. there’s a range of treatments which help to reduce and remove acne scars, as well as things you can do to help get rid of them yourself. using salicylic acid and lactic acid which help to exfoliate the skin. retinol products are also a great way to increase skin cell turnover, helping to reduce scarring. dry skin is a common skin concern which is easily treatable at home. all you need to do is improve your skincare routine. for example, try using a natural moisturiser that contains no irritants. an example of a good natural moisturiser is pure aloe vera gel. adding on to this, wash your face twice a day with a gentle cleanser to help wash away any dirt or unwanted dead skin. make sure to exfoliate once a week to help remove excess dry skin and encourage increased cell turnover. the osmosis acne healing treatment uses a 2% vitamin a infusion to restore the quality of the epidermis and allow for complete hydro-lipid balance. as a result, this treatment reduces harsh inflammation and leaves you with a clearer and brighter complexion. vitamin c serums offer a multitude of benefits when incorporated into both your morning and evening skincare routine.using a vitamin c serum as part of your morning skincare routine means that your skin is better able to neutralise harmful free radicals. these can build up throughout the day and tear down much-needed skin collagen. on the other hand, when using vitamin c serums as part of your evening routine, you can avoid the risk of dangerous photosensitivity. this is because vitamin c can make skin more sensitive to sunlight. a natural part of getting older, but there are some things you can do to help stop your skin from aging prematurely. first of all, apply sunscreen every day to protect your skin against harmful sun damage. sun damage can lead to the formation of wrinkles and dark spots. it is also recommended that you use gentle cleansers to avoid unnecessary dryness or irritation, which can cause the skin to become inflamed. collagen supplements, such as skinade, are another great way to combat skin aging. as we age, collagen production decreases at a rate of 1% per year. resultantly, this causes signs of aging including sagging skin, dullness, wrinkles, and dryness. collagen supplements target and reverse these effects. you begin using anti-aging products in your 20s and continue to incorporate them as part of your daily skincare routine. this is because your skin stops producing collagen in your 20s. resultantly, anti-aging products offer preventative measures against the visible signs of aging. acne can be caused by excess sebum oil and clogged pores. doctors aren’t sure why some people get acne and others do not, but some research suggests that hormone levels may play a role acne is most common in young adults with increasing hormone levels, and about 80 percent of people will have at least one [acne] outbreak before age 30. it is less common in older adults, who tend to have steadier hormone levels. since stress can affect hormones, it may also play a role in the development of acne, but so far, there is no definitive evidence that factors such as stress, diet, or light makeup have any links with acne. if you have acne, wash gently with a mild cleanser no more than twice a day; and avoid hard scrubbing, exfoliating, and touching the affected areas. since sun damage increases the risk of skin cancer, as well as skin problems ranging from wrinkles to dark spots, wearing sunscreen on a daily basis is essential. choose a broad-spectrum sunscreen with a minimum sun protection factor (spf) of 15. beyond that, it takes just a few minutes each morning and each evening to do the basics: washing with a gentle cleanser and applying a moisturizer to your face and neck. wrinkles are a natural result of aging, but you can delay their onset or minimize their appearance. to do so, limit sun exposure, wear sunscreen every day, and use skin products that contain antioxidants and retinoids, which can reduce fine lines and wrinkles. uv exposure and hormonal changes are two causes of dark spots. avoiding the sun and wearing sunscreen can prevent new dark spots from forming, while exfoliating regularly or using prescription medications may help treat the existing spots you already have. certain dark spot correctors or moisturizers may also make a difference over time. remember to choose the products that are formulated for your skin type. as your skin loses elasticity and collagen, it naturally begins to appear wrinkled and saggy. by caring for it and focusing on prevention, you can minimize these issues. apply a broad-spectrum sunscreen every day, and consider using eye creams and other topical products that contain retinoids and antioxidants, which can help improve the appearance of wrinkles and sagging skin.be gentle with it! always wash sensitive skin gently, and never use harsh cleansers. avoid products that contain irritating substances. instead, seek out those that are specifically labeled for sensitive skin. yes! if you care about your skin, wearing a broad-spectrum sunscreen with a minimum spf of 15 is the one thing you can do to protect it most. sunscreen helps decrease the risk of skin cancer and other negative effects including wrinkles, fine lines, freckles, and sallowness. an uneven skin tone is caused by an uneven distribution of pigment. sun exposure and hormonal changes can also contribute to this issue. certain serums, creams or moisturizers, especially those that contain vitamin c, can all help to even out your skin tone. it is also possible that your skin can develop an uneven tone due to a buildup of dead skin cells. a lot of skin concerns like blemishes, dullness and dry patches can be solved with double-cleansing. that's because cleansing twice ensures all dirt, makeup and dead skin cells are removed leaving skin glowing and ready to absorb any skincare your apply afterwards. start by cleansing with a balm or butter that will dissolve makeup and dirt. remove it with a cloth and you'll be giving your skin a gentle exfoliation, too! follow with the same cleanser, or opt for something lighter like a toner, gel face wash or micellar to remove any lasting residue.. vitamin c protects your skin from environmental aggressors, brightens your complexion, fades unwanted pigmentation and triggers collagen production to lessen the appearance of fine lines. eye creams are designed to be used on the thinner skin around the eye, they're not too heavy and have just the right cocktail of ingredients to tackle issues like puffiness, fine lines and dark circles. exfoliation is great for removing dull dead skin cells that leave your complexion looking lacklustre, it clears the way so your other skincare products work better and exfoliating can prevent pores from becoming clogged. serums are lighter weight in texture which means they can drive the active ingredients like hydrating hyaluronic acid, firming peptides and more, deeper into your skin. most moisturisers trap nourish the skin, repair the skin barrier and trap moisture inside. simple skincare routine -cleanse your skin using a mild cleanser, use an alcohol-free toner and then moisturize your skin with a nourishing moisturizer. the three-step routine will keep your skin healthy. yes, you need to moisturize your skin even if you have oily skin. moisturizer is used to improve your skin’s texture and to hydrate your skin. if you have oily skin, you can use oil-free moisturizer to avoid greasy and shiny looking skin. the best way to deal with sensitive skin is to be gentle with it. do not use harsh cleanser or any kind of harsh products that might have irritating substances. always opt for products that suit your skin and specifically formulated for sensitive skin. to avoid brown spots, you need to start using a sunscreen. but if you already have spots due to the exposure to harsh sunlight, you can use an exfoliating agent or a natural skin-lightening product to lighten the brown sun spots. by limiting the exposure to heat and sun, and protecting the skin with sunscreen will help in reducing the brown sun spots. while we all wash the sleep out of our faces every morning, we often forget to do so before we dive head-first into our pillow at night. but washing your face at night is actually more impactful than doing it in the morning. why? because, as you sleep, bacteria accumulate on your skin and can do some damaging work like breaking you out or discoloring your skin. now, imagine how much bacteria will pile up if you go through your entire day doing what you do (resting your face on things, touching your face with dirty hands, getting food on your face, etc.) and you don’t wash your face before going to sleep. not a good situation. cleansing is the first and most important step of your daily skincare routine. a good face wash for summer is the one that takes away the oiliness from your skin without leaving it too dry. everyuth’s lemon cherry face wash is the best face wash for oily skin. the lemon and cherry face wash is made of natural ingredients like lemon which are rich in vitamin c. the antioxidants of vitamin c are rich in collagen which helps your skin look younger. additionally, the brightening cherry extracts nourish the skin and make sure it looks fresh and clean. the lemon cherry face wash is also a great face wash for dry skin as it does not steal away the skin’s essential oils. it is easily one of the best face washes in summers. exfoliation is the process of removing dead skin cells, blackheads, whiteheads and any other residual grime from the surface of your skin. while getting rid of dead skin cells is a regular process for your skin there are times when all the dead skin cells don’t shed off. the dead skin cells that stay back on your skin’s surface then block your skin from breathing thereby causing acne and breakouts. exfoliation, therefore, becomes essential at least once or twice a week.p.s. use a gentle scrub like everyuth’s walnut face scrub and don’t be too harsh on your skin. it’s the summer and your skin is oily does not mean that you skip the hydration. your skin still needs to be moisturized because sweating causes your skin to lose moisture. use a lightweight moisturizer if your skin is super-oily but completely missing this step is a big no. makeup prevents your skin from breathing. when you apply layers and layers of makeup, it blocks your pores, aggravating acne, breakouts and pimples. so, go lighter on your makeup routine, especially on days when you are going to be stepping out for a longer duration. the basic of every good skincare routine is definitely a good face wash. and if you have acne-prone skin then a pimple clear face wash is what you need to ensure you are starting off on the right note. a face wash for pimples is specially made with ingredients that are packed to fight acne-causing bacteria. the everyuth tulsi turmeric face wash is filled with the goodness of tulsi and turmeric – two of the best ingredients gifted to us by nature. it is the best face wash for acne and pimples owing to its ability to not only fight bacteria but also nourish your skin. one of the primary reasons for acne is when excess sebum secretion causes our skin to become oily. the excess sebum blocks our skin’s pores and makes it difficult for our skin to breathe. this causes acne, whiteheads and blackheads. the tulsi turmeric face wash is the perfect face wash for oily skin and acne as it keeps your skin’s oiliness in check without stealing away its essential oils. deep cleans your skin: tulsi is known for years to help clean your pores and remove the build-up like pollution, dust, grime and more.anti-bacterial, anti-fungal and anti-inflammatory: the holy basil is known for its ability to fight bacteria and fungus. moreover, its anti-inflammatory property helps to fight cystic acne controls oil production: tulsi contains camphene which works as a natural toner to remove excess oil from the skin. this is how it can help prevent the clogging of pores. turmeric contains curcuminoids, a compound that has anti-inflammatory, anti-microbial and antioxidant properties. this helps in fighting skin infections, especially acne.turmeric is also known for its healing properties, so when you are curing acne or any inflammation on the skin, turmeric can help heal it faster. sunscreen for oily skin type: neutrogena spf 50, https://www.amazon.in/neutrogena-ultra-sheer-dry-touch-sunblock/dp/b00g7rtyt8. \""
            ],
            "application/vnd.google.colaboratory.intrinsic+json": {
              "type": "string"
            }
          },
          "metadata": {},
          "execution_count": 62
        }
      ]
    },
    {
      "cell_type": "code",
      "source": [
        "#converting text into sentences and words\n",
        "corpus_sentences=nltk.sent_tokenize(corpus_text)\n",
        "corpus_words=nltk.word_tokenize(corpus_text)\n",
        "print(corpus_words)"
      ],
      "metadata": {
        "colab": {
          "base_uri": "https://localhost:8080/"
        },
        "id": "fHmnRvmFiIu_",
        "outputId": "edc18a47-a507-4588-9878-eb66fea1a107"
      },
      "execution_count": 63,
      "outputs": [
        {
          "output_type": "stream",
          "name": "stdout",
          "text": [
            "['dry', 'vs', 'dehydrated', 'skin', 'is', 'a', 'common', 'subject', 'of', 'confusion', 'for', 'a', 'lot', 'of', 'people', '.', 'dry', 'skin', 'is', 'a', 'skin', 'type', ',', 'which', 'lacks', 'proper', 'levels', 'of', 'oil', '.', 'it', 'will', 'often', 'have', 'an', 'uneven', 'tone', ',', 'small', 'pores', ',', 'feel', 'itchy', 'and', 'have', 'a', 'flaky', 'appearance', '.', 'to', 'soothe', 'dry', 'skin', ',', 'include', 'emollients', ',', 'ceramides', ',', 'mineral', 'oils', 'and', 'squalane', '.', 'dehydrated', 'skin', 'on', 'the', 'other', 'hand', ',', 'is', 'a', 'skin', 'condition', 'that', 'lacks', 'proper', 'levels', 'of', 'hydration', '.', 'it', 'will', 'have', 'a', 'dull', 'appearance', 'and', 'feel', 'tight', '.', 'ingredients', 'you', 'should', 'be', 'including', 'in', 'your', 'skincare', 'routine', 'are', 'hyaluronic', 'acid', ',', 'glycerin', ',', 'antioxidants', '.', 'everyone', 'should', 'be', 'using', 'and', 'can', 'benefit', 'from', 'incorporating', 'three', 'specific', 'products', 'into', 'their', 'daily', 'routine', '.', 'these', 'three', 'products', 'are', 'a', 'vitamin', 'c', 'serum', '(', 'of', 'no', 'less', 'than', '10', '%', 'l-ascorbic', 'acid', ')', ',', 'a', 'retinol', 'product', ',', 'and', 'a', 'quality', 'broad-spectrum', 'sunscreen', '.', 'frequency', 'you', 'should', 'be', 'exfoliating', 'will', 'be', 'based', 'off', 'of', 'if', 'your', 'skin', 'type', 'can', 'tolerate', 'it', '.', 'for', 'dry', 'and', 'sensitive', 'skin', 'once', 'every', '10', 'days', 'is', 'sufficient', ',', 'normal', 'to', 'combination', 'skin', 'once', 'a', 'week', ',', 'oily', 'skin', 'should', 'exfoliate', '2-3', 'times', 'a', 'week', '.', 'more', 'aggressive', 'exfoliation', 'such', 'as', 'chemical', 'peels', 'or', 'microdermabrasion', ',', 'should', 'be', 'performed', 'every', '4-6', 'weeks', '.', 'skincare', 'products', 'should', 'be', 'applied', 'to', 'your', 'face', ',', 'but', 'did', 'you', 'know', 'you', 'should', 'also', 'be', 'applying', 'serums', 'and', 'creams', 'to', 'your', 'neck', ',', 'décolleté', 'and', 'hands', '.', 'these', 'are', 'also', 'areas', 'that', 'show', 'signs', 'of', 'aging', ',', 'so', 'they', 'are', 'equally', 'important', 'to', 'treat', 'and', 'take', 'care', 'of', '.', 'it', 'is', 'so', 'detrimental', 'to', 'begin', 'proper', 'anti-aging', 'skincare', 'by', 'your', 'late', 'twenties', '!', 'this', 'allows', 'proper', 'cellular', 'changes', 'to', 'be', 'made', 'to', 'aid', 'in', 'the', 'prevention', 'of', 'early', 'signs', 'of', 'aging', '.', 'treatment', 'options', 'include', 'light', 'therapy', '(', 'such', 'as', 'broad', 'band', 'light', 'treatments', ')', ',', 'micro-needling', 'and', 'medical', 'grade', 'chemical', 'peels', '.', 'we', 'also', 'have', 'medical', 'grade', 'skincare', 'options', 'with', 'active', 'ingredients', 'that', 'can', 'help', 'to', 'reduce', 'the', 'overall', 'appearance', 'of', 'pigmentation', 'in', 'the', 'skin', '.', 'yes', '!', 'the', 'skin', 'under', 'your', 'eye', 'is', 'much', 'thinner', 'and', 'more', 'sensitive', 'than', 'the', 'skin', 'on', 'the', 'rest', 'of', 'your', 'face', ',', 'meaning', 'it', 'requires', 'more', 'support', '.', 'when', 'choosing', 'an', 'undereye', 'cream', ',', 'look', 'for', 'products', 'that', 'include', 'antioxidants', ',', 'vitamins', ',', 'hyaluronic', 'acid', ',', 'and', 'possibly', 'a', 'low', 'percentage', 'retinol', '.', 'retinol', '(', 'or', 'vitamin', 'a', ')', 'is', 'a', 'well-loved', 'ingredient', 'due', 'to', 'its', 'ability', 'to', 'speed', 'skin', 'cell', 'turnover', 'and', 'boost', 'collagen', 'production', '.', 'while', 'sensitive', 'skin', 'can', 'use', 'a', 'retinol', 'product', ',', 'it', 'can', 'lead', 'to', 'flakiness', 'and', 'the', 'feeling', 'of', 'dryness', 'in', 'the', 'skin', '.', 'to', 'counter', 'this', ',', 'it', 'is', 'suggested', 'to', 'incorporate', 'a', 'hyaluronic', 'acid', 'and', 'proper', 'moisturizer', 'into', 'your', 'routine', '.', 'the', 'percentage', 'of', 'retinol', 'as', 'well', 'as', 'the', 'frequency', 'of', 'application', 'weekly', 'should', 'be', 'adjusted', 'to', 'suit', 'your', 'skin', 'type', '.', 'if', 'you', 'are', 'still', 'finding', 'the', 'usage', 'harsh', ',', 'consult', 'with', 'your', 'skincare', 'professional', 'for', 'alternative', 'options', 'that', 'are', 'best', 'suited', 'for', 'your', 'skin', 'type', '.', 'one', 'important', 'thing', 'to', 'remember', 'when', 'it', 'comes', 'to', 'skincare', 'products', 'is', 'to', 'be', 'consistent', 'and', 'patient', '.', 'you', 'have', 'to', 'remember', 'that', 'your', 'cellular', 'turnover', '(', 'how', 'quickly', 'dead', 'cells', 'shed', 'and', 'new', 'cells', 'surface', ')', 'is', 'at', 'minimum', '28', 'days', 'and', 'this', 'rate', 'slows', 'as', 'we', 'age', '.', 'a', 'general', 'rule', 'of', 'thumb', ',', 'is', 'to', 'expect', 'to', 'begin', 'to', 'see', 'changes', 'from', 'new', 'skincare', 'at', 'a', 'minimum', 'of', '4', 'weeks', 'from', 'starting', 'use', '.', 'of', 'course', ',', 'depending', 'on', 'the', 'product', 'itself', ',', 'it', 'may', 'actually', 'take', 'a', 'little', 'longer', 'to', 'notice', 'significant', 'change', '.', 'serums', 'are', 'meant', 'to', 'be', 'applied', 'before', 'moisturizer', 'because', 'their', 'molecular', 'sizes', 'are', 'different', '.', 'serums', 'are', 'a', 'more', 'fluid', 'product', 'with', 'a', 'smaller', 'molecular', 'size', 'which', 'allows', 'it', 'to', 'penetrate', 'deeper', 'into', 'your', 'skin', 'layers', '.', 'creams', 'and', 'moisturizers', 'have', 'a', 'larger', 'molecule', 'size', ',', 'which', 'means', 'they', 'more', 'so', 'sit', 'on', 'the', 'top', 'layer', 'of', 'skin', '.', 'the', 'proper', 'order', 'of', 'skincare', 'application', 'can', 'vary', 'depending', 'on', 'products', 'being', 'used', '.', 'typically', ',', 'for', 'morning', 'skincare', 'i', 'recommend', ':', 'cleanser', ',', 'toner', ',', 'antioxidant', 'serum', ',', 'hydrating', 'serum', ',', 'eye', 'cream', ',', 'moisturizer', ',', 'sunscreen', '.', 'for', 'a', 'nightly', 'routine', 'i', 'suggest', ':', 'an', 'oil-based', 'cleanser', ',', 'water-based', 'cleanser', ',', 'toner', ',', 'targeted', 'serum', ',', 'eye', 'cream', ',', 'retinol', ',', 'moisturizer', '.', 'the', 'biggest', 'misconception', 'that', 'i', 'have', 'noticed', 'with', 'acne', 'is', 'that', '“', 'drying', 'out', '”', 'your', 'skin', 'will', 'diminish', 'your', 'acne', '.', 'by', 'over', 'exfoliating', 'or', 'harshly', 'diminishing', 'the', 'oils', 'in', 'your', 'skins', 'protective', 'barrier', ',', 'you', 'are', 'actually', 'creating', 'more', 'of', 'a', 'problem', '.', 'by', 'doing', 'this', ',', 'your', 'sebaceous', 'glands', 'will', 'over', 'produce', 'oil', 'to', 'compensate', 'for', 'the', 'sudden', 'loss', ',', 'furthering', 'your', 'breakouts', '.', 'when', 'treating', 'skin', 'conditions', ',', 'you', 'should', 'receive', 'a', 'professional', 'facial', 'once', 'within', 'your', 'cell', 'turnover', 'cycle', '(', 'this', 'means', 'once', 'every', '4-6', 'weeks', 'depending', 'on', 'your', 'age', ')', '.', 'if', 'you', 'find', 'your', 'skin', 'is', 'fully', 'balanced', ',', 'and', 'you', 'have', 'no', 'skin', 'conditions', 'needing', 'to', 'be', 'treated', ',', 'a', 'facial', 'once', 'a', 'season', 'is', 'an', 'acceptable', 'practice', '.', 'your', 'skins', 'health', 'and', 'condition', 'can', 'be', 'attributed', 'to', 'many', 'factors', '.', 'one', 'of', 'them', 'being', 'the', 'foods', 'we', 'intake', '.', 'surprisingly', ',', 'there', 'are', 'a', 'number', 'of', 'foods', 'linked', 'to', 'causing', 'hormonal', 'changes', 'in', 'your', 'body', '.', 'some', 'of', 'these', 'may', 'be', ':', 'milk', 'products', ',', 'peanut', 'products', ',', 'and', 'animal', 'products', '.', 'if', 'you', 'are', 'noticing', 'consistent', 'issues', 'with', 'your', 'skin', '.', 'yes', 'there', 'are', 'skincare', 'products', 'to', 'avoid', 'while', 'pregnant', '.', 'ruling', 'out', 'toxic', 'skincare', 'is', 'especially', 'important', 'especially', 'while', 'pregnant', '.', 'some', 'harmful', 'ingredients', 'you', 'must', 'watch', 'out', 'for', 'are', 'phthalates', ',', 'sulfates', ',', 'parabens', ',', 'bha', '’', 's', ',', 'silicones', ',', 'and', 'synthetic', 'fragrances', '.', 'additionally', ',', 'avoid', 'high', 'doses', 'of', 'retinol', ',', 'salicylic', 'acid', ',', 'and', 'benzoyl', 'peroxide', ',', 'as', 'these', 'may', 'cause', 'harm', 'to', 'the', 'baby', '.', 'you', 'can', 'not', 'change', 'the', 'actual', 'size', 'of', 'your', 'pores', ',', 'as', 'your', 'pore', 'size', 'is', 'genetic', '.', 'what', 'you', 'can', 'do', 'is', 'keep', 'your', 'pores', 'tight', 'and', 'clean', 'through', 'treatment', 'and', 'proper', 'skincare', '.', 'by', 'doing', 'this', ',', 'it', 'gives', 'the', 'overall', 'appearance', 'of', 'smaller', 'pores', 'because', 'they', 'are', 'not', 'nearly', 'as', 'noticeable', '.', 'you', 'should', 'always', 'receive', 'a', 'thorough', 'skin', 'analysis', 'from', 'a', 'professional', 'to', 'assess', 'skin', 'type', 'and', 'any', 'existing', 'conditions', ',', 'but', 'there', 'are', 'some', 'key', 'factors', 'when', 'trying', 'to', 'determine', 'this', 'yourself', 'at', 'home', '.', 'think', 'about', 'how', 'your', 'skin', 'feels', 'when', 'you', 'wake', 'up', 'in', 'the', 'morning', '.', 'if', 'it', '’', 's', 'generally', 'tight', 'and', 'flaky', ',', 'it', '’', 's', 'likely', 'to', 'be', 'dry', '.', 'oily', 'skin', 'usually', 'has', 'larger', 'pores', 'and', 'looks', 'shiny', 'and', 'glossy', 'all', 'over', '.', 'combination', 'skin', 'will', 'usually', 'have', 'an', 'oily', 't-zone', 'with', 'large', 'pores', ',', 'while', 'the', 'rest', 'of', 'the', 'face', 'is', 'dry', 'and', 'the', 'pores', 'are', 'smaller', '.', 'lastly', ',', 'normal', 'skin', 'feels', 'overall', 'even', 'and', 'balanced.the', 'most', 'common', 'skin', 'types', 'are', 'dry', ',', 'combination', ',', 'and', 'oily', '.', 'commonly', ',', 'dry', 'skin', 'causes', 'feelings', 'of', 'tightness', 'around', 'the', 'eyes', 'and', 'mouth', ',', 'as', 'well', 'as', 'patches', 'of', 'flaky', 'skin', 'around', 'the', 'cheek', 'area', ',', 'combination', 'skin', 'presents', 'a', 'shine', 'on', 'the', 'nose', 'and', 'forehead', 'and', 'also', 'includes', 'dry', 'patches', 'on', 'the', 'cheek', 'area', 'whereas', 'oily', 'skin', 'is', 'generally', 'soft', 'and', 'greasy', 'to', 'the', 'touch', 'and', 'gives', 'the', 'cheeks', 'an', 'overly', 'shiny', 'surface', '.', 'you', 'should', 'wash', 'your', 'face', 'twice', 'daily', ',', 'preferably', 'with', 'a', 'gentle', 'cleanser', '.', 'this', 'is', 'because', 'bacteria', 'builds', 'up', 'in', 'your', 'skin', 'overnight', ',', 'so', 'it', 'is', 'important', 'to', 'wash', 'it', 'off', 'in', 'the', 'morning', '.', 'washing', 'your', 'face', 'in', 'the', 'morning', 'also', 'acts', 'as', 'a', 'great', 'primer', 'before', 'applying', 'your', 'morning', 'skincare', 'routine', '.', 'you', 'should', 'always', 'wash', 'your', 'face', 'before', 'you', 'go', 'to', 'bed', 'dirt', ',', 'makeup', ',', 'and', 'environmental', 'toxins', 'accumulate', 'on', 'your', 'face', 'throughout', 'the', 'day', '.', 'washing', 'your', 'face', 'at', 'night', 'removes', 'these', 'impurities', 'and', 'stops', 'pores', 'from', 'becoming', 'clogged', '.', 'vitamin', 'c', 'is', 'a', 'nutrient', 'found', 'in', 'the', 'body', 'that', 'has', 'advantageous', 'effects', 'when', 'consumed', 'as', 'part', 'of', 'a', 'balanced', 'diet', '.', 'many', 'people', 'also', 'apply', 'it', 'topically', '.', 'vitamin', 'c', 'has', 'incredible', 'anti-aging', 'effects', ',', 'as', 'it', 'can', 'reduce', 'the', 'appearance', 'of', 'fine', 'lines', 'and', 'wrinkles', '.', 'as', 'well', 'as', 'this', ',', 'due', 'to', 'its', 'powerful', 'antioxidant', 'properties', ',', 'it', 'protects', 'the', 'skin', 'from', 'free', 'radical', 'damage', ',', 'this', 'means', 'it', 'prevents', 'premature', 'skin', 'aging', '.', 'furthermore', ',', 'vitamin', 'c', 'enhances', 'collagen', 'production', 'and', 'helps', 'to', 'create', 'tighter', 'and', 'younger', 'looking', 'skin', 'overall', '.', 'retinol', 'appears', 'in', 'night-time', 'skincare', 'routines', '.', 'this', 'is', 'because', 'this', 'powerful', 'substance', 'removes', 'dead', 'skin', 'cells', 'from', 'the', 'upper', 'layer', 'of', 'the', 'skin', '’', 's', 'surface', '.', 'this', 'resultantly', 'makes', 'skin', 'more', 'vulnerable', 'to', 'sun', 'damage', '.', 'moreover', ',', 'you', 'should', 'begin', 'by', 'applying', 'retinol', '3', 'times', 'a', 'week', 'and', 'then', 'gradually', 'increase', 'the', 'frequency', '.', 'this', 'is', 'due', 'to', 'the', 'strength', 'of', 'retinol', '.', 'by', 'increasing', 'the', 'frequency', 'gradually', ',', 'you', 'allow', 'your', 'skin', 'to', 'become', 'familiar', 'with', 'the', 'product', ',', 'therefore', 'minimising', 'irritation', '.', 'to', 'help', 'soothe', 'potential', 'dryness', 'or', 'irritation', '.', 'as', 'well', 'as', 'this', ',', 'in', 'the', 'morning', ',', 'make', 'sure', 'to', 'apply', 'spf30+', '.', 'this', 'will', 'protect', 'your', 'skin', 'from', 'the', 'potential', 'sun', 'damage', 'that', 'retinol', 'can', 'lead', 'to', '.', 'over', 'time', ',', 'sleep', 'can', 'change', 'the', 'shape', 'and', 'appearance', 'of', 'your', 'skin', '.', 'this', 'is', 'because', 'your', 'face', 'is', 'compressed', 'into', 'your', 'pillow', 'every', 'night', 'for', 'multiple', 'hours', '.', 'ultimately', ',', 'this', 'can', 'flatten', 'the', 'surface', 'of', 'your', 'skin', 'and', 'cause', 'wrinkles', 'to', 'form', '.', 'therefore', ',', 'it', 'is', 'important', 'to', 'change', 'your', 'pillows', 'every', '1-2', 'years', 'to', 'help', 'enhance', 'the', 'support', 'for', 'your', 'skin', '.', 'moisturiser', 'should', 'always', 'be', 'applied', 'first', '.', 'as', 'a', 'result', ',', 'this', 'allows', 'the', 'moisturiser', 'to', 'penetrate', 'into', 'the', 'skin', 'before', 'spf', 'application', '.', 'also', ',', 'spf', 'should', 'always', 'be', 'the', 'final', 'step', 'in', 'your', 'skincare', 'routine', 'as', 'it', 'is', 'a', 'thicker', 'consistency', ',', 'so', 'it', 'must', 'not', 'overshadow', 'the', 'thinner', 'products', '.', 'spf', 'is', 'a', 'vital', 'part', 'of', 'any', 'skincare', 'routine', 'and', 'should', 'be', 'the', 'last', 'step', '.', 'it', '’', 's', 'even', 'important', 'on', 'days', 'when', 'the', 'sun', 'is', 'not', 'as', 'abrasive', '.', 'even', 'in', 'the', 'winter', 'months', ',', 'dangerous', 'uv', 'rays', 'can', 'still', 'penetrate', 'through', 'clouds', ',', 'and', 'even', 'windows', ',', 'making', 'you', 'vulnerable', 'to', 'harsh', 'skin', 'damage', '.', 'this', 'is', 'especially', 'the', 'case', 'if', 'your', 'skin', 'is', 'not', 'fully', 'protected', '.', 'sun', 'damage', 'can', 'lead', 'to', 'dark', 'spots', ',', 'wrinkles', 'and', 'in', 'some', 'cases', ',', 'skin', 'cancer', '.', 'spf', 'needs', 'to', 'be', 'applied', 'daily', '!', 'anxiety-induced', 'breakouts', 'are', 'very', 'common', 'and', 'are', 'often', 'caused', 'by', 'excess', 'oil', 'secretion', 'brought', 'on', 'by', 'our', 'body', '’', 's', 'stress', 'response', '.', 'as', 'well', 'as', 'learning', 'psychological', 'techniques', 'to', 'cope', 'with', 'stress', 'and', 'anxiety', ',', 'you', 'may', 'also', 'benefit', 'from', 'using', 'bhas', ',', 'such', 'as', 'salicylic', 'acid', '.', 'these', 'help', 'break', 'down', 'the', 'excess', 'oil', 'found', 'in', 'inflamed', 'or', 'clogged', 'pores', '.', 'additionally', ',', 'using', 'products', 'containing', 'benzoyl', 'peroxide', 'is', 'a', 'great', 'way', 'to', 'fight', 'against', 'the', 'bacteria', 'that', 'causes', 'acne', '.', 'this', 'helps', 'to', 'keep', 'future', 'breakouts', 'at', 'bay', '.', 'there', 'are', 'a', 'variety', 'of', 'different', 'treatments', 'and', 'products', 'that', 'help', 'to', 'improve', 'the', 'skin', '’', 's', 'elasticity', 'and', 'tighten', 'the', 'overall', 'surface', '.', 'for', 'example', ',', 'ingredients', 'such', 'as', 'aloe', 'vera', 'contain', 'malic', 'acid', ',', 'which', 'helps', 'to', 'create', 'plumper', 'and', 'younger', 'looking', 'skin', '.', 'moreover', ',', 'techniques', 'such', 'as', 'lymphatic', 'massage', ',', 'use', 'specialist', 'tools', 'to', 'increase', 'blood', 'circulation', 'around', 'affected', 'areas', ',', 'creating', 'firmer', 'skin', '.', 'lastly', ',', 'products', 'such', 'as', 'retinol', 'serums', 'offer', 'incredible', 'anti-aging', 'results', ',', 'helping', 'more', 'attractive', 'skin', 'to', 'form', 'over', 'time', '.', 'blackheads', 'form', 'when', 'excess', 'hair', 'and', 'oil', 'become', 'clogged', 'in', 'an', 'open', 'pore', '.', 'the', 'most', 'effective', 'way', 'to', 'remove', 'blackheads', 'is', 'by', 'getting', 'a', 'high-quality', 'facial', 'treatment.a', 'great', 'example', 'is', 'a', 'chemical', 'peel', '.', 'this', 'is', 'because', 'chemical', 'peels', ',', 'especially', 'those', 'that', 'use', 'salicylic', 'acid', ',', 'help', 'to', 'exfoliate', 'the', 'skin', 'and', 'unclog', 'affected', 'pores', ',', 'giving', 'you', 'a', 'clearer', 'and', 'blemish-free', 'complexion', '.', 'toners', 'are', 'products', 'that', 'are', 'used', 'to', 'remove', 'excess', 'oil', ',', 'makeup', 'and', 'dirt', '.', 'in', 'reality', ',', 'toners', 'are', 'not', 'necessary', ',', 'especially', 'if', 'you', 'are', 'using', 'an', 'effective', 'cleanser', '.', 'this', 'is', 'because', 'they', 'can', 'often', 'lead', 'to', 'dryness', 'or', 'irritation', '.', 'however', ',', 'toners', 'do', 'help', 'to', 'shrink', 'the', 'size', 'of', 'enlarged', 'pores', ',', 'which', 'is', 'helpful', 'for', 'those', 'with', 'an', 'oily', 'skin', 'type', 'or', 'acne-prone', 'skin', '.', 'acne', 'scars', 'are', 'extremely', 'common', 'but', 'luckily', 'usually', 'require', 'little', 'to', 'no', 'treatment', '.', 'however', ',', 'if', 'you', 'suffer', 'from', 'serious', 'acne', ',', 'or', 'have', 'a', 'compulsion', 'to', 'pick', 'your', 'spots', ',', 'acne', 'scarring', 'can', 'occur', 'more', 'intensely', '.', 'there', '’', 's', 'a', 'range', 'of', 'treatments', 'which', 'help', 'to', 'reduce', 'and', 'remove', 'acne', 'scars', ',', 'as', 'well', 'as', 'things', 'you', 'can', 'do', 'to', 'help', 'get', 'rid', 'of', 'them', 'yourself', '.', 'using', 'salicylic', 'acid', 'and', 'lactic', 'acid', 'which', 'help', 'to', 'exfoliate', 'the', 'skin', '.', 'retinol', 'products', 'are', 'also', 'a', 'great', 'way', 'to', 'increase', 'skin', 'cell', 'turnover', ',', 'helping', 'to', 'reduce', 'scarring', '.', 'dry', 'skin', 'is', 'a', 'common', 'skin', 'concern', 'which', 'is', 'easily', 'treatable', 'at', 'home', '.', 'all', 'you', 'need', 'to', 'do', 'is', 'improve', 'your', 'skincare', 'routine', '.', 'for', 'example', ',', 'try', 'using', 'a', 'natural', 'moisturiser', 'that', 'contains', 'no', 'irritants', '.', 'an', 'example', 'of', 'a', 'good', 'natural', 'moisturiser', 'is', 'pure', 'aloe', 'vera', 'gel', '.', 'adding', 'on', 'to', 'this', ',', 'wash', 'your', 'face', 'twice', 'a', 'day', 'with', 'a', 'gentle', 'cleanser', 'to', 'help', 'wash', 'away', 'any', 'dirt', 'or', 'unwanted', 'dead', 'skin', '.', 'make', 'sure', 'to', 'exfoliate', 'once', 'a', 'week', 'to', 'help', 'remove', 'excess', 'dry', 'skin', 'and', 'encourage', 'increased', 'cell', 'turnover', '.', 'the', 'osmosis', 'acne', 'healing', 'treatment', 'uses', 'a', '2', '%', 'vitamin', 'a', 'infusion', 'to', 'restore', 'the', 'quality', 'of', 'the', 'epidermis', 'and', 'allow', 'for', 'complete', 'hydro-lipid', 'balance', '.', 'as', 'a', 'result', ',', 'this', 'treatment', 'reduces', 'harsh', 'inflammation', 'and', 'leaves', 'you', 'with', 'a', 'clearer', 'and', 'brighter', 'complexion', '.', 'vitamin', 'c', 'serums', 'offer', 'a', 'multitude', 'of', 'benefits', 'when', 'incorporated', 'into', 'both', 'your', 'morning', 'and', 'evening', 'skincare', 'routine.using', 'a', 'vitamin', 'c', 'serum', 'as', 'part', 'of', 'your', 'morning', 'skincare', 'routine', 'means', 'that', 'your', 'skin', 'is', 'better', 'able', 'to', 'neutralise', 'harmful', 'free', 'radicals', '.', 'these', 'can', 'build', 'up', 'throughout', 'the', 'day', 'and', 'tear', 'down', 'much-needed', 'skin', 'collagen', '.', 'on', 'the', 'other', 'hand', ',', 'when', 'using', 'vitamin', 'c', 'serums', 'as', 'part', 'of', 'your', 'evening', 'routine', ',', 'you', 'can', 'avoid', 'the', 'risk', 'of', 'dangerous', 'photosensitivity', '.', 'this', 'is', 'because', 'vitamin', 'c', 'can', 'make', 'skin', 'more', 'sensitive', 'to', 'sunlight', '.', 'a', 'natural', 'part', 'of', 'getting', 'older', ',', 'but', 'there', 'are', 'some', 'things', 'you', 'can', 'do', 'to', 'help', 'stop', 'your', 'skin', 'from', 'aging', 'prematurely', '.', 'first', 'of', 'all', ',', 'apply', 'sunscreen', 'every', 'day', 'to', 'protect', 'your', 'skin', 'against', 'harmful', 'sun', 'damage', '.', 'sun', 'damage', 'can', 'lead', 'to', 'the', 'formation', 'of', 'wrinkles', 'and', 'dark', 'spots', '.', 'it', 'is', 'also', 'recommended', 'that', 'you', 'use', 'gentle', 'cleansers', 'to', 'avoid', 'unnecessary', 'dryness', 'or', 'irritation', ',', 'which', 'can', 'cause', 'the', 'skin', 'to', 'become', 'inflamed', '.', 'collagen', 'supplements', ',', 'such', 'as', 'skinade', ',', 'are', 'another', 'great', 'way', 'to', 'combat', 'skin', 'aging', '.', 'as', 'we', 'age', ',', 'collagen', 'production', 'decreases', 'at', 'a', 'rate', 'of', '1', '%', 'per', 'year', '.', 'resultantly', ',', 'this', 'causes', 'signs', 'of', 'aging', 'including', 'sagging', 'skin', ',', 'dullness', ',', 'wrinkles', ',', 'and', 'dryness', '.', 'collagen', 'supplements', 'target', 'and', 'reverse', 'these', 'effects', '.', 'you', 'begin', 'using', 'anti-aging', 'products', 'in', 'your', '20s', 'and', 'continue', 'to', 'incorporate', 'them', 'as', 'part', 'of', 'your', 'daily', 'skincare', 'routine', '.', 'this', 'is', 'because', 'your', 'skin', 'stops', 'producing', 'collagen', 'in', 'your', '20s', '.', 'resultantly', ',', 'anti-aging', 'products', 'offer', 'preventative', 'measures', 'against', 'the', 'visible', 'signs', 'of', 'aging', '.', 'acne', 'can', 'be', 'caused', 'by', 'excess', 'sebum', 'oil', 'and', 'clogged', 'pores', '.', 'doctors', 'aren', '’', 't', 'sure', 'why', 'some', 'people', 'get', 'acne', 'and', 'others', 'do', 'not', ',', 'but', 'some', 'research', 'suggests', 'that', 'hormone', 'levels', 'may', 'play', 'a', 'role', 'acne', 'is', 'most', 'common', 'in', 'young', 'adults', 'with', 'increasing', 'hormone', 'levels', ',', 'and', 'about', '80', 'percent', 'of', 'people', 'will', 'have', 'at', 'least', 'one', '[', 'acne', ']', 'outbreak', 'before', 'age', '30.', 'it', 'is', 'less', 'common', 'in', 'older', 'adults', ',', 'who', 'tend', 'to', 'have', 'steadier', 'hormone', 'levels', '.', 'since', 'stress', 'can', 'affect', 'hormones', ',', 'it', 'may', 'also', 'play', 'a', 'role', 'in', 'the', 'development', 'of', 'acne', ',', 'but', 'so', 'far', ',', 'there', 'is', 'no', 'definitive', 'evidence', 'that', 'factors', 'such', 'as', 'stress', ',', 'diet', ',', 'or', 'light', 'makeup', 'have', 'any', 'links', 'with', 'acne', '.', 'if', 'you', 'have', 'acne', ',', 'wash', 'gently', 'with', 'a', 'mild', 'cleanser', 'no', 'more', 'than', 'twice', 'a', 'day', ';', 'and', 'avoid', 'hard', 'scrubbing', ',', 'exfoliating', ',', 'and', 'touching', 'the', 'affected', 'areas', '.', 'since', 'sun', 'damage', 'increases', 'the', 'risk', 'of', 'skin', 'cancer', ',', 'as', 'well', 'as', 'skin', 'problems', 'ranging', 'from', 'wrinkles', 'to', 'dark', 'spots', ',', 'wearing', 'sunscreen', 'on', 'a', 'daily', 'basis', 'is', 'essential', '.', 'choose', 'a', 'broad-spectrum', 'sunscreen', 'with', 'a', 'minimum', 'sun', 'protection', 'factor', '(', 'spf', ')', 'of', '15.', 'beyond', 'that', ',', 'it', 'takes', 'just', 'a', 'few', 'minutes', 'each', 'morning', 'and', 'each', 'evening', 'to', 'do', 'the', 'basics', ':', 'washing', 'with', 'a', 'gentle', 'cleanser', 'and', 'applying', 'a', 'moisturizer', 'to', 'your', 'face', 'and', 'neck', '.', 'wrinkles', 'are', 'a', 'natural', 'result', 'of', 'aging', ',', 'but', 'you', 'can', 'delay', 'their', 'onset', 'or', 'minimize', 'their', 'appearance', '.', 'to', 'do', 'so', ',', 'limit', 'sun', 'exposure', ',', 'wear', 'sunscreen', 'every', 'day', ',', 'and', 'use', 'skin', 'products', 'that', 'contain', 'antioxidants', 'and', 'retinoids', ',', 'which', 'can', 'reduce', 'fine', 'lines', 'and', 'wrinkles', '.', 'uv', 'exposure', 'and', 'hormonal', 'changes', 'are', 'two', 'causes', 'of', 'dark', 'spots', '.', 'avoiding', 'the', 'sun', 'and', 'wearing', 'sunscreen', 'can', 'prevent', 'new', 'dark', 'spots', 'from', 'forming', ',', 'while', 'exfoliating', 'regularly', 'or', 'using', 'prescription', 'medications', 'may', 'help', 'treat', 'the', 'existing', 'spots', 'you', 'already', 'have', '.', 'certain', 'dark', 'spot', 'correctors', 'or', 'moisturizers', 'may', 'also', 'make', 'a', 'difference', 'over', 'time', '.', 'remember', 'to', 'choose', 'the', 'products', 'that', 'are', 'formulated', 'for', 'your', 'skin', 'type', '.', 'as', 'your', 'skin', 'loses', 'elasticity', 'and', 'collagen', ',', 'it', 'naturally', 'begins', 'to', 'appear', 'wrinkled', 'and', 'saggy', '.', 'by', 'caring', 'for', 'it', 'and', 'focusing', 'on', 'prevention', ',', 'you', 'can', 'minimize', 'these', 'issues', '.', 'apply', 'a', 'broad-spectrum', 'sunscreen', 'every', 'day', ',', 'and', 'consider', 'using', 'eye', 'creams', 'and', 'other', 'topical', 'products', 'that', 'contain', 'retinoids', 'and', 'antioxidants', ',', 'which', 'can', 'help', 'improve', 'the', 'appearance', 'of', 'wrinkles', 'and', 'sagging', 'skin.be', 'gentle', 'with', 'it', '!', 'always', 'wash', 'sensitive', 'skin', 'gently', ',', 'and', 'never', 'use', 'harsh', 'cleansers', '.', 'avoid', 'products', 'that', 'contain', 'irritating', 'substances', '.', 'instead', ',', 'seek', 'out', 'those', 'that', 'are', 'specifically', 'labeled', 'for', 'sensitive', 'skin', '.', 'yes', '!', 'if', 'you', 'care', 'about', 'your', 'skin', ',', 'wearing', 'a', 'broad-spectrum', 'sunscreen', 'with', 'a', 'minimum', 'spf', 'of', '15', 'is', 'the', 'one', 'thing', 'you', 'can', 'do', 'to', 'protect', 'it', 'most', '.', 'sunscreen', 'helps', 'decrease', 'the', 'risk', 'of', 'skin', 'cancer', 'and', 'other', 'negative', 'effects', 'including', 'wrinkles', ',', 'fine', 'lines', ',', 'freckles', ',', 'and', 'sallowness', '.', 'an', 'uneven', 'skin', 'tone', 'is', 'caused', 'by', 'an', 'uneven', 'distribution', 'of', 'pigment', '.', 'sun', 'exposure', 'and', 'hormonal', 'changes', 'can', 'also', 'contribute', 'to', 'this', 'issue', '.', 'certain', 'serums', ',', 'creams', 'or', 'moisturizers', ',', 'especially', 'those', 'that', 'contain', 'vitamin', 'c', ',', 'can', 'all', 'help', 'to', 'even', 'out', 'your', 'skin', 'tone', '.', 'it', 'is', 'also', 'possible', 'that', 'your', 'skin', 'can', 'develop', 'an', 'uneven', 'tone', 'due', 'to', 'a', 'buildup', 'of', 'dead', 'skin', 'cells', '.', 'a', 'lot', 'of', 'skin', 'concerns', 'like', 'blemishes', ',', 'dullness', 'and', 'dry', 'patches', 'can', 'be', 'solved', 'with', 'double-cleansing', '.', 'that', \"'s\", 'because', 'cleansing', 'twice', 'ensures', 'all', 'dirt', ',', 'makeup', 'and', 'dead', 'skin', 'cells', 'are', 'removed', 'leaving', 'skin', 'glowing', 'and', 'ready', 'to', 'absorb', 'any', 'skincare', 'your', 'apply', 'afterwards', '.', 'start', 'by', 'cleansing', 'with', 'a', 'balm', 'or', 'butter', 'that', 'will', 'dissolve', 'makeup', 'and', 'dirt', '.', 'remove', 'it', 'with', 'a', 'cloth', 'and', 'you', \"'ll\", 'be', 'giving', 'your', 'skin', 'a', 'gentle', 'exfoliation', ',', 'too', '!', 'follow', 'with', 'the', 'same', 'cleanser', ',', 'or', 'opt', 'for', 'something', 'lighter', 'like', 'a', 'toner', ',', 'gel', 'face', 'wash', 'or', 'micellar', 'to', 'remove', 'any', 'lasting', 'residue', '..', 'vitamin', 'c', 'protects', 'your', 'skin', 'from', 'environmental', 'aggressors', ',', 'brightens', 'your', 'complexion', ',', 'fades', 'unwanted', 'pigmentation', 'and', 'triggers', 'collagen', 'production', 'to', 'lessen', 'the', 'appearance', 'of', 'fine', 'lines', '.', 'eye', 'creams', 'are', 'designed', 'to', 'be', 'used', 'on', 'the', 'thinner', 'skin', 'around', 'the', 'eye', ',', 'they', \"'re\", 'not', 'too', 'heavy', 'and', 'have', 'just', 'the', 'right', 'cocktail', 'of', 'ingredients', 'to', 'tackle', 'issues', 'like', 'puffiness', ',', 'fine', 'lines', 'and', 'dark', 'circles', '.', 'exfoliation', 'is', 'great', 'for', 'removing', 'dull', 'dead', 'skin', 'cells', 'that', 'leave', 'your', 'complexion', 'looking', 'lacklustre', ',', 'it', 'clears', 'the', 'way', 'so', 'your', 'other', 'skincare', 'products', 'work', 'better', 'and', 'exfoliating', 'can', 'prevent', 'pores', 'from', 'becoming', 'clogged', '.', 'serums', 'are', 'lighter', 'weight', 'in', 'texture', 'which', 'means', 'they', 'can', 'drive', 'the', 'active', 'ingredients', 'like', 'hydrating', 'hyaluronic', 'acid', ',', 'firming', 'peptides', 'and', 'more', ',', 'deeper', 'into', 'your', 'skin', '.', 'most', 'moisturisers', 'trap', 'nourish', 'the', 'skin', ',', 'repair', 'the', 'skin', 'barrier', 'and', 'trap', 'moisture', 'inside', '.', 'simple', 'skincare', 'routine', '-cleanse', 'your', 'skin', 'using', 'a', 'mild', 'cleanser', ',', 'use', 'an', 'alcohol-free', 'toner', 'and', 'then', 'moisturize', 'your', 'skin', 'with', 'a', 'nourishing', 'moisturizer', '.', 'the', 'three-step', 'routine', 'will', 'keep', 'your', 'skin', 'healthy', '.', 'yes', ',', 'you', 'need', 'to', 'moisturize', 'your', 'skin', 'even', 'if', 'you', 'have', 'oily', 'skin', '.', 'moisturizer', 'is', 'used', 'to', 'improve', 'your', 'skin', '’', 's', 'texture', 'and', 'to', 'hydrate', 'your', 'skin', '.', 'if', 'you', 'have', 'oily', 'skin', ',', 'you', 'can', 'use', 'oil-free', 'moisturizer', 'to', 'avoid', 'greasy', 'and', 'shiny', 'looking', 'skin', '.', 'the', 'best', 'way', 'to', 'deal', 'with', 'sensitive', 'skin', 'is', 'to', 'be', 'gentle', 'with', 'it', '.', 'do', 'not', 'use', 'harsh', 'cleanser', 'or', 'any', 'kind', 'of', 'harsh', 'products', 'that', 'might', 'have', 'irritating', 'substances', '.', 'always', 'opt', 'for', 'products', 'that', 'suit', 'your', 'skin', 'and', 'specifically', 'formulated', 'for', 'sensitive', 'skin', '.', 'to', 'avoid', 'brown', 'spots', ',', 'you', 'need', 'to', 'start', 'using', 'a', 'sunscreen', '.', 'but', 'if', 'you', 'already', 'have', 'spots', 'due', 'to', 'the', 'exposure', 'to', 'harsh', 'sunlight', ',', 'you', 'can', 'use', 'an', 'exfoliating', 'agent', 'or', 'a', 'natural', 'skin-lightening', 'product', 'to', 'lighten', 'the', 'brown', 'sun', 'spots', '.', 'by', 'limiting', 'the', 'exposure', 'to', 'heat', 'and', 'sun', ',', 'and', 'protecting', 'the', 'skin', 'with', 'sunscreen', 'will', 'help', 'in', 'reducing', 'the', 'brown', 'sun', 'spots', '.', 'while', 'we', 'all', 'wash', 'the', 'sleep', 'out', 'of', 'our', 'faces', 'every', 'morning', ',', 'we', 'often', 'forget', 'to', 'do', 'so', 'before', 'we', 'dive', 'head-first', 'into', 'our', 'pillow', 'at', 'night', '.', 'but', 'washing', 'your', 'face', 'at', 'night', 'is', 'actually', 'more', 'impactful', 'than', 'doing', 'it', 'in', 'the', 'morning', '.', 'why', '?', 'because', ',', 'as', 'you', 'sleep', ',', 'bacteria', 'accumulate', 'on', 'your', 'skin', 'and', 'can', 'do', 'some', 'damaging', 'work', 'like', 'breaking', 'you', 'out', 'or', 'discoloring', 'your', 'skin', '.', 'now', ',', 'imagine', 'how', 'much', 'bacteria', 'will', 'pile', 'up', 'if', 'you', 'go', 'through', 'your', 'entire', 'day', 'doing', 'what', 'you', 'do', '(', 'resting', 'your', 'face', 'on', 'things', ',', 'touching', 'your', 'face', 'with', 'dirty', 'hands', ',', 'getting', 'food', 'on', 'your', 'face', ',', 'etc', '.', ')', 'and', 'you', 'don', '’', 't', 'wash', 'your', 'face', 'before', 'going', 'to', 'sleep', '.', 'not', 'a', 'good', 'situation', '.', 'cleansing', 'is', 'the', 'first', 'and', 'most', 'important', 'step', 'of', 'your', 'daily', 'skincare', 'routine', '.', 'a', 'good', 'face', 'wash', 'for', 'summer', 'is', 'the', 'one', 'that', 'takes', 'away', 'the', 'oiliness', 'from', 'your', 'skin', 'without', 'leaving', 'it', 'too', 'dry', '.', 'everyuth', '’', 's', 'lemon', 'cherry', 'face', 'wash', 'is', 'the', 'best', 'face', 'wash', 'for', 'oily', 'skin', '.', 'the', 'lemon', 'and', 'cherry', 'face', 'wash', 'is', 'made', 'of', 'natural', 'ingredients', 'like', 'lemon', 'which', 'are', 'rich', 'in', 'vitamin', 'c.', 'the', 'antioxidants', 'of', 'vitamin', 'c', 'are', 'rich', 'in', 'collagen', 'which', 'helps', 'your', 'skin', 'look', 'younger', '.', 'additionally', ',', 'the', 'brightening', 'cherry', 'extracts', 'nourish', 'the', 'skin', 'and', 'make', 'sure', 'it', 'looks', 'fresh', 'and', 'clean', '.', 'the', 'lemon', 'cherry', 'face', 'wash', 'is', 'also', 'a', 'great', 'face', 'wash', 'for', 'dry', 'skin', 'as', 'it', 'does', 'not', 'steal', 'away', 'the', 'skin', '’', 's', 'essential', 'oils', '.', 'it', 'is', 'easily', 'one', 'of', 'the', 'best', 'face', 'washes', 'in', 'summers', '.', 'exfoliation', 'is', 'the', 'process', 'of', 'removing', 'dead', 'skin', 'cells', ',', 'blackheads', ',', 'whiteheads', 'and', 'any', 'other', 'residual', 'grime', 'from', 'the', 'surface', 'of', 'your', 'skin', '.', 'while', 'getting', 'rid', 'of', 'dead', 'skin', 'cells', 'is', 'a', 'regular', 'process', 'for', 'your', 'skin', 'there', 'are', 'times', 'when', 'all', 'the', 'dead', 'skin', 'cells', 'don', '’', 't', 'shed', 'off', '.', 'the', 'dead', 'skin', 'cells', 'that', 'stay', 'back', 'on', 'your', 'skin', '’', 's', 'surface', 'then', 'block', 'your', 'skin', 'from', 'breathing', 'thereby', 'causing', 'acne', 'and', 'breakouts', '.', 'exfoliation', ',', 'therefore', ',', 'becomes', 'essential', 'at', 'least', 'once', 'or', 'twice', 'a', 'week.p.s', '.', 'use', 'a', 'gentle', 'scrub', 'like', 'everyuth', '’', 's', 'walnut', 'face', 'scrub', 'and', 'don', '’', 't', 'be', 'too', 'harsh', 'on', 'your', 'skin', '.', 'it', '’', 's', 'the', 'summer', 'and', 'your', 'skin', 'is', 'oily', 'does', 'not', 'mean', 'that', 'you', 'skip', 'the', 'hydration', '.', 'your', 'skin', 'still', 'needs', 'to', 'be', 'moisturized', 'because', 'sweating', 'causes', 'your', 'skin', 'to', 'lose', 'moisture', '.', 'use', 'a', 'lightweight', 'moisturizer', 'if', 'your', 'skin', 'is', 'super-oily', 'but', 'completely', 'missing', 'this', 'step', 'is', 'a', 'big', 'no', '.', 'makeup', 'prevents', 'your', 'skin', 'from', 'breathing', '.', 'when', 'you', 'apply', 'layers', 'and', 'layers', 'of', 'makeup', ',', 'it', 'blocks', 'your', 'pores', ',', 'aggravating', 'acne', ',', 'breakouts', 'and', 'pimples', '.', 'so', ',', 'go', 'lighter', 'on', 'your', 'makeup', 'routine', ',', 'especially', 'on', 'days', 'when', 'you', 'are', 'going', 'to', 'be', 'stepping', 'out', 'for', 'a', 'longer', 'duration', '.', 'the', 'basic', 'of', 'every', 'good', 'skincare', 'routine', 'is', 'definitely', 'a', 'good', 'face', 'wash.', 'and', 'if', 'you', 'have', 'acne-prone', 'skin', 'then', 'a', 'pimple', 'clear', 'face', 'wash', 'is', 'what', 'you', 'need', 'to', 'ensure', 'you', 'are', 'starting', 'off', 'on', 'the', 'right', 'note', '.', 'a', 'face', 'wash', 'for', 'pimples', 'is', 'specially', 'made', 'with', 'ingredients', 'that', 'are', 'packed', 'to', 'fight', 'acne-causing', 'bacteria', '.', 'the', 'everyuth', 'tulsi', 'turmeric', 'face', 'wash', 'is', 'filled', 'with', 'the', 'goodness', 'of', 'tulsi', 'and', 'turmeric', '–', 'two', 'of', 'the', 'best', 'ingredients', 'gifted', 'to', 'us', 'by', 'nature', '.', 'it', 'is', 'the', 'best', 'face', 'wash', 'for', 'acne', 'and', 'pimples', 'owing', 'to', 'its', 'ability', 'to', 'not', 'only', 'fight', 'bacteria', 'but', 'also', 'nourish', 'your', 'skin', '.', 'one', 'of', 'the', 'primary', 'reasons', 'for', 'acne', 'is', 'when', 'excess', 'sebum', 'secretion', 'causes', 'our', 'skin', 'to', 'become', 'oily', '.', 'the', 'excess', 'sebum', 'blocks', 'our', 'skin', '’', 's', 'pores', 'and', 'makes', 'it', 'difficult', 'for', 'our', 'skin', 'to', 'breathe', '.', 'this', 'causes', 'acne', ',', 'whiteheads', 'and', 'blackheads', '.', 'the', 'tulsi', 'turmeric', 'face', 'wash', 'is', 'the', 'perfect', 'face', 'wash', 'for', 'oily', 'skin', 'and', 'acne', 'as', 'it', 'keeps', 'your', 'skin', '’', 's', 'oiliness', 'in', 'check', 'without', 'stealing', 'away', 'its', 'essential', 'oils', '.', 'deep', 'cleans', 'your', 'skin', ':', 'tulsi', 'is', 'known', 'for', 'years', 'to', 'help', 'clean', 'your', 'pores', 'and', 'remove', 'the', 'build-up', 'like', 'pollution', ',', 'dust', ',', 'grime', 'and', 'more.anti-bacterial', ',', 'anti-fungal', 'and', 'anti-inflammatory', ':', 'the', 'holy', 'basil', 'is', 'known', 'for', 'its', 'ability', 'to', 'fight', 'bacteria', 'and', 'fungus', '.', 'moreover', ',', 'its', 'anti-inflammatory', 'property', 'helps', 'to', 'fight', 'cystic', 'acne', 'controls', 'oil', 'production', ':', 'tulsi', 'contains', 'camphene', 'which', 'works', 'as', 'a', 'natural', 'toner', 'to', 'remove', 'excess', 'oil', 'from', 'the', 'skin', '.', 'this', 'is', 'how', 'it', 'can', 'help', 'prevent', 'the', 'clogging', 'of', 'pores', '.', 'turmeric', 'contains', 'curcuminoids', ',', 'a', 'compound', 'that', 'has', 'anti-inflammatory', ',', 'anti-microbial', 'and', 'antioxidant', 'properties', '.', 'this', 'helps', 'in', 'fighting', 'skin', 'infections', ',', 'especially', 'acne.turmeric', 'is', 'also', 'known', 'for', 'its', 'healing', 'properties', ',', 'so', 'when', 'you', 'are', 'curing', 'acne', 'or', 'any', 'inflammation', 'on', 'the', 'skin', ',', 'turmeric', 'can', 'help', 'heal', 'it', 'faster', '.', 'sunscreen', 'for', 'oily', 'skin', 'type', ':', 'neutrogena', 'spf', '50', ',', 'https', ':', '//www.amazon.in/neutrogena-ultra-sheer-dry-touch-sunblock/dp/b00g7rtyt8', '.']\n"
          ]
        }
      ]
    },
    {
      "cell_type": "code",
      "source": [
        "greeting_inputs=[\"hey\",\"hello\",\"hi\",\"heyaa\",\"evening\",\"evenings\",\"greetings\",\"sup\",\"hola\"]\n",
        "greeting_response=[\"Hey\",\"How can I help you?\",\"**nods**\",\"Hello\",\"Hi there mate\",\"Hola!\"]\n",
        "\n",
        "greeting_input2 = [\"you?\" , \"day?\"]\n",
        "greeting_response2 = [\"I am fine, thankyou\" , \"Good, thanks\", \"Not bad\"]"
      ],
      "metadata": {
        "id": "Xo5d_FQwgvwr"
      },
      "execution_count": 48,
      "outputs": []
    },
    {
      "cell_type": "code",
      "source": [
        "def greet_someone(greeting):\n",
        "  for x in greeting.split():\n",
        "      if x.lower() in greeting_inputs:\n",
        "          return (random.choice(greeting_response))"
      ],
      "metadata": {
        "id": "wWShc0EkiMis"
      },
      "execution_count": 64,
      "outputs": []
    },
    {
      "cell_type": "code",
      "source": [
        "def greet_someone2(greeting):\n",
        "  for x in greeting.split():\n",
        "      if x.lower() in greeting_input2:\n",
        "          return (random.choice(greeting_response2))"
      ],
      "metadata": {
        "id": "NlgFrZ2805pk"
      },
      "execution_count": 65,
      "outputs": []
    },
    {
      "cell_type": "code",
      "source": [
        "wn_lemmatizer = nltk.stem.WordNetLemmatizer()\n",
        "\n",
        "def lemmatize_data(tokens):\n",
        "    return [wn_lemmatizer.lemmatize(token) for token in tokens]\n",
        "\n",
        "punct_remover=dict((ord(punctuation),None) for punctuation in string.punctuation)"
      ],
      "metadata": {
        "id": "dGfN_HIXiPI-"
      },
      "execution_count": 66,
      "outputs": []
    },
    {
      "cell_type": "code",
      "source": [
        "def get_processed_data(data):\n",
        "    return lemmatize_data(nltk.word_tokenize(data.lower().translate(punct_remover)))"
      ],
      "metadata": {
        "id": "WjJcpayeiSDB"
      },
      "execution_count": 67,
      "outputs": []
    },
    {
      "cell_type": "code",
      "source": [
        "print(greet_someone2(\"how are you?\"))"
      ],
      "metadata": {
        "colab": {
          "base_uri": "https://localhost:8080/"
        },
        "id": "YtQtweiMm-BI",
        "outputId": "6068ba6d-01c6-431f-d116-fe710ce25025"
      },
      "execution_count": 68,
      "outputs": [
        {
          "output_type": "stream",
          "name": "stdout",
          "text": [
            "I am fine, thankyou\n"
          ]
        }
      ]
    },
    {
      "cell_type": "code",
      "source": [
        "def respond(input):\n",
        "  bot_response=''\n",
        "  corpus_sentences.append(input)\n",
        "\n",
        "  word_vectorizer=TfidfVectorizer(tokenizer=get_processed_data,stop_words='english')\n",
        "  corpus_word_vectors=word_vectorizer.fit_transform(corpus_sentences)\n",
        "  cos_sin_vectors=cosine_similarity(corpus_word_vectors[-1],corpus_word_vectors)\n",
        "  similar_response_idx=cos_sin_vectors.argsort()[0][-2]\n",
        "\n",
        "  matched_vector = cos_sin_vectors.flatten()\n",
        "  matched_vector.sort()\n",
        "  vector_matched = matched_vector[-2]\n",
        "\n",
        "  if vector_matched==0:\n",
        "    bot_response=bot_response+\"I am sorry I could not get that\"\n",
        "  else:\n",
        "    bot_response=bot_response+corpus_sentences[similar_response_idx]\n",
        "    return bot_response"
      ],
      "metadata": {
        "id": "h-O3yNdOiZwj"
      },
      "execution_count": 69,
      "outputs": []
    },
    {
      "cell_type": "code",
      "source": [
        "chat = True\n",
        "print(\"Cera : Heloo! I am Cera, your Skincare Assistant\")\n",
        "print(\"Cera : What would you like to ask?\")\n",
        "while(chat == True):\n",
        "  user_query = input(\"Me : \")\n",
        "  user_query = user_query.lower()\n",
        "  if (user_query == \"quit\" or user_query == \"bye\" ):\n",
        "    chat = False\n",
        "    print(\"Cera : Bye, Have a nice day\")\n",
        "\n",
        "  elif (user_query != \"quit\" or user_query != \"bye\"):\n",
        "    \n",
        "    if(user_query == \"thanks\" or user_query == \"thankyou\" or user_query == \"thank you\"):\n",
        "      chat = False\n",
        "      print(\"Cera : You are welcome!\")\n",
        "    else:\n",
        "      if greet_someone(user_query) != None:\n",
        "        print(\"Cera : \" + greet_someone(user_query))\n",
        "      elif greet_someone2(user_query) != None:\n",
        "        print(\"Cera : \" + greet_someone2(user_query))\n",
        "      else:\n",
        "        print(\"Cera : \", end = \"\")\n",
        "        print(respond(user_query))\n",
        "        corpus_sentences.remove(user_query)\n"
      ],
      "metadata": {
        "id": "J-D-uiIPzIJc",
        "outputId": "2e004f32-ea64-4bc2-d141-a15d13ed2c02",
        "colab": {
          "base_uri": "https://localhost:8080/"
        }
      },
      "execution_count": 72,
      "outputs": [
        {
          "name": "stdout",
          "output_type": "stream",
          "text": [
            "Cera : Heloo! I am Cera, your Skincare Assistant\n",
            "Cera : What would you like to ask?\n",
            "Me : hi\n",
            "Cera : Hey\n",
            "Me : what is retinol\n"
          ]
        },
        {
          "output_type": "stream",
          "name": "stderr",
          "text": [
            "/usr/local/lib/python3.7/dist-packages/sklearn/feature_extraction/text.py:401: UserWarning: Your stop_words may be inconsistent with your preprocessing. Tokenizing the stop words generated tokens ['ha', 'le', 'u', 'wa'] not in stop_words.\n",
            "  % sorted(inconsistent)\n"
          ]
        },
        {
          "output_type": "stream",
          "name": "stdout",
          "text": [
            "Cera : this is due to the strength of retinol.\n",
            "Me : bye\n",
            "Cera : Bye, Have a nice day\n"
          ]
        }
      ]
    },
    {
      "cell_type": "code",
      "source": [
        ""
      ],
      "metadata": {
        "id": "d9o8aDPJz3ZC"
      },
      "execution_count": null,
      "outputs": []
    }
  ]
}

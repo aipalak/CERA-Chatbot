{
  "nbformat": 4,
  "nbformat_minor": 0,
  "metadata": {
    "colab": {
      "name": "ITproject2.ipynb",
      "provenance": [],
      "collapsed_sections": [],
      "include_colab_link": true
    },
    "kernelspec": {
      "name": "python3",
      "display_name": "Python 3"
    },
    "language_info": {
      "name": "python"
    }
  },
  "cells": [
    {
      "cell_type": "markdown",
      "metadata": {
        "id": "view-in-github",
        "colab_type": "text"
      },
      "source": [
        "<a href=\"https://colab.research.google.com/github/kavyaaa-1/IT-Project_Chatbot/blob/main/ITproject2.ipynb\" target=\"_parent\"><img src=\"https://colab.research.google.com/assets/colab-badge.svg\" alt=\"Open In Colab\"/></a>"
      ]
    },
    {
      "cell_type": "code",
      "execution_count": 55,
      "metadata": {
        "id": "ihWLY3qyWABT"
      },
      "outputs": [],
      "source": [
        "import nltk \n",
        "import numpy as np\n",
        "import random\n",
        "import string\n",
        "\n",
        "import warnings\n",
        "warnings.filterwarnings = False \n",
        "\n",
        "from sklearn.feature_extraction.text import TfidfVectorizer\n",
        "from sklearn.metrics.pairwise import cosine_similarity"
      ]
    },
    {
      "cell_type": "code",
      "source": [
        "from bs4 import BeautifulSoup\n",
        "import requests\n",
        "import re\n",
        "nltk.download('punkt')\n",
        "nltk.download(\"wordnet\")"
      ],
      "metadata": {
        "colab": {
          "base_uri": "https://localhost:8080/"
        },
        "id": "ODOq5D23idTi",
        "outputId": "14ab0b50-3b50-4240-939b-dd8a87065b6a"
      },
      "execution_count": 56,
      "outputs": [
        {
          "output_type": "stream",
          "name": "stderr",
          "text": [
            "[nltk_data] Downloading package punkt to /root/nltk_data...\n",
            "[nltk_data]   Package punkt is already up-to-date!\n",
            "[nltk_data] Downloading package wordnet to /root/nltk_data...\n",
            "[nltk_data]   Package wordnet is already up-to-date!\n"
          ]
        },
        {
          "output_type": "execute_result",
          "data": {
            "text/plain": [
              "True"
            ]
          },
          "metadata": {},
          "execution_count": 56
        }
      ]
    },
    {
      "cell_type": "code",
      "source": [
        "headers = {'User-Agent': 'Mozilla/5.0 (Windows NT 10.0; Win64; x64) AppleWebKit/537.36 (KHTML, like Gecko) Chrome/71.0.3578.98 Safari/537.36', \n",
        "'Accept' : 'text/html,application/xhtml+xml,application/xml;q=0.9,*/*;q=0.8', \n",
        "'Accept-Language' : 'en-US,en;q=0.5',\n",
        "'Accept-Encoding' : 'gzip', \n",
        "'DNT' : '1', # Do Not Track Request Header \n",
        "'Connection' : 'close'}"
      ],
      "metadata": {
        "id": "Fo1WQAqlW37Q"
      },
      "execution_count": 57,
      "outputs": []
    },
    {
      "cell_type": "code",
      "source": [
        "url = (\"https://conceptmedical.ca/20-popular-skincare-questions/\")\n",
        "\n",
        "html = requests.get(url, headers = headers).text\n",
        "soup = BeautifulSoup(html)"
      ],
      "metadata": {
        "id": "YD8hVNjfWaSF"
      },
      "execution_count": 58,
      "outputs": []
    },
    {
      "cell_type": "code",
      "source": [
        "info = soup.find_all('p')\n",
        "info2 = soup.find_all('li')"
      ],
      "metadata": {
        "id": "KBWntV0ZcxEx"
      },
      "execution_count": 59,
      "outputs": []
    },
    {
      "cell_type": "code",
      "source": [
        "text1 = \" \"\n",
        "\n",
        "for para in info:\n",
        "  text1 += para.text\n"
      ],
      "metadata": {
        "id": "rKpmyFDUXT84"
      },
      "execution_count": 60,
      "outputs": []
    },
    {
      "cell_type": "code",
      "source": [
        "text2 = \" \"\n",
        "\n",
        "for lists in info2:\n",
        "  text2 += lists.text"
      ],
      "metadata": {
        "id": "bT2LbIC8b1Pc"
      },
      "execution_count": 61,
      "outputs": []
    },
    {
      "cell_type": "code",
      "source": [
        "corpus_text = text1 + text2"
      ],
      "metadata": {
        "id": "NoYsIB5_YwmQ"
      },
      "execution_count": 62,
      "outputs": []
    },
    {
      "cell_type": "code",
      "source": [
        "corpus_text"
      ],
      "metadata": {
        "colab": {
          "base_uri": "https://localhost:8080/",
          "height": 1000
        },
        "id": "TN5IVxqsc41y",
        "outputId": "fe28cfe5-21d0-4470-857a-d2dbf66aae3b"
      },
      "execution_count": 63,
      "outputs": [
        {
          "output_type": "execute_result",
          "data": {
            "text/plain": [
              "' 1. What is the difference between dry and dehydrated skin?Dry vs dehydrated skin is a common subject of confusion for a lot of people. Dry skin is a skin type, which lacks proper levels of oil. It will often have an uneven tone, small pores, feel itchy and have a flaky appearance. To soothe dry skin, include emollients, ceramides, mineral oils and squalane. Dehydrated skin on the other hand, is a skin condition that lacks proper levels of hydration. It will have a dull appearance and feel tight. One way to tell if you’re lacking water? Press upward on your cheek, and if fine lines appear, increase your hydration. Ingredients you should be including in your skincare routine are hyaluronic acid, glycerin, antioxidants.2. What skincare products should everyone use?At Concept Medical, we truly believe that absolutely everyone should be using and can benefit from incorporating three specific products into their daily routine. These three products are a Vitamin C serum (of no less than 10% L-ascorbic acid), a Retinol product, and a quality broad-spectrum sunscreen.3. How often should I exfoliate?Typically, the frequency you should be exfoliating will be based off of if your skin type can tolerate it. For dry and sensitive skin once every 10 days is sufficient, normal to combination skin once a week, oily skin should exfoliate 2-3 times a week.\\nMore aggressive exfoliation such as chemical peels or microdermabrasion, should be performed every 4-6 weeks.4. What areas of my body should I be applying skincare products?Of course, skincare products should be applied to your face, but did you know you should also be applying serums and creams to your neck, décolleté and hands. These are also areas that show signs of aging, so they are equally important to treat and take care of.5. At what age should I begin using anti-aging products and procedures?Did you know that by the age of 30, your natural production of collagen and elastin begins to decrease by 1% each year? This is why it is so detrimental to begin proper anti-aging skincare by your late twenties! This allows proper cellular changes to be made to aid in the prevention of early signs of aging.6. What are my options to treat pigmentation?At Concept Medical, we have many options to treat pigmentation. Through a thorough consultation, you will be guided as to which treatment or products will help you achieve the absolute best reduction results. Treatment options include light therapy (such as broad band light treatments), micro-needling and medical grade chemical peels. We also have medical grade skincare options with active ingredients that can help to reduce the overall appearance of pigmentation in the skin.7. Do I need a different cream for face and undereye?The short answer – yes! The skin under your eye is much thinner and more sensitive than the skin on the rest of your face, meaning it requires more support. When choosing an undereye cream, look for products that include antioxidants, vitamins, hyaluronic acid, and possibly a low percentage retinol.8. If I have sensitive skin, can I still use a retinol product?Retinol (or Vitamin A) is a well-loved ingredient due to its ability to speed skin cell turnover and boost collagen production. While sensitive skin can use a retinol product, it can lead to flakiness and the feeling of dryness in the skin. To counter this, it is suggested to incorporate a hyaluronic acid and proper moisturizer into your routine. The percentage of retinol as well as the frequency of application weekly should be adjusted to suit your skin type. If you are still finding the usage harsh, consult with your skincare professional for alternative options that are best suited for your skin type.9. How long does it take to notice a change in my skin from topical products?One important thing to remember when it comes to skincare products is to be consistent and patient. You have to remember that your cellular turnover (how quickly dead cells shed and new cells surface) is at minimum 28 days and this rate slows as we age. A general rule of thumb, is to expect to begin to see changes from new skincare at a minimum of 4 weeks from starting use. Of course, depending on the product itself, it may actually take a little longer to notice significant change. Always feel free to ask your Medical Aesthetician or Dermatologist for proper expectations.10. Can I mix my serums into my moisturizer?This is not a suggested practice for your skincare and the reason is quite simple. Your serums are meant to be applied before moisturizer because their molecular sizes are different. Serums are a more fluid product with a smaller molecular size which allows it to penetrate deeper into your skin layers. Creams and moisturizers have a larger molecule size, which means they more so sit on the top layer of skin.11. What is the proper order to apply skincare?The proper order of skincare application can vary depending on products being used. Typically, for morning skincare I recommend: cleanser, toner, antioxidant serum, hydrating serum, eye cream, moisturizer, sunscreen. For a nightly routine I suggest: an oil-based cleanser, water-based cleanser, toner, targeted serum, eye cream, retinol, moisturizer.12. What is the biggest misconception regarding acne?The biggest misconception that I have noticed with acne is that “drying out” your skin will diminish your acne. By over exfoliating or harshly diminishing the oils in your skins protective barrier, you are actually creating more of a problem. By doing this, your sebaceous glands will over produce oil to compensate for the sudden loss, furthering your breakouts.13. Are there procedures to help diminish the appearance of stretch marks?At Concept Medical, we often suggest a micro-needling series to reduce the appearance of stretch marks. Typically, people assume micro-needling is for facial treatments only, but it can actually be performed on any area of the body. This collagen induction therapy treatment uses sterile surgical grade needles which are used to create controlled injury at various depths of the skin. This injury causes a cell healing response from the body, which helps to repair the scarred tissue. Typically to see optimal results, a 5-6 treatment series spaced 6-8 weeks between individual treatments is recommended to reduce stretch mark appearance.14. How often should I be receiving a professional facial?Typically, when treating skin conditions, you should receive a professional facial once within your cell turnover cycle (this means once every 4-6 weeks depending on your age). If you find your skin is fully balanced, and you have no skin conditions needing to be treated, a facial once a season is an acceptable practice.15. Why shouldn’t I do extractions myself at home?Although it is so tempting to extract your blemishes yourself, please do not do it. Unless you are trained how to do extractions properly, there is a very good chance that it will be done incorrectly. This will cause damage to your skin cells, which can in turn cause scarring or hyperpigmentation.16. Is it true that I should have different skincare routines throughout the year?Your skin type is genetic and therefore does not change, but your skins conditions may change throughout the year as your environment changes. With the change of seasons, you may find that the skincare routine and products that were working for you in the Winter, may now be too moisturizing in the Summer heat and humidity. It is often a great idea, to have products that suit and cater to your current skin needs.17. Can my diet really affect my skin?Your skins health and condition can be attributed to many factors. One of them being the foods we intake. Surprisingly, there are a number of foods linked to causing hormonal changes in your body. Some of these may be: milk products, peanut products, and animal products. If you are noticing consistent issues with your skin, we suggest a consultation with one of your Medical Aestheticians at Concept Medical.18. Are there certain products to avoid while pregnant?This is a common question and concern that we hear at Concept Medical, and yes there are skincare products to avoid while pregnant. Ruling out toxic skincare is especially important especially while pregnant. Some harmful ingredients you must watch out for are phthalates, sulfates, parabens, BHA’s, silicones, and synthetic fragrances. Additionally, avoid high doses of retinol, salicylic acid, and benzoyl peroxide, as these may cause harm to the baby.19. How can I make my pores smaller?Contrary to popular belief, you cannot change the actual size of your pores, as your pore size is genetic. What you can do is keep your pores tight and clean through treatment and proper skincare. By doing this, it gives the overall appearance of smaller pores because they are not nearly as noticeable.20. How can I tell my skin type?Typically, you should always receive a thorough skin analysis from a professional to assess skin type and any existing conditions, but there are some key factors when trying to determine this yourself at home. Think about how your skin feels when you wake up in the morning. If it’s generally tight and flaky, it’s likely to be dry. Oily skin usually has larger pores and looks shiny and glossy all over. Combination skin will usually have an oily T-zone with large pores, while the rest of the face is dry and the pores are smaller. Lastly, normal skin feels overall even and balanced. Understanding your skin type or any existing conditions is such a critical part of achieving balanced skin! Determining this allows for proper skincare product choice and treatment planning moving forward.Concept Medical is a full service cosmetic medicine clinic located in Ottawa, ON. We provide physician-led, evidence based cosmetic medicine services to a range of patients in Ottawa and the surrounding areas.NOTE:\\xa0The information contained on this website is intended for a Canadian audience only. It is designed to provide general information; it is not intended or implied to be a treatment guide, advertising, or a substitute for medical advice.\\xa0Results from treatments and services are never guaranteed and may vary. Risks are possible and should be discussed in detail with your provider.\\xa0 Please read our ‘Disclaimer & Privacy Policy’ for more details.\\xa0\\xa0Website Design and SEO by: Rankify Digital Marketing HomeShopConditions \\n\\n\\n\\n\\n\\n\\n\\n\\n\\n\\n\\nChronic Migraine\\nComplexion\\nDouble Chin\\nExcessive Sweating (Hyperhidrosis)\\nEyelashes\\n \\n\\n Menu\\n\\n\\nChronic Migraine\\nComplexion\\nDouble Chin\\nExcessive Sweating (Hyperhidrosis)\\nEyelashes\\n \\n\\n\\n\\n\\n\\n\\n\\n\\n\\n\\n\\nFacial Contouring\\nFacial Veins\\nFat Reduction & Body Contouring\\nHair Loss\\nHand Rejuvenation\\n \\n\\n Menu\\n\\n\\nFacial Contouring\\nFacial Veins\\nFat Reduction & Body Contouring\\nHair Loss\\nHand Rejuvenation\\n \\n\\n\\n\\n\\n\\n\\n\\n\\n\\n\\n\\nLaser Hair Removal\\nLeg Veins\\nMoles\\nLips\\nRosacea\\n \\n\\n Menu\\n\\n\\nLaser Hair Removal\\nLeg Veins\\nMoles\\nLips\\nRosacea\\n \\n\\n\\n\\n\\n\\n\\n\\n\\n\\n\\n\\nScars\\nSkin Cancer\\nSkin Tightening\\nStretch Marks\\nSun Damage\\n \\n\\n Menu\\n\\n\\nScars\\nSkin Cancer\\nSkin Tightening\\nStretch Marks\\nSun Damage\\n \\n\\n\\n\\n\\n\\n\\n\\n\\n\\n\\n\\nTemporomandibular Joint (TMJ)\\nWrinkles & Lines\\n \\n\\n Menu\\n\\n\\nTemporomandibular Joint (TMJ)\\nWrinkles & Lines\\n \\n\\n\\n\\n\\n\\n\\n\\n\\n\\n\\n\\nChronic MigraineComplexionDouble ChinExcessive Sweating (Hyperhidrosis)EyelashesChronic MigraineComplexionDouble ChinExcessive Sweating (Hyperhidrosis)EyelashesFacial ContouringFacial VeinsFat Reduction & Body ContouringHair LossHand RejuvenationFacial ContouringFacial VeinsFat Reduction & Body ContouringHair LossHand RejuvenationLaser Hair RemovalLeg VeinsMolesLipsRosaceaLaser Hair RemovalLeg VeinsMolesLipsRosaceaScarsSkin CancerSkin TighteningStretch MarksSun DamageScarsSkin CancerSkin TighteningStretch MarksSun DamageTemporomandibular Joint (TMJ)Wrinkles & LinesTemporomandibular Joint (TMJ)Wrinkles & LinesTreatments \\n\\n\\n\\n\\n\\n\\n\\n\\n\\n\\n\\nPlatelet-Rich Plasma (PRP)\\nBelkyra™\\nBotox\\nChronic Migraine Treatments\\nExcessive Sweating Treatments\\n \\n\\n Menu\\n\\n\\nPlatelet-Rich Plasma (PRP)\\nBelkyra™\\nBotox\\nChronic Migraine Treatments\\nExcessive Sweating Treatments\\n \\n\\n\\n\\n\\n\\n\\n\\n\\n\\n\\n\\nChemical Peels\\nCoolSculpting®\\nDermal Fillers\\nGrinding/Bruxism\\nLaser Hair Removal\\nLaser Vein Treatments\\n \\n\\n Menu\\n\\n\\nChemical Peels\\nCoolSculpting®\\nDermal Fillers\\nGrinding/Bruxism\\nLaser Hair Removal\\nLaser Vein Treatments\\n \\n\\n\\n\\n\\n\\n\\n\\n\\n\\n\\n\\nLatisse®\\nLip Filler\\nMasseter Reduction\\nMole & Skin Tag Removal\\nMicroneedling in Ottawa\\n \\n\\n Menu\\n\\n\\nLatisse®\\nLip Filler\\nMasseter Reduction\\nMole & Skin Tag Removal\\nMicroneedling in Ottawa\\n \\n\\n\\n\\n\\n\\n\\n\\n\\n\\n\\n\\nPhotorejuvenation/IPL\\nSkinCeuticals® Facials\\nUltherapy® Skin Tightening\\n \\n\\n Menu\\n\\n\\nPhotorejuvenation/IPL\\nSkinCeuticals® Facials\\nUltherapy® Skin Tightening\\n \\n\\n\\n\\n\\n\\n\\n\\n\\n\\n\\n\\nPlatelet-Rich Plasma (PRP)Belkyra™BotoxChronic Migraine TreatmentsExcessive Sweating TreatmentsPlatelet-Rich Plasma (PRP)Belkyra™BotoxChronic Migraine TreatmentsExcessive Sweating TreatmentsChemical PeelsCoolSculpting®Dermal FillersGrinding/BruxismLaser Hair RemovalLaser Vein TreatmentsChemical PeelsCoolSculpting®Dermal FillersGrinding/BruxismLaser Hair RemovalLaser Vein TreatmentsLatisse®Lip FillerMasseter ReductionMole & Skin Tag RemovalMicroneedling in OttawaLatisse®Lip FillerMasseter ReductionMole & Skin Tag RemovalMicroneedling in OttawaPhotorejuvenation/IPLSkinCeuticals® FacialsUltherapy® Skin TighteningPhotorejuvenation/IPLSkinCeuticals® FacialsUltherapy® Skin TighteningSkinCeuticals®\\n\\nDr. Hetz’s 5-Step Skin Care Routine\\n\\nDr. Hetz’s 5-Step Skin Care RoutineAbout Us\\n\\nAbout Concept Medical\\nFAQs and Price List\\nTraining\\nBlog\\n\\nAbout Concept MedicalFAQs and Price ListTrainingBlogContact UsHomeShopConditions\\n\\nChronic Migraine\\nComplexion\\nDouble Chin\\nExcessive Sweating (Hyperhidrosis)\\nEyelashes\\nFacial Contouring\\nFacial Veins\\nFat Reduction & Body Contouring\\nHair Loss\\nHand Rejuvenation\\nLaser Hair Removal\\nLeg Veins\\nMoles\\nLips\\nRosacea\\nScars\\nSkin Cancer\\nSkin Tightening\\nStretch Marks\\nSun Damage\\nTemporomandibular Joint (TMJ)\\nWrinkles & Lines\\n\\nChronic MigraineComplexionDouble ChinExcessive Sweating (Hyperhidrosis)EyelashesFacial ContouringFacial VeinsFat Reduction & Body ContouringHair LossHand RejuvenationLaser Hair RemovalLeg VeinsMolesLipsRosaceaScarsSkin CancerSkin TighteningStretch MarksSun DamageTemporomandibular Joint (TMJ)Wrinkles & LinesTreatments\\n\\nPlatelet-Rich Plasma (PRP)\\nBelkyra™\\nBotox\\nChronic Migraine Treatments\\nExcessive Sweating Treatments\\nChemical Peels\\nCoolSculpting®\\nDermal Fillers\\nGrinding/Bruxism\\nLaser Hair Removal\\nLaser Vein Treatments\\nLatisse®\\nLip Filler\\nMasseter Reduction\\nMole & Skin Tag Removal\\nMicroneedling in Ottawa\\nPhotorejuvenation/IPL\\nSkinCeuticals® Facials\\nUltherapy® Skin Tightening\\n\\nPlatelet-Rich Plasma (PRP)Belkyra™BotoxChronic Migraine TreatmentsExcessive Sweating TreatmentsChemical PeelsCoolSculpting®Dermal FillersGrinding/BruxismLaser Hair RemovalLaser Vein TreatmentsLatisse®Lip FillerMasseter ReductionMole & Skin Tag RemovalMicroneedling in OttawaPhotorejuvenation/IPLSkinCeuticals® FacialsUltherapy® Skin TighteningSkinCeuticals®\\n\\nDr. Hetz’s 5-Step Skin Care Routine\\n\\nDr. Hetz’s 5-Step Skin Care RoutineAbout Us\\n\\nAbout Concept Medical\\nFAQs\\nTraining\\nBlog\\n\\nAbout Concept MedicalFAQsTrainingBlogContact UsHomeShopConditions\\n\\nChronic Migraine\\nComplexion\\nDouble Chin\\nExcessive Sweating (Hyperhidrosis)\\nEyelashes\\nFacial Contouring\\nFacial Veins\\nFat Reduction & Body Contouring\\nHair Loss\\nHand Rejuvenation\\nLaser Hair Removal\\nLeg Veins\\nMoles\\nLips\\nRosacea\\nScars\\nSkin Cancer\\nSkin Tightening\\nStretch Marks\\nSun Damage\\nTemporomandibular Joint (TMJ)\\nWrinkles & Lines\\n\\nChronic MigraineComplexionDouble ChinExcessive Sweating (Hyperhidrosis)EyelashesFacial ContouringFacial VeinsFat Reduction & Body ContouringHair LossHand RejuvenationLaser Hair RemovalLeg VeinsMolesLipsRosaceaScarsSkin CancerSkin TighteningStretch MarksSun DamageTemporomandibular Joint (TMJ)Wrinkles & LinesTreatments\\n\\nPlatelet-Rich Plasma (PRP)\\nBelkyra™\\nBotox\\nChronic Migraine Treatments\\nExcessive Sweating Treatments\\nChemical Peels\\nCoolSculpting®\\nDermal Fillers\\nGrinding/Bruxism\\nLaser Hair Removal\\nLaser Vein Treatments\\nLatisse®\\nLip Filler\\nMasseter Reduction\\nMole & Skin Tag Removal\\nMicroneedling in Ottawa\\nPhotorejuvenation/IPL\\nSkinCeuticals® Facials\\nUltherapy® Skin Tightening\\n\\nPlatelet-Rich Plasma (PRP)Belkyra™BotoxChronic Migraine TreatmentsExcessive Sweating TreatmentsChemical PeelsCoolSculpting®Dermal FillersGrinding/BruxismLaser Hair RemovalLaser Vein TreatmentsLatisse®Lip FillerMasseter ReductionMole & Skin Tag RemovalMicroneedling in OttawaPhotorejuvenation/IPLSkinCeuticals® FacialsUltherapy® Skin TighteningSkinCeuticals®\\n\\nDr. Hetz’s 5-Step Skin Care Routine\\n\\nDr. Hetz’s 5-Step Skin Care RoutineAbout Us\\n\\nAbout Concept Medical\\nFAQs\\nTraining\\nBlog\\n\\nAbout Concept MedicalFAQsTrainingBlogContact Us\\n\\n\\nMicroneedling \\n\\n\\n\\n \\n1272 Wellington St. W, Ottawa, ON K1Y 3A7\\n\\n\\n\\n \\n(613) 829-1266\\n\\n\\n\\n \\n(613)-482-4850\\n\\n\\n\\n \\noffice@conceptmedical.ca\\n\\n\\n\\n \\nMon-Fri, 9-5pm\\n\\n\\n\\n \\nGet Directions\\n\\n\\n\\n\\n \\nFollow Us on TikTok\\n\\n\\n\\n\\n \\nSubscribe Us on YouTube\\n\\nAbout UsConditionsTreatmentsDisclaimer & Privacy PolicyBotox®Belkyra™Dermal and Soft Tissue FillersOttawa CoolSculpting® ClinicLaser Hair RemovalUltherapy® Skin TighteningScar RemovalMole Removal'"
            ],
            "application/vnd.google.colaboratory.intrinsic+json": {
              "type": "string"
            }
          },
          "metadata": {},
          "execution_count": 63
        }
      ]
    },
    {
      "cell_type": "code",
      "source": [
        "corpus_text = corpus_text.lower()"
      ],
      "metadata": {
        "id": "ulKcbYTVdAYD"
      },
      "execution_count": 65,
      "outputs": []
    },
    {
      "cell_type": "code",
      "source": [
        "corpus_text = re.sub(r'\\[[0-9]*\\]', ' ', corpus_text)\n",
        "corpus_text = re.sub(r'\\s+', ' ', corpus_text)"
      ],
      "metadata": {
        "id": "LOyqskicd9Zm"
      },
      "execution_count": 66,
      "outputs": []
    },
    {
      "cell_type": "code",
      "source": [
        "corpus_text"
      ],
      "metadata": {
        "id": "RodrLpeYe0MF",
        "outputId": "8e8da309-a313-4889-ebdd-ef71d39d0e01",
        "colab": {
          "base_uri": "https://localhost:8080/",
          "height": 1000
        }
      },
      "execution_count": 67,
      "outputs": [
        {
          "output_type": "execute_result",
          "data": {
            "text/plain": [
              "' 1. what is the difference between dry and dehydrated skin?dry vs dehydrated skin is a common subject of confusion for a lot of people. dry skin is a skin type, which lacks proper levels of oil. it will often have an uneven tone, small pores, feel itchy and have a flaky appearance. to soothe dry skin, include emollients, ceramides, mineral oils and squalane. dehydrated skin on the other hand, is a skin condition that lacks proper levels of hydration. it will have a dull appearance and feel tight. one way to tell if you’re lacking water? press upward on your cheek, and if fine lines appear, increase your hydration. ingredients you should be including in your skincare routine are hyaluronic acid, glycerin, antioxidants.2. what skincare products should everyone use?at concept medical, we truly believe that absolutely everyone should be using and can benefit from incorporating three specific products into their daily routine. these three products are a vitamin c serum (of no less than 10% l-ascorbic acid), a retinol product, and a quality broad-spectrum sunscreen.3. how often should i exfoliate?typically, the frequency you should be exfoliating will be based off of if your skin type can tolerate it. for dry and sensitive skin once every 10 days is sufficient, normal to combination skin once a week, oily skin should exfoliate 2-3 times a week. more aggressive exfoliation such as chemical peels or microdermabrasion, should be performed every 4-6 weeks.4. what areas of my body should i be applying skincare products?of course, skincare products should be applied to your face, but did you know you should also be applying serums and creams to your neck, décolleté and hands. these are also areas that show signs of aging, so they are equally important to treat and take care of.5. at what age should i begin using anti-aging products and procedures?did you know that by the age of 30, your natural production of collagen and elastin begins to decrease by 1% each year? this is why it is so detrimental to begin proper anti-aging skincare by your late twenties! this allows proper cellular changes to be made to aid in the prevention of early signs of aging.6. what are my options to treat pigmentation?at concept medical, we have many options to treat pigmentation. through a thorough consultation, you will be guided as to which treatment or products will help you achieve the absolute best reduction results. treatment options include light therapy (such as broad band light treatments), micro-needling and medical grade chemical peels. we also have medical grade skincare options with active ingredients that can help to reduce the overall appearance of pigmentation in the skin.7. do i need a different cream for face and undereye?the short answer – yes! the skin under your eye is much thinner and more sensitive than the skin on the rest of your face, meaning it requires more support. when choosing an undereye cream, look for products that include antioxidants, vitamins, hyaluronic acid, and possibly a low percentage retinol.8. if i have sensitive skin, can i still use a retinol product?retinol (or vitamin a) is a well-loved ingredient due to its ability to speed skin cell turnover and boost collagen production. while sensitive skin can use a retinol product, it can lead to flakiness and the feeling of dryness in the skin. to counter this, it is suggested to incorporate a hyaluronic acid and proper moisturizer into your routine. the percentage of retinol as well as the frequency of application weekly should be adjusted to suit your skin type. if you are still finding the usage harsh, consult with your skincare professional for alternative options that are best suited for your skin type.9. how long does it take to notice a change in my skin from topical products?one important thing to remember when it comes to skincare products is to be consistent and patient. you have to remember that your cellular turnover (how quickly dead cells shed and new cells surface) is at minimum 28 days and this rate slows as we age. a general rule of thumb, is to expect to begin to see changes from new skincare at a minimum of 4 weeks from starting use. of course, depending on the product itself, it may actually take a little longer to notice significant change. always feel free to ask your medical aesthetician or dermatologist for proper expectations.10. can i mix my serums into my moisturizer?this is not a suggested practice for your skincare and the reason is quite simple. your serums are meant to be applied before moisturizer because their molecular sizes are different. serums are a more fluid product with a smaller molecular size which allows it to penetrate deeper into your skin layers. creams and moisturizers have a larger molecule size, which means they more so sit on the top layer of skin.11. what is the proper order to apply skincare?the proper order of skincare application can vary depending on products being used. typically, for morning skincare i recommend: cleanser, toner, antioxidant serum, hydrating serum, eye cream, moisturizer, sunscreen. for a nightly routine i suggest: an oil-based cleanser, water-based cleanser, toner, targeted serum, eye cream, retinol, moisturizer.12. what is the biggest misconception regarding acne?the biggest misconception that i have noticed with acne is that “drying out” your skin will diminish your acne. by over exfoliating or harshly diminishing the oils in your skins protective barrier, you are actually creating more of a problem. by doing this, your sebaceous glands will over produce oil to compensate for the sudden loss, furthering your breakouts.13. are there procedures to help diminish the appearance of stretch marks?at concept medical, we often suggest a micro-needling series to reduce the appearance of stretch marks. typically, people assume micro-needling is for facial treatments only, but it can actually be performed on any area of the body. this collagen induction therapy treatment uses sterile surgical grade needles which are used to create controlled injury at various depths of the skin. this injury causes a cell healing response from the body, which helps to repair the scarred tissue. typically to see optimal results, a 5-6 treatment series spaced 6-8 weeks between individual treatments is recommended to reduce stretch mark appearance.14. how often should i be receiving a professional facial?typically, when treating skin conditions, you should receive a professional facial once within your cell turnover cycle (this means once every 4-6 weeks depending on your age). if you find your skin is fully balanced, and you have no skin conditions needing to be treated, a facial once a season is an acceptable practice.15. why shouldn’t i do extractions myself at home?although it is so tempting to extract your blemishes yourself, please do not do it. unless you are trained how to do extractions properly, there is a very good chance that it will be done incorrectly. this will cause damage to your skin cells, which can in turn cause scarring or hyperpigmentation.16. is it true that i should have different skincare routines throughout the year?your skin type is genetic and therefore does not change, but your skins conditions may change throughout the year as your environment changes. with the change of seasons, you may find that the skincare routine and products that were working for you in the winter, may now be too moisturizing in the summer heat and humidity. it is often a great idea, to have products that suit and cater to your current skin needs.17. can my diet really affect my skin?your skins health and condition can be attributed to many factors. one of them being the foods we intake. surprisingly, there are a number of foods linked to causing hormonal changes in your body. some of these may be: milk products, peanut products, and animal products. if you are noticing consistent issues with your skin, we suggest a consultation with one of your medical aestheticians at concept medical.18. are there certain products to avoid while pregnant?this is a common question and concern that we hear at concept medical, and yes there are skincare products to avoid while pregnant. ruling out toxic skincare is especially important especially while pregnant. some harmful ingredients you must watch out for are phthalates, sulfates, parabens, bha’s, silicones, and synthetic fragrances. additionally, avoid high doses of retinol, salicylic acid, and benzoyl peroxide, as these may cause harm to the baby.19. how can i make my pores smaller?contrary to popular belief, you cannot change the actual size of your pores, as your pore size is genetic. what you can do is keep your pores tight and clean through treatment and proper skincare. by doing this, it gives the overall appearance of smaller pores because they are not nearly as noticeable.20. how can i tell my skin type?typically, you should always receive a thorough skin analysis from a professional to assess skin type and any existing conditions, but there are some key factors when trying to determine this yourself at home. think about how your skin feels when you wake up in the morning. if it’s generally tight and flaky, it’s likely to be dry. oily skin usually has larger pores and looks shiny and glossy all over. combination skin will usually have an oily t-zone with large pores, while the rest of the face is dry and the pores are smaller. lastly, normal skin feels overall even and balanced. understanding your skin type or any existing conditions is such a critical part of achieving balanced skin! determining this allows for proper skincare product choice and treatment planning moving forward.concept medical is a full service cosmetic medicine clinic located in ottawa, on. we provide physician-led, evidence based cosmetic medicine services to a range of patients in ottawa and the surrounding areas.note: the information contained on this website is intended for a canadian audience only. it is designed to provide general information; it is not intended or implied to be a treatment guide, advertising, or a substitute for medical advice. results from treatments and services are never guaranteed and may vary. risks are possible and should be discussed in detail with your provider. please read our ‘disclaimer & privacy policy’ for more details. website design and seo by: rankify digital marketing homeshopconditions chronic migraine complexion double chin excessive sweating (hyperhidrosis) eyelashes menu chronic migraine complexion double chin excessive sweating (hyperhidrosis) eyelashes facial contouring facial veins fat reduction & body contouring hair loss hand rejuvenation menu facial contouring facial veins fat reduction & body contouring hair loss hand rejuvenation laser hair removal leg veins moles lips rosacea menu laser hair removal leg veins moles lips rosacea scars skin cancer skin tightening stretch marks sun damage menu scars skin cancer skin tightening stretch marks sun damage temporomandibular joint (tmj) wrinkles & lines menu temporomandibular joint (tmj) wrinkles & lines chronic migrainecomplexiondouble chinexcessive sweating (hyperhidrosis)eyelasheschronic migrainecomplexiondouble chinexcessive sweating (hyperhidrosis)eyelashesfacial contouringfacial veinsfat reduction & body contouringhair losshand rejuvenationfacial contouringfacial veinsfat reduction & body contouringhair losshand rejuvenationlaser hair removalleg veinsmoleslipsrosacealaser hair removalleg veinsmoleslipsrosaceascarsskin cancerskin tighteningstretch markssun damagescarsskin cancerskin tighteningstretch markssun damagetemporomandibular joint (tmj)wrinkles & linestemporomandibular joint (tmj)wrinkles & linestreatments platelet-rich plasma (prp) belkyra™ botox chronic migraine treatments excessive sweating treatments menu platelet-rich plasma (prp) belkyra™ botox chronic migraine treatments excessive sweating treatments chemical peels coolsculpting® dermal fillers grinding/bruxism laser hair removal laser vein treatments menu chemical peels coolsculpting® dermal fillers grinding/bruxism laser hair removal laser vein treatments latisse® lip filler masseter reduction mole & skin tag removal microneedling in ottawa menu latisse® lip filler masseter reduction mole & skin tag removal microneedling in ottawa photorejuvenation/ipl skinceuticals® facials ultherapy® skin tightening menu photorejuvenation/ipl skinceuticals® facials ultherapy® skin tightening platelet-rich plasma (prp)belkyra™botoxchronic migraine treatmentsexcessive sweating treatmentsplatelet-rich plasma (prp)belkyra™botoxchronic migraine treatmentsexcessive sweating treatmentschemical peelscoolsculpting®dermal fillersgrinding/bruxismlaser hair removallaser vein treatmentschemical peelscoolsculpting®dermal fillersgrinding/bruxismlaser hair removallaser vein treatmentslatisse®lip fillermasseter reductionmole & skin tag removalmicroneedling in ottawalatisse®lip fillermasseter reductionmole & skin tag removalmicroneedling in ottawaphotorejuvenation/iplskinceuticals® facialsultherapy® skin tighteningphotorejuvenation/iplskinceuticals® facialsultherapy® skin tighteningskinceuticals® dr. hetz’s 5-step skin care routine dr. hetz’s 5-step skin care routineabout us about concept medical faqs and price list training blog about concept medicalfaqs and price listtrainingblogcontact ushomeshopconditions chronic migraine complexion double chin excessive sweating (hyperhidrosis) eyelashes facial contouring facial veins fat reduction & body contouring hair loss hand rejuvenation laser hair removal leg veins moles lips rosacea scars skin cancer skin tightening stretch marks sun damage temporomandibular joint (tmj) wrinkles & lines chronic migrainecomplexiondouble chinexcessive sweating (hyperhidrosis)eyelashesfacial contouringfacial veinsfat reduction & body contouringhair losshand rejuvenationlaser hair removalleg veinsmoleslipsrosaceascarsskin cancerskin tighteningstretch markssun damagetemporomandibular joint (tmj)wrinkles & linestreatments platelet-rich plasma (prp) belkyra™ botox chronic migraine treatments excessive sweating treatments chemical peels coolsculpting® dermal fillers grinding/bruxism laser hair removal laser vein treatments latisse® lip filler masseter reduction mole & skin tag removal microneedling in ottawa photorejuvenation/ipl skinceuticals® facials ultherapy® skin tightening platelet-rich plasma (prp)belkyra™botoxchronic migraine treatmentsexcessive sweating treatmentschemical peelscoolsculpting®dermal fillersgrinding/bruxismlaser hair removallaser vein treatmentslatisse®lip fillermasseter reductionmole & skin tag removalmicroneedling in ottawaphotorejuvenation/iplskinceuticals® facialsultherapy® skin tighteningskinceuticals® dr. hetz’s 5-step skin care routine dr. hetz’s 5-step skin care routineabout us about concept medical faqs training blog about concept medicalfaqstrainingblogcontact ushomeshopconditions chronic migraine complexion double chin excessive sweating (hyperhidrosis) eyelashes facial contouring facial veins fat reduction & body contouring hair loss hand rejuvenation laser hair removal leg veins moles lips rosacea scars skin cancer skin tightening stretch marks sun damage temporomandibular joint (tmj) wrinkles & lines chronic migrainecomplexiondouble chinexcessive sweating (hyperhidrosis)eyelashesfacial contouringfacial veinsfat reduction & body contouringhair losshand rejuvenationlaser hair removalleg veinsmoleslipsrosaceascarsskin cancerskin tighteningstretch markssun damagetemporomandibular joint (tmj)wrinkles & linestreatments platelet-rich plasma (prp) belkyra™ botox chronic migraine treatments excessive sweating treatments chemical peels coolsculpting® dermal fillers grinding/bruxism laser hair removal laser vein treatments latisse® lip filler masseter reduction mole & skin tag removal microneedling in ottawa photorejuvenation/ipl skinceuticals® facials ultherapy® skin tightening platelet-rich plasma (prp)belkyra™botoxchronic migraine treatmentsexcessive sweating treatmentschemical peelscoolsculpting®dermal fillersgrinding/bruxismlaser hair removallaser vein treatmentslatisse®lip fillermasseter reductionmole & skin tag removalmicroneedling in ottawaphotorejuvenation/iplskinceuticals® facialsultherapy® skin tighteningskinceuticals® dr. hetz’s 5-step skin care routine dr. hetz’s 5-step skin care routineabout us about concept medical faqs training blog about concept medicalfaqstrainingblogcontact us microneedling 1272 wellington st. w, ottawa, on k1y 3a7 (613) 829-1266 (613)-482-4850 office@conceptmedical.ca mon-fri, 9-5pm get directions follow us on tiktok subscribe us on youtube about usconditionstreatmentsdisclaimer & privacy policybotox®belkyra™dermal and soft tissue fillersottawa coolsculpting® cliniclaser hair removalultherapy® skin tighteningscar removalmole removal'"
            ],
            "application/vnd.google.colaboratory.intrinsic+json": {
              "type": "string"
            }
          },
          "metadata": {},
          "execution_count": 67
        }
      ]
    },
    {
      "cell_type": "code",
      "source": [
        "#converting text into sentences and words\n",
        "corpus_sentences=nltk.sent_tokenize(corpus_text)\n",
        "corpus_words=nltk.word_tokenize(corpus_text)\n",
        "print(corpus_words)"
      ],
      "metadata": {
        "colab": {
          "base_uri": "https://localhost:8080/"
        },
        "id": "fHmnRvmFiIu_",
        "outputId": "6f96d2aa-e59c-46bd-a126-704a84119061"
      },
      "execution_count": 68,
      "outputs": [
        {
          "output_type": "stream",
          "name": "stdout",
          "text": [
            "['1.', 'what', 'is', 'the', 'difference', 'between', 'dry', 'and', 'dehydrated', 'skin', '?', 'dry', 'vs', 'dehydrated', 'skin', 'is', 'a', 'common', 'subject', 'of', 'confusion', 'for', 'a', 'lot', 'of', 'people', '.', 'dry', 'skin', 'is', 'a', 'skin', 'type', ',', 'which', 'lacks', 'proper', 'levels', 'of', 'oil', '.', 'it', 'will', 'often', 'have', 'an', 'uneven', 'tone', ',', 'small', 'pores', ',', 'feel', 'itchy', 'and', 'have', 'a', 'flaky', 'appearance', '.', 'to', 'soothe', 'dry', 'skin', ',', 'include', 'emollients', ',', 'ceramides', ',', 'mineral', 'oils', 'and', 'squalane', '.', 'dehydrated', 'skin', 'on', 'the', 'other', 'hand', ',', 'is', 'a', 'skin', 'condition', 'that', 'lacks', 'proper', 'levels', 'of', 'hydration', '.', 'it', 'will', 'have', 'a', 'dull', 'appearance', 'and', 'feel', 'tight', '.', 'one', 'way', 'to', 'tell', 'if', 'you', '’', 're', 'lacking', 'water', '?', 'press', 'upward', 'on', 'your', 'cheek', ',', 'and', 'if', 'fine', 'lines', 'appear', ',', 'increase', 'your', 'hydration', '.', 'ingredients', 'you', 'should', 'be', 'including', 'in', 'your', 'skincare', 'routine', 'are', 'hyaluronic', 'acid', ',', 'glycerin', ',', 'antioxidants.2', '.', 'what', 'skincare', 'products', 'should', 'everyone', 'use', '?', 'at', 'concept', 'medical', ',', 'we', 'truly', 'believe', 'that', 'absolutely', 'everyone', 'should', 'be', 'using', 'and', 'can', 'benefit', 'from', 'incorporating', 'three', 'specific', 'products', 'into', 'their', 'daily', 'routine', '.', 'these', 'three', 'products', 'are', 'a', 'vitamin', 'c', 'serum', '(', 'of', 'no', 'less', 'than', '10', '%', 'l-ascorbic', 'acid', ')', ',', 'a', 'retinol', 'product', ',', 'and', 'a', 'quality', 'broad-spectrum', 'sunscreen.3', '.', 'how', 'often', 'should', 'i', 'exfoliate', '?', 'typically', ',', 'the', 'frequency', 'you', 'should', 'be', 'exfoliating', 'will', 'be', 'based', 'off', 'of', 'if', 'your', 'skin', 'type', 'can', 'tolerate', 'it', '.', 'for', 'dry', 'and', 'sensitive', 'skin', 'once', 'every', '10', 'days', 'is', 'sufficient', ',', 'normal', 'to', 'combination', 'skin', 'once', 'a', 'week', ',', 'oily', 'skin', 'should', 'exfoliate', '2-3', 'times', 'a', 'week', '.', 'more', 'aggressive', 'exfoliation', 'such', 'as', 'chemical', 'peels', 'or', 'microdermabrasion', ',', 'should', 'be', 'performed', 'every', '4-6', 'weeks.4', '.', 'what', 'areas', 'of', 'my', 'body', 'should', 'i', 'be', 'applying', 'skincare', 'products', '?', 'of', 'course', ',', 'skincare', 'products', 'should', 'be', 'applied', 'to', 'your', 'face', ',', 'but', 'did', 'you', 'know', 'you', 'should', 'also', 'be', 'applying', 'serums', 'and', 'creams', 'to', 'your', 'neck', ',', 'décolleté', 'and', 'hands', '.', 'these', 'are', 'also', 'areas', 'that', 'show', 'signs', 'of', 'aging', ',', 'so', 'they', 'are', 'equally', 'important', 'to', 'treat', 'and', 'take', 'care', 'of.5', '.', 'at', 'what', 'age', 'should', 'i', 'begin', 'using', 'anti-aging', 'products', 'and', 'procedures', '?', 'did', 'you', 'know', 'that', 'by', 'the', 'age', 'of', '30', ',', 'your', 'natural', 'production', 'of', 'collagen', 'and', 'elastin', 'begins', 'to', 'decrease', 'by', '1', '%', 'each', 'year', '?', 'this', 'is', 'why', 'it', 'is', 'so', 'detrimental', 'to', 'begin', 'proper', 'anti-aging', 'skincare', 'by', 'your', 'late', 'twenties', '!', 'this', 'allows', 'proper', 'cellular', 'changes', 'to', 'be', 'made', 'to', 'aid', 'in', 'the', 'prevention', 'of', 'early', 'signs', 'of', 'aging.6', '.', 'what', 'are', 'my', 'options', 'to', 'treat', 'pigmentation', '?', 'at', 'concept', 'medical', ',', 'we', 'have', 'many', 'options', 'to', 'treat', 'pigmentation', '.', 'through', 'a', 'thorough', 'consultation', ',', 'you', 'will', 'be', 'guided', 'as', 'to', 'which', 'treatment', 'or', 'products', 'will', 'help', 'you', 'achieve', 'the', 'absolute', 'best', 'reduction', 'results', '.', 'treatment', 'options', 'include', 'light', 'therapy', '(', 'such', 'as', 'broad', 'band', 'light', 'treatments', ')', ',', 'micro-needling', 'and', 'medical', 'grade', 'chemical', 'peels', '.', 'we', 'also', 'have', 'medical', 'grade', 'skincare', 'options', 'with', 'active', 'ingredients', 'that', 'can', 'help', 'to', 'reduce', 'the', 'overall', 'appearance', 'of', 'pigmentation', 'in', 'the', 'skin.7', '.', 'do', 'i', 'need', 'a', 'different', 'cream', 'for', 'face', 'and', 'undereye', '?', 'the', 'short', 'answer', '–', 'yes', '!', 'the', 'skin', 'under', 'your', 'eye', 'is', 'much', 'thinner', 'and', 'more', 'sensitive', 'than', 'the', 'skin', 'on', 'the', 'rest', 'of', 'your', 'face', ',', 'meaning', 'it', 'requires', 'more', 'support', '.', 'when', 'choosing', 'an', 'undereye', 'cream', ',', 'look', 'for', 'products', 'that', 'include', 'antioxidants', ',', 'vitamins', ',', 'hyaluronic', 'acid', ',', 'and', 'possibly', 'a', 'low', 'percentage', 'retinol.8', '.', 'if', 'i', 'have', 'sensitive', 'skin', ',', 'can', 'i', 'still', 'use', 'a', 'retinol', 'product', '?', 'retinol', '(', 'or', 'vitamin', 'a', ')', 'is', 'a', 'well-loved', 'ingredient', 'due', 'to', 'its', 'ability', 'to', 'speed', 'skin', 'cell', 'turnover', 'and', 'boost', 'collagen', 'production', '.', 'while', 'sensitive', 'skin', 'can', 'use', 'a', 'retinol', 'product', ',', 'it', 'can', 'lead', 'to', 'flakiness', 'and', 'the', 'feeling', 'of', 'dryness', 'in', 'the', 'skin', '.', 'to', 'counter', 'this', ',', 'it', 'is', 'suggested', 'to', 'incorporate', 'a', 'hyaluronic', 'acid', 'and', 'proper', 'moisturizer', 'into', 'your', 'routine', '.', 'the', 'percentage', 'of', 'retinol', 'as', 'well', 'as', 'the', 'frequency', 'of', 'application', 'weekly', 'should', 'be', 'adjusted', 'to', 'suit', 'your', 'skin', 'type', '.', 'if', 'you', 'are', 'still', 'finding', 'the', 'usage', 'harsh', ',', 'consult', 'with', 'your', 'skincare', 'professional', 'for', 'alternative', 'options', 'that', 'are', 'best', 'suited', 'for', 'your', 'skin', 'type.9', '.', 'how', 'long', 'does', 'it', 'take', 'to', 'notice', 'a', 'change', 'in', 'my', 'skin', 'from', 'topical', 'products', '?', 'one', 'important', 'thing', 'to', 'remember', 'when', 'it', 'comes', 'to', 'skincare', 'products', 'is', 'to', 'be', 'consistent', 'and', 'patient', '.', 'you', 'have', 'to', 'remember', 'that', 'your', 'cellular', 'turnover', '(', 'how', 'quickly', 'dead', 'cells', 'shed', 'and', 'new', 'cells', 'surface', ')', 'is', 'at', 'minimum', '28', 'days', 'and', 'this', 'rate', 'slows', 'as', 'we', 'age', '.', 'a', 'general', 'rule', 'of', 'thumb', ',', 'is', 'to', 'expect', 'to', 'begin', 'to', 'see', 'changes', 'from', 'new', 'skincare', 'at', 'a', 'minimum', 'of', '4', 'weeks', 'from', 'starting', 'use', '.', 'of', 'course', ',', 'depending', 'on', 'the', 'product', 'itself', ',', 'it', 'may', 'actually', 'take', 'a', 'little', 'longer', 'to', 'notice', 'significant', 'change', '.', 'always', 'feel', 'free', 'to', 'ask', 'your', 'medical', 'aesthetician', 'or', 'dermatologist', 'for', 'proper', 'expectations.10', '.', 'can', 'i', 'mix', 'my', 'serums', 'into', 'my', 'moisturizer', '?', 'this', 'is', 'not', 'a', 'suggested', 'practice', 'for', 'your', 'skincare', 'and', 'the', 'reason', 'is', 'quite', 'simple', '.', 'your', 'serums', 'are', 'meant', 'to', 'be', 'applied', 'before', 'moisturizer', 'because', 'their', 'molecular', 'sizes', 'are', 'different', '.', 'serums', 'are', 'a', 'more', 'fluid', 'product', 'with', 'a', 'smaller', 'molecular', 'size', 'which', 'allows', 'it', 'to', 'penetrate', 'deeper', 'into', 'your', 'skin', 'layers', '.', 'creams', 'and', 'moisturizers', 'have', 'a', 'larger', 'molecule', 'size', ',', 'which', 'means', 'they', 'more', 'so', 'sit', 'on', 'the', 'top', 'layer', 'of', 'skin.11', '.', 'what', 'is', 'the', 'proper', 'order', 'to', 'apply', 'skincare', '?', 'the', 'proper', 'order', 'of', 'skincare', 'application', 'can', 'vary', 'depending', 'on', 'products', 'being', 'used', '.', 'typically', ',', 'for', 'morning', 'skincare', 'i', 'recommend', ':', 'cleanser', ',', 'toner', ',', 'antioxidant', 'serum', ',', 'hydrating', 'serum', ',', 'eye', 'cream', ',', 'moisturizer', ',', 'sunscreen', '.', 'for', 'a', 'nightly', 'routine', 'i', 'suggest', ':', 'an', 'oil-based', 'cleanser', ',', 'water-based', 'cleanser', ',', 'toner', ',', 'targeted', 'serum', ',', 'eye', 'cream', ',', 'retinol', ',', 'moisturizer.12', '.', 'what', 'is', 'the', 'biggest', 'misconception', 'regarding', 'acne', '?', 'the', 'biggest', 'misconception', 'that', 'i', 'have', 'noticed', 'with', 'acne', 'is', 'that', '“', 'drying', 'out', '”', 'your', 'skin', 'will', 'diminish', 'your', 'acne', '.', 'by', 'over', 'exfoliating', 'or', 'harshly', 'diminishing', 'the', 'oils', 'in', 'your', 'skins', 'protective', 'barrier', ',', 'you', 'are', 'actually', 'creating', 'more', 'of', 'a', 'problem', '.', 'by', 'doing', 'this', ',', 'your', 'sebaceous', 'glands', 'will', 'over', 'produce', 'oil', 'to', 'compensate', 'for', 'the', 'sudden', 'loss', ',', 'furthering', 'your', 'breakouts.13', '.', 'are', 'there', 'procedures', 'to', 'help', 'diminish', 'the', 'appearance', 'of', 'stretch', 'marks', '?', 'at', 'concept', 'medical', ',', 'we', 'often', 'suggest', 'a', 'micro-needling', 'series', 'to', 'reduce', 'the', 'appearance', 'of', 'stretch', 'marks', '.', 'typically', ',', 'people', 'assume', 'micro-needling', 'is', 'for', 'facial', 'treatments', 'only', ',', 'but', 'it', 'can', 'actually', 'be', 'performed', 'on', 'any', 'area', 'of', 'the', 'body', '.', 'this', 'collagen', 'induction', 'therapy', 'treatment', 'uses', 'sterile', 'surgical', 'grade', 'needles', 'which', 'are', 'used', 'to', 'create', 'controlled', 'injury', 'at', 'various', 'depths', 'of', 'the', 'skin', '.', 'this', 'injury', 'causes', 'a', 'cell', 'healing', 'response', 'from', 'the', 'body', ',', 'which', 'helps', 'to', 'repair', 'the', 'scarred', 'tissue', '.', 'typically', 'to', 'see', 'optimal', 'results', ',', 'a', '5-6', 'treatment', 'series', 'spaced', '6-8', 'weeks', 'between', 'individual', 'treatments', 'is', 'recommended', 'to', 'reduce', 'stretch', 'mark', 'appearance.14', '.', 'how', 'often', 'should', 'i', 'be', 'receiving', 'a', 'professional', 'facial', '?', 'typically', ',', 'when', 'treating', 'skin', 'conditions', ',', 'you', 'should', 'receive', 'a', 'professional', 'facial', 'once', 'within', 'your', 'cell', 'turnover', 'cycle', '(', 'this', 'means', 'once', 'every', '4-6', 'weeks', 'depending', 'on', 'your', 'age', ')', '.', 'if', 'you', 'find', 'your', 'skin', 'is', 'fully', 'balanced', ',', 'and', 'you', 'have', 'no', 'skin', 'conditions', 'needing', 'to', 'be', 'treated', ',', 'a', 'facial', 'once', 'a', 'season', 'is', 'an', 'acceptable', 'practice.15', '.', 'why', 'shouldn', '’', 't', 'i', 'do', 'extractions', 'myself', 'at', 'home', '?', 'although', 'it', 'is', 'so', 'tempting', 'to', 'extract', 'your', 'blemishes', 'yourself', ',', 'please', 'do', 'not', 'do', 'it', '.', 'unless', 'you', 'are', 'trained', 'how', 'to', 'do', 'extractions', 'properly', ',', 'there', 'is', 'a', 'very', 'good', 'chance', 'that', 'it', 'will', 'be', 'done', 'incorrectly', '.', 'this', 'will', 'cause', 'damage', 'to', 'your', 'skin', 'cells', ',', 'which', 'can', 'in', 'turn', 'cause', 'scarring', 'or', 'hyperpigmentation.16', '.', 'is', 'it', 'true', 'that', 'i', 'should', 'have', 'different', 'skincare', 'routines', 'throughout', 'the', 'year', '?', 'your', 'skin', 'type', 'is', 'genetic', 'and', 'therefore', 'does', 'not', 'change', ',', 'but', 'your', 'skins', 'conditions', 'may', 'change', 'throughout', 'the', 'year', 'as', 'your', 'environment', 'changes', '.', 'with', 'the', 'change', 'of', 'seasons', ',', 'you', 'may', 'find', 'that', 'the', 'skincare', 'routine', 'and', 'products', 'that', 'were', 'working', 'for', 'you', 'in', 'the', 'winter', ',', 'may', 'now', 'be', 'too', 'moisturizing', 'in', 'the', 'summer', 'heat', 'and', 'humidity', '.', 'it', 'is', 'often', 'a', 'great', 'idea', ',', 'to', 'have', 'products', 'that', 'suit', 'and', 'cater', 'to', 'your', 'current', 'skin', 'needs.17', '.', 'can', 'my', 'diet', 'really', 'affect', 'my', 'skin', '?', 'your', 'skins', 'health', 'and', 'condition', 'can', 'be', 'attributed', 'to', 'many', 'factors', '.', 'one', 'of', 'them', 'being', 'the', 'foods', 'we', 'intake', '.', 'surprisingly', ',', 'there', 'are', 'a', 'number', 'of', 'foods', 'linked', 'to', 'causing', 'hormonal', 'changes', 'in', 'your', 'body', '.', 'some', 'of', 'these', 'may', 'be', ':', 'milk', 'products', ',', 'peanut', 'products', ',', 'and', 'animal', 'products', '.', 'if', 'you', 'are', 'noticing', 'consistent', 'issues', 'with', 'your', 'skin', ',', 'we', 'suggest', 'a', 'consultation', 'with', 'one', 'of', 'your', 'medical', 'aestheticians', 'at', 'concept', 'medical.18', '.', 'are', 'there', 'certain', 'products', 'to', 'avoid', 'while', 'pregnant', '?', 'this', 'is', 'a', 'common', 'question', 'and', 'concern', 'that', 'we', 'hear', 'at', 'concept', 'medical', ',', 'and', 'yes', 'there', 'are', 'skincare', 'products', 'to', 'avoid', 'while', 'pregnant', '.', 'ruling', 'out', 'toxic', 'skincare', 'is', 'especially', 'important', 'especially', 'while', 'pregnant', '.', 'some', 'harmful', 'ingredients', 'you', 'must', 'watch', 'out', 'for', 'are', 'phthalates', ',', 'sulfates', ',', 'parabens', ',', 'bha', '’', 's', ',', 'silicones', ',', 'and', 'synthetic', 'fragrances', '.', 'additionally', ',', 'avoid', 'high', 'doses', 'of', 'retinol', ',', 'salicylic', 'acid', ',', 'and', 'benzoyl', 'peroxide', ',', 'as', 'these', 'may', 'cause', 'harm', 'to', 'the', 'baby.19', '.', 'how', 'can', 'i', 'make', 'my', 'pores', 'smaller', '?', 'contrary', 'to', 'popular', 'belief', ',', 'you', 'can', 'not', 'change', 'the', 'actual', 'size', 'of', 'your', 'pores', ',', 'as', 'your', 'pore', 'size', 'is', 'genetic', '.', 'what', 'you', 'can', 'do', 'is', 'keep', 'your', 'pores', 'tight', 'and', 'clean', 'through', 'treatment', 'and', 'proper', 'skincare', '.', 'by', 'doing', 'this', ',', 'it', 'gives', 'the', 'overall', 'appearance', 'of', 'smaller', 'pores', 'because', 'they', 'are', 'not', 'nearly', 'as', 'noticeable.20', '.', 'how', 'can', 'i', 'tell', 'my', 'skin', 'type', '?', 'typically', ',', 'you', 'should', 'always', 'receive', 'a', 'thorough', 'skin', 'analysis', 'from', 'a', 'professional', 'to', 'assess', 'skin', 'type', 'and', 'any', 'existing', 'conditions', ',', 'but', 'there', 'are', 'some', 'key', 'factors', 'when', 'trying', 'to', 'determine', 'this', 'yourself', 'at', 'home', '.', 'think', 'about', 'how', 'your', 'skin', 'feels', 'when', 'you', 'wake', 'up', 'in', 'the', 'morning', '.', 'if', 'it', '’', 's', 'generally', 'tight', 'and', 'flaky', ',', 'it', '’', 's', 'likely', 'to', 'be', 'dry', '.', 'oily', 'skin', 'usually', 'has', 'larger', 'pores', 'and', 'looks', 'shiny', 'and', 'glossy', 'all', 'over', '.', 'combination', 'skin', 'will', 'usually', 'have', 'an', 'oily', 't-zone', 'with', 'large', 'pores', ',', 'while', 'the', 'rest', 'of', 'the', 'face', 'is', 'dry', 'and', 'the', 'pores', 'are', 'smaller', '.', 'lastly', ',', 'normal', 'skin', 'feels', 'overall', 'even', 'and', 'balanced', '.', 'understanding', 'your', 'skin', 'type', 'or', 'any', 'existing', 'conditions', 'is', 'such', 'a', 'critical', 'part', 'of', 'achieving', 'balanced', 'skin', '!', 'determining', 'this', 'allows', 'for', 'proper', 'skincare', 'product', 'choice', 'and', 'treatment', 'planning', 'moving', 'forward.concept', 'medical', 'is', 'a', 'full', 'service', 'cosmetic', 'medicine', 'clinic', 'located', 'in', 'ottawa', ',', 'on', '.', 'we', 'provide', 'physician-led', ',', 'evidence', 'based', 'cosmetic', 'medicine', 'services', 'to', 'a', 'range', 'of', 'patients', 'in', 'ottawa', 'and', 'the', 'surrounding', 'areas.note', ':', 'the', 'information', 'contained', 'on', 'this', 'website', 'is', 'intended', 'for', 'a', 'canadian', 'audience', 'only', '.', 'it', 'is', 'designed', 'to', 'provide', 'general', 'information', ';', 'it', 'is', 'not', 'intended', 'or', 'implied', 'to', 'be', 'a', 'treatment', 'guide', ',', 'advertising', ',', 'or', 'a', 'substitute', 'for', 'medical', 'advice', '.', 'results', 'from', 'treatments', 'and', 'services', 'are', 'never', 'guaranteed', 'and', 'may', 'vary', '.', 'risks', 'are', 'possible', 'and', 'should', 'be', 'discussed', 'in', 'detail', 'with', 'your', 'provider', '.', 'please', 'read', 'our', '‘', 'disclaimer', '&', 'privacy', 'policy', '’', 'for', 'more', 'details', '.', 'website', 'design', 'and', 'seo', 'by', ':', 'rankify', 'digital', 'marketing', 'homeshopconditions', 'chronic', 'migraine', 'complexion', 'double', 'chin', 'excessive', 'sweating', '(', 'hyperhidrosis', ')', 'eyelashes', 'menu', 'chronic', 'migraine', 'complexion', 'double', 'chin', 'excessive', 'sweating', '(', 'hyperhidrosis', ')', 'eyelashes', 'facial', 'contouring', 'facial', 'veins', 'fat', 'reduction', '&', 'body', 'contouring', 'hair', 'loss', 'hand', 'rejuvenation', 'menu', 'facial', 'contouring', 'facial', 'veins', 'fat', 'reduction', '&', 'body', 'contouring', 'hair', 'loss', 'hand', 'rejuvenation', 'laser', 'hair', 'removal', 'leg', 'veins', 'moles', 'lips', 'rosacea', 'menu', 'laser', 'hair', 'removal', 'leg', 'veins', 'moles', 'lips', 'rosacea', 'scars', 'skin', 'cancer', 'skin', 'tightening', 'stretch', 'marks', 'sun', 'damage', 'menu', 'scars', 'skin', 'cancer', 'skin', 'tightening', 'stretch', 'marks', 'sun', 'damage', 'temporomandibular', 'joint', '(', 'tmj', ')', 'wrinkles', '&', 'lines', 'menu', 'temporomandibular', 'joint', '(', 'tmj', ')', 'wrinkles', '&', 'lines', 'chronic', 'migrainecomplexiondouble', 'chinexcessive', 'sweating', '(', 'hyperhidrosis', ')', 'eyelasheschronic', 'migrainecomplexiondouble', 'chinexcessive', 'sweating', '(', 'hyperhidrosis', ')', 'eyelashesfacial', 'contouringfacial', 'veinsfat', 'reduction', '&', 'body', 'contouringhair', 'losshand', 'rejuvenationfacial', 'contouringfacial', 'veinsfat', 'reduction', '&', 'body', 'contouringhair', 'losshand', 'rejuvenationlaser', 'hair', 'removalleg', 'veinsmoleslipsrosacealaser', 'hair', 'removalleg', 'veinsmoleslipsrosaceascarsskin', 'cancerskin', 'tighteningstretch', 'markssun', 'damagescarsskin', 'cancerskin', 'tighteningstretch', 'markssun', 'damagetemporomandibular', 'joint', '(', 'tmj', ')', 'wrinkles', '&', 'linestemporomandibular', 'joint', '(', 'tmj', ')', 'wrinkles', '&', 'linestreatments', 'platelet-rich', 'plasma', '(', 'prp', ')', 'belkyra™', 'botox', 'chronic', 'migraine', 'treatments', 'excessive', 'sweating', 'treatments', 'menu', 'platelet-rich', 'plasma', '(', 'prp', ')', 'belkyra™', 'botox', 'chronic', 'migraine', 'treatments', 'excessive', 'sweating', 'treatments', 'chemical', 'peels', 'coolsculpting®', 'dermal', 'fillers', 'grinding/bruxism', 'laser', 'hair', 'removal', 'laser', 'vein', 'treatments', 'menu', 'chemical', 'peels', 'coolsculpting®', 'dermal', 'fillers', 'grinding/bruxism', 'laser', 'hair', 'removal', 'laser', 'vein', 'treatments', 'latisse®', 'lip', 'filler', 'masseter', 'reduction', 'mole', '&', 'skin', 'tag', 'removal', 'microneedling', 'in', 'ottawa', 'menu', 'latisse®', 'lip', 'filler', 'masseter', 'reduction', 'mole', '&', 'skin', 'tag', 'removal', 'microneedling', 'in', 'ottawa', 'photorejuvenation/ipl', 'skinceuticals®', 'facials', 'ultherapy®', 'skin', 'tightening', 'menu', 'photorejuvenation/ipl', 'skinceuticals®', 'facials', 'ultherapy®', 'skin', 'tightening', 'platelet-rich', 'plasma', '(', 'prp', ')', 'belkyra™botoxchronic', 'migraine', 'treatmentsexcessive', 'sweating', 'treatmentsplatelet-rich', 'plasma', '(', 'prp', ')', 'belkyra™botoxchronic', 'migraine', 'treatmentsexcessive', 'sweating', 'treatmentschemical', 'peelscoolsculpting®dermal', 'fillersgrinding/bruxismlaser', 'hair', 'removallaser', 'vein', 'treatmentschemical', 'peelscoolsculpting®dermal', 'fillersgrinding/bruxismlaser', 'hair', 'removallaser', 'vein', 'treatmentslatisse®lip', 'fillermasseter', 'reductionmole', '&', 'skin', 'tag', 'removalmicroneedling', 'in', 'ottawalatisse®lip', 'fillermasseter', 'reductionmole', '&', 'skin', 'tag', 'removalmicroneedling', 'in', 'ottawaphotorejuvenation/iplskinceuticals®', 'facialsultherapy®', 'skin', 'tighteningphotorejuvenation/iplskinceuticals®', 'facialsultherapy®', 'skin', 'tighteningskinceuticals®', 'dr.', 'hetz', '’', 's', '5-step', 'skin', 'care', 'routine', 'dr.', 'hetz', '’', 's', '5-step', 'skin', 'care', 'routineabout', 'us', 'about', 'concept', 'medical', 'faqs', 'and', 'price', 'list', 'training', 'blog', 'about', 'concept', 'medicalfaqs', 'and', 'price', 'listtrainingblogcontact', 'ushomeshopconditions', 'chronic', 'migraine', 'complexion', 'double', 'chin', 'excessive', 'sweating', '(', 'hyperhidrosis', ')', 'eyelashes', 'facial', 'contouring', 'facial', 'veins', 'fat', 'reduction', '&', 'body', 'contouring', 'hair', 'loss', 'hand', 'rejuvenation', 'laser', 'hair', 'removal', 'leg', 'veins', 'moles', 'lips', 'rosacea', 'scars', 'skin', 'cancer', 'skin', 'tightening', 'stretch', 'marks', 'sun', 'damage', 'temporomandibular', 'joint', '(', 'tmj', ')', 'wrinkles', '&', 'lines', 'chronic', 'migrainecomplexiondouble', 'chinexcessive', 'sweating', '(', 'hyperhidrosis', ')', 'eyelashesfacial', 'contouringfacial', 'veinsfat', 'reduction', '&', 'body', 'contouringhair', 'losshand', 'rejuvenationlaser', 'hair', 'removalleg', 'veinsmoleslipsrosaceascarsskin', 'cancerskin', 'tighteningstretch', 'markssun', 'damagetemporomandibular', 'joint', '(', 'tmj', ')', 'wrinkles', '&', 'linestreatments', 'platelet-rich', 'plasma', '(', 'prp', ')', 'belkyra™', 'botox', 'chronic', 'migraine', 'treatments', 'excessive', 'sweating', 'treatments', 'chemical', 'peels', 'coolsculpting®', 'dermal', 'fillers', 'grinding/bruxism', 'laser', 'hair', 'removal', 'laser', 'vein', 'treatments', 'latisse®', 'lip', 'filler', 'masseter', 'reduction', 'mole', '&', 'skin', 'tag', 'removal', 'microneedling', 'in', 'ottawa', 'photorejuvenation/ipl', 'skinceuticals®', 'facials', 'ultherapy®', 'skin', 'tightening', 'platelet-rich', 'plasma', '(', 'prp', ')', 'belkyra™botoxchronic', 'migraine', 'treatmentsexcessive', 'sweating', 'treatmentschemical', 'peelscoolsculpting®dermal', 'fillersgrinding/bruxismlaser', 'hair', 'removallaser', 'vein', 'treatmentslatisse®lip', 'fillermasseter', 'reductionmole', '&', 'skin', 'tag', 'removalmicroneedling', 'in', 'ottawaphotorejuvenation/iplskinceuticals®', 'facialsultherapy®', 'skin', 'tighteningskinceuticals®', 'dr.', 'hetz', '’', 's', '5-step', 'skin', 'care', 'routine', 'dr.', 'hetz', '’', 's', '5-step', 'skin', 'care', 'routineabout', 'us', 'about', 'concept', 'medical', 'faqs', 'training', 'blog', 'about', 'concept', 'medicalfaqstrainingblogcontact', 'ushomeshopconditions', 'chronic', 'migraine', 'complexion', 'double', 'chin', 'excessive', 'sweating', '(', 'hyperhidrosis', ')', 'eyelashes', 'facial', 'contouring', 'facial', 'veins', 'fat', 'reduction', '&', 'body', 'contouring', 'hair', 'loss', 'hand', 'rejuvenation', 'laser', 'hair', 'removal', 'leg', 'veins', 'moles', 'lips', 'rosacea', 'scars', 'skin', 'cancer', 'skin', 'tightening', 'stretch', 'marks', 'sun', 'damage', 'temporomandibular', 'joint', '(', 'tmj', ')', 'wrinkles', '&', 'lines', 'chronic', 'migrainecomplexiondouble', 'chinexcessive', 'sweating', '(', 'hyperhidrosis', ')', 'eyelashesfacial', 'contouringfacial', 'veinsfat', 'reduction', '&', 'body', 'contouringhair', 'losshand', 'rejuvenationlaser', 'hair', 'removalleg', 'veinsmoleslipsrosaceascarsskin', 'cancerskin', 'tighteningstretch', 'markssun', 'damagetemporomandibular', 'joint', '(', 'tmj', ')', 'wrinkles', '&', 'linestreatments', 'platelet-rich', 'plasma', '(', 'prp', ')', 'belkyra™', 'botox', 'chronic', 'migraine', 'treatments', 'excessive', 'sweating', 'treatments', 'chemical', 'peels', 'coolsculpting®', 'dermal', 'fillers', 'grinding/bruxism', 'laser', 'hair', 'removal', 'laser', 'vein', 'treatments', 'latisse®', 'lip', 'filler', 'masseter', 'reduction', 'mole', '&', 'skin', 'tag', 'removal', 'microneedling', 'in', 'ottawa', 'photorejuvenation/ipl', 'skinceuticals®', 'facials', 'ultherapy®', 'skin', 'tightening', 'platelet-rich', 'plasma', '(', 'prp', ')', 'belkyra™botoxchronic', 'migraine', 'treatmentsexcessive', 'sweating', 'treatmentschemical', 'peelscoolsculpting®dermal', 'fillersgrinding/bruxismlaser', 'hair', 'removallaser', 'vein', 'treatmentslatisse®lip', 'fillermasseter', 'reductionmole', '&', 'skin', 'tag', 'removalmicroneedling', 'in', 'ottawaphotorejuvenation/iplskinceuticals®', 'facialsultherapy®', 'skin', 'tighteningskinceuticals®', 'dr.', 'hetz', '’', 's', '5-step', 'skin', 'care', 'routine', 'dr.', 'hetz', '’', 's', '5-step', 'skin', 'care', 'routineabout', 'us', 'about', 'concept', 'medical', 'faqs', 'training', 'blog', 'about', 'concept', 'medicalfaqstrainingblogcontact', 'us', 'microneedling', '1272', 'wellington', 'st.', 'w', ',', 'ottawa', ',', 'on', 'k1y', '3a7', '(', '613', ')', '829-1266', '(', '613', ')', '-482-4850', 'office', '@', 'conceptmedical.ca', 'mon-fri', ',', '9-5pm', 'get', 'directions', 'follow', 'us', 'on', 'tiktok', 'subscribe', 'us', 'on', 'youtube', 'about', 'usconditionstreatmentsdisclaimer', '&', 'privacy', 'policybotox®belkyra™dermal', 'and', 'soft', 'tissue', 'fillersottawa', 'coolsculpting®', 'cliniclaser', 'hair', 'removalultherapy®', 'skin', 'tighteningscar', 'removalmole', 'removal']\n"
          ]
        }
      ]
    },
    {
      "cell_type": "code",
      "source": [
        "greeting_inputs=[\"hey\",\"hello\",\"hi\",\"heyaa\",\"good morning\",\"good evening\",\"morning\",\"evenings\",\"greetings for the day\",\"sup\",\"whatsup\",\"wassup\",\"hola\"]\n",
        "greeting_response=[\"Hey\",\"Hows You\",\"How you doin?\",\"**nods**\",\"Hello, how are you?\",\"Hello\",\"Hi there mate\",\"Hola, Whats up\"]"
      ],
      "metadata": {
        "id": "Xo5d_FQwgvwr"
      },
      "execution_count": 69,
      "outputs": []
    },
    {
      "cell_type": "code",
      "source": [
        "def greet_someone(greeting):\n",
        "  for x in greeting.split():\n",
        "      if x.lower() in greeting_inputs:\n",
        "          return (random.choice(greeting_response))"
      ],
      "metadata": {
        "id": "wWShc0EkiMis"
      },
      "execution_count": 70,
      "outputs": []
    },
    {
      "cell_type": "code",
      "source": [
        "wn_lemmatizer = nltk.stem.WordNetLemmatizer()\n",
        "\n",
        "def lemmatize_data(tokens):\n",
        "    return [wn_lemmatizer.lemmatize(token) for token in tokens]\n",
        "\n",
        "punct_remover=dict((ord(punctuation),None) for punctuation in string.punctuation)"
      ],
      "metadata": {
        "id": "dGfN_HIXiPI-"
      },
      "execution_count": 71,
      "outputs": []
    },
    {
      "cell_type": "code",
      "source": [
        "def get_processed_data(data):\n",
        "    return lemmatize_data(nltk.word_tokenize(data.lower().translate(punct_remover)))"
      ],
      "metadata": {
        "id": "WjJcpayeiSDB"
      },
      "execution_count": 72,
      "outputs": []
    },
    {
      "cell_type": "code",
      "source": [
        "print(greet_someone(\"Hey\"))"
      ],
      "metadata": {
        "colab": {
          "base_uri": "https://localhost:8080/"
        },
        "id": "YtQtweiMm-BI",
        "outputId": "47ef1063-7f68-4ea1-c085-f348fae9af1f"
      },
      "execution_count": 73,
      "outputs": [
        {
          "output_type": "stream",
          "name": "stdout",
          "text": [
            "Hello\n"
          ]
        }
      ]
    },
    {
      "cell_type": "code",
      "source": [
        "def respond(input):\n",
        "  bot_response=''\n",
        "  corpus_sentences.append(input)\n",
        "\n",
        "  word_vectorizer=TfidfVectorizer(tokenizer=get_processed_data,stop_words='english')\n",
        "  corpus_word_vectors=word_vectorizer.fit_transform(corpus_sentences)\n",
        "  cos_sin_vectors=cosine_similarity(corpus_word_vectors[-1],corpus_word_vectors)\n",
        "  similar_response_idx=cos_sin_vectors.argsort()[0][-2]\n",
        "\n",
        "  matched_vector = cos_sin_vectors.flatten()\n",
        "  matched_vector.sort()\n",
        "  vector_matched = matched_vector[-2]\n",
        "\n",
        "  if vector_matched==0:\n",
        "    bot_response=bot_response+\"I am sorry I could not get that\"\n",
        "  else:\n",
        "    bot_response=bot_response+corpus_sentences[similar_response_idx]\n",
        "    return bot_response"
      ],
      "metadata": {
        "id": "h-O3yNdOiZwj"
      },
      "execution_count": 74,
      "outputs": []
    },
    {
      "cell_type": "code",
      "source": [
        "chat = True\n",
        "print(\"Cera : Heloo! I am Cera, your Skincare Assistant\")\n",
        "print(\"Cera : What would you like to ask?\")\n",
        "while(chat == True):\n",
        "  user_query = input(\"Me : \")\n",
        "  user_query = user_query.lower()\n",
        "  if (user_query != \"quit\" or user_query != \"bye\"):\n",
        "    if(user_query == \"thanks\" or user_query == \"thank you\"):\n",
        "      chat = False\n",
        "      print(\"Cera : You are welcome!\")\n",
        "\n",
        "    else:\n",
        "      if greet_someone(user_query) != None:\n",
        "        print(\"Cera : \" + greet_someone(user_query))\n",
        "      else:\n",
        "        print(\"Cera : \", end = \"\")\n",
        "        print(respond(user_query))\n",
        "        corpus_sentences.remove(user_query)\n",
        "\n",
        "  else:\n",
        "    chat = False\n",
        "    print(\"Cera : Bye, Have a nice day\")\n",
        "\n"
      ],
      "metadata": {
        "id": "8poET1bxse8Z",
        "colab": {
          "base_uri": "https://localhost:8080/",
          "height": 730
        },
        "outputId": "e67a5370-16b4-4892-8df3-97bf74dc2e1b"
      },
      "execution_count": 78,
      "outputs": [
        {
          "name": "stdout",
          "output_type": "stream",
          "text": [
            "Cera : Heloo! I am Cera, your Skincare Assistant\n",
            "Cera : What would you like to ask?\n",
            "Me : Should i use sunscreen?\n"
          ]
        },
        {
          "output_type": "stream",
          "name": "stderr",
          "text": [
            "/usr/local/lib/python3.7/dist-packages/sklearn/feature_extraction/text.py:401: UserWarning: Your stop_words may be inconsistent with your preprocessing. Tokenizing the stop words generated tokens ['ha', 'le', 'u', 'wa'] not in stop_words.\n",
            "  % sorted(inconsistent)\n"
          ]
        },
        {
          "output_type": "stream",
          "name": "stdout",
          "text": [
            "Cera : typically, for morning skincare i recommend: cleanser, toner, antioxidant serum, hydrating serum, eye cream, moisturizer, sunscreen.\n",
            "Me : okayy\n",
            "Cera : None\n",
            "Me : how are you?\n",
            "Cera : None\n"
          ]
        },
        {
          "output_type": "error",
          "ename": "KeyboardInterrupt",
          "evalue": "ignored",
          "traceback": [
            "\u001b[0;31m---------------------------------------------------------------------------\u001b[0m",
            "\u001b[0;31mKeyboardInterrupt\u001b[0m                         Traceback (most recent call last)",
            "\u001b[0;32m/usr/local/lib/python3.7/dist-packages/ipykernel/kernelbase.py\u001b[0m in \u001b[0;36m_input_request\u001b[0;34m(self, prompt, ident, parent, password)\u001b[0m\n\u001b[1;32m    728\u001b[0m             \u001b[0;32mtry\u001b[0m\u001b[0;34m:\u001b[0m\u001b[0;34m\u001b[0m\u001b[0;34m\u001b[0m\u001b[0m\n\u001b[0;32m--> 729\u001b[0;31m                 \u001b[0mident\u001b[0m\u001b[0;34m,\u001b[0m \u001b[0mreply\u001b[0m \u001b[0;34m=\u001b[0m \u001b[0mself\u001b[0m\u001b[0;34m.\u001b[0m\u001b[0msession\u001b[0m\u001b[0;34m.\u001b[0m\u001b[0mrecv\u001b[0m\u001b[0;34m(\u001b[0m\u001b[0mself\u001b[0m\u001b[0;34m.\u001b[0m\u001b[0mstdin_socket\u001b[0m\u001b[0;34m,\u001b[0m \u001b[0;36m0\u001b[0m\u001b[0;34m)\u001b[0m\u001b[0;34m\u001b[0m\u001b[0;34m\u001b[0m\u001b[0m\n\u001b[0m\u001b[1;32m    730\u001b[0m             \u001b[0;32mexcept\u001b[0m \u001b[0mException\u001b[0m\u001b[0;34m:\u001b[0m\u001b[0;34m\u001b[0m\u001b[0;34m\u001b[0m\u001b[0m\n",
            "\u001b[0;32m/usr/local/lib/python3.7/dist-packages/jupyter_client/session.py\u001b[0m in \u001b[0;36mrecv\u001b[0;34m(self, socket, mode, content, copy)\u001b[0m\n\u001b[1;32m    802\u001b[0m         \u001b[0;32mtry\u001b[0m\u001b[0;34m:\u001b[0m\u001b[0;34m\u001b[0m\u001b[0;34m\u001b[0m\u001b[0m\n\u001b[0;32m--> 803\u001b[0;31m             \u001b[0mmsg_list\u001b[0m \u001b[0;34m=\u001b[0m \u001b[0msocket\u001b[0m\u001b[0;34m.\u001b[0m\u001b[0mrecv_multipart\u001b[0m\u001b[0;34m(\u001b[0m\u001b[0mmode\u001b[0m\u001b[0;34m,\u001b[0m \u001b[0mcopy\u001b[0m\u001b[0;34m=\u001b[0m\u001b[0mcopy\u001b[0m\u001b[0;34m)\u001b[0m\u001b[0;34m\u001b[0m\u001b[0;34m\u001b[0m\u001b[0m\n\u001b[0m\u001b[1;32m    804\u001b[0m         \u001b[0;32mexcept\u001b[0m \u001b[0mzmq\u001b[0m\u001b[0;34m.\u001b[0m\u001b[0mZMQError\u001b[0m \u001b[0;32mas\u001b[0m \u001b[0me\u001b[0m\u001b[0;34m:\u001b[0m\u001b[0;34m\u001b[0m\u001b[0;34m\u001b[0m\u001b[0m\n",
            "\u001b[0;32m/usr/local/lib/python3.7/dist-packages/zmq/sugar/socket.py\u001b[0m in \u001b[0;36mrecv_multipart\u001b[0;34m(self, flags, copy, track)\u001b[0m\n\u001b[1;32m    726\u001b[0m         \"\"\"\n\u001b[0;32m--> 727\u001b[0;31m         \u001b[0mparts\u001b[0m \u001b[0;34m=\u001b[0m \u001b[0;34m[\u001b[0m\u001b[0mself\u001b[0m\u001b[0;34m.\u001b[0m\u001b[0mrecv\u001b[0m\u001b[0;34m(\u001b[0m\u001b[0mflags\u001b[0m\u001b[0;34m,\u001b[0m \u001b[0mcopy\u001b[0m\u001b[0;34m=\u001b[0m\u001b[0mcopy\u001b[0m\u001b[0;34m,\u001b[0m \u001b[0mtrack\u001b[0m\u001b[0;34m=\u001b[0m\u001b[0mtrack\u001b[0m\u001b[0;34m)\u001b[0m\u001b[0;34m]\u001b[0m\u001b[0;34m\u001b[0m\u001b[0;34m\u001b[0m\u001b[0m\n\u001b[0m\u001b[1;32m    728\u001b[0m         \u001b[0;31m# have first part already, only loop while more to receive\u001b[0m\u001b[0;34m\u001b[0m\u001b[0;34m\u001b[0m\u001b[0;34m\u001b[0m\u001b[0m\n",
            "\u001b[0;32mzmq/backend/cython/socket.pyx\u001b[0m in \u001b[0;36mzmq.backend.cython.socket.Socket.recv\u001b[0;34m()\u001b[0m\n",
            "\u001b[0;32mzmq/backend/cython/socket.pyx\u001b[0m in \u001b[0;36mzmq.backend.cython.socket.Socket.recv\u001b[0;34m()\u001b[0m\n",
            "\u001b[0;32mzmq/backend/cython/socket.pyx\u001b[0m in \u001b[0;36mzmq.backend.cython.socket._recv_copy\u001b[0;34m()\u001b[0m\n",
            "\u001b[0;32m/usr/local/lib/python3.7/dist-packages/zmq/backend/cython/checkrc.pxd\u001b[0m in \u001b[0;36mzmq.backend.cython.checkrc._check_rc\u001b[0;34m()\u001b[0m\n",
            "\u001b[0;31mKeyboardInterrupt\u001b[0m: ",
            "\nDuring handling of the above exception, another exception occurred:\n",
            "\u001b[0;31mKeyboardInterrupt\u001b[0m                         Traceback (most recent call last)",
            "\u001b[0;32m<ipython-input-78-4ceb6a1f2caf>\u001b[0m in \u001b[0;36m<module>\u001b[0;34m()\u001b[0m\n\u001b[1;32m      3\u001b[0m \u001b[0mprint\u001b[0m\u001b[0;34m(\u001b[0m\u001b[0;34m\"Cera : What would you like to ask?\"\u001b[0m\u001b[0;34m)\u001b[0m\u001b[0;34m\u001b[0m\u001b[0;34m\u001b[0m\u001b[0m\n\u001b[1;32m      4\u001b[0m \u001b[0;32mwhile\u001b[0m\u001b[0;34m(\u001b[0m\u001b[0mchat\u001b[0m \u001b[0;34m==\u001b[0m \u001b[0;32mTrue\u001b[0m\u001b[0;34m)\u001b[0m\u001b[0;34m:\u001b[0m\u001b[0;34m\u001b[0m\u001b[0;34m\u001b[0m\u001b[0m\n\u001b[0;32m----> 5\u001b[0;31m   \u001b[0muser_query\u001b[0m \u001b[0;34m=\u001b[0m \u001b[0minput\u001b[0m\u001b[0;34m(\u001b[0m\u001b[0;34m\"Me : \"\u001b[0m\u001b[0;34m)\u001b[0m\u001b[0;34m\u001b[0m\u001b[0;34m\u001b[0m\u001b[0m\n\u001b[0m\u001b[1;32m      6\u001b[0m   \u001b[0muser_query\u001b[0m \u001b[0;34m=\u001b[0m \u001b[0muser_query\u001b[0m\u001b[0;34m.\u001b[0m\u001b[0mlower\u001b[0m\u001b[0;34m(\u001b[0m\u001b[0;34m)\u001b[0m\u001b[0;34m\u001b[0m\u001b[0;34m\u001b[0m\u001b[0m\n\u001b[1;32m      7\u001b[0m   \u001b[0;32mif\u001b[0m \u001b[0;34m(\u001b[0m\u001b[0muser_query\u001b[0m \u001b[0;34m!=\u001b[0m \u001b[0;34m\"quit\"\u001b[0m \u001b[0;32mor\u001b[0m \u001b[0muser_query\u001b[0m \u001b[0;34m!=\u001b[0m \u001b[0;34m\"bye\"\u001b[0m\u001b[0;34m)\u001b[0m\u001b[0;34m:\u001b[0m\u001b[0;34m\u001b[0m\u001b[0;34m\u001b[0m\u001b[0m\n",
            "\u001b[0;32m/usr/local/lib/python3.7/dist-packages/ipykernel/kernelbase.py\u001b[0m in \u001b[0;36mraw_input\u001b[0;34m(self, prompt)\u001b[0m\n\u001b[1;32m    702\u001b[0m             \u001b[0mself\u001b[0m\u001b[0;34m.\u001b[0m\u001b[0m_parent_ident\u001b[0m\u001b[0;34m,\u001b[0m\u001b[0;34m\u001b[0m\u001b[0;34m\u001b[0m\u001b[0m\n\u001b[1;32m    703\u001b[0m             \u001b[0mself\u001b[0m\u001b[0;34m.\u001b[0m\u001b[0m_parent_header\u001b[0m\u001b[0;34m,\u001b[0m\u001b[0;34m\u001b[0m\u001b[0;34m\u001b[0m\u001b[0m\n\u001b[0;32m--> 704\u001b[0;31m             \u001b[0mpassword\u001b[0m\u001b[0;34m=\u001b[0m\u001b[0;32mFalse\u001b[0m\u001b[0;34m,\u001b[0m\u001b[0;34m\u001b[0m\u001b[0;34m\u001b[0m\u001b[0m\n\u001b[0m\u001b[1;32m    705\u001b[0m         )\n\u001b[1;32m    706\u001b[0m \u001b[0;34m\u001b[0m\u001b[0m\n",
            "\u001b[0;32m/usr/local/lib/python3.7/dist-packages/ipykernel/kernelbase.py\u001b[0m in \u001b[0;36m_input_request\u001b[0;34m(self, prompt, ident, parent, password)\u001b[0m\n\u001b[1;32m    732\u001b[0m             \u001b[0;32mexcept\u001b[0m \u001b[0mKeyboardInterrupt\u001b[0m\u001b[0;34m:\u001b[0m\u001b[0;34m\u001b[0m\u001b[0;34m\u001b[0m\u001b[0m\n\u001b[1;32m    733\u001b[0m                 \u001b[0;31m# re-raise KeyboardInterrupt, to truncate traceback\u001b[0m\u001b[0;34m\u001b[0m\u001b[0;34m\u001b[0m\u001b[0;34m\u001b[0m\u001b[0m\n\u001b[0;32m--> 734\u001b[0;31m                 \u001b[0;32mraise\u001b[0m \u001b[0mKeyboardInterrupt\u001b[0m\u001b[0;34m\u001b[0m\u001b[0;34m\u001b[0m\u001b[0m\n\u001b[0m\u001b[1;32m    735\u001b[0m             \u001b[0;32melse\u001b[0m\u001b[0;34m:\u001b[0m\u001b[0;34m\u001b[0m\u001b[0;34m\u001b[0m\u001b[0m\n\u001b[1;32m    736\u001b[0m                 \u001b[0;32mbreak\u001b[0m\u001b[0;34m\u001b[0m\u001b[0;34m\u001b[0m\u001b[0m\n",
            "\u001b[0;31mKeyboardInterrupt\u001b[0m: "
          ]
        }
      ]
    },
    {
      "cell_type": "code",
      "source": [
        "nltk.download('omw-1.4')"
      ],
      "metadata": {
        "colab": {
          "base_uri": "https://localhost:8080/"
        },
        "id": "x_8gPS4kiuW2",
        "outputId": "a7c43f68-245e-49d3-e6dc-912ed477f591"
      },
      "execution_count": 35,
      "outputs": [
        {
          "output_type": "stream",
          "name": "stderr",
          "text": [
            "[nltk_data] Downloading package omw-1.4 to /root/nltk_data...\n"
          ]
        },
        {
          "output_type": "execute_result",
          "data": {
            "text/plain": [
              "True"
            ]
          },
          "metadata": {},
          "execution_count": 35
        }
      ]
    },
    {
      "cell_type": "code",
      "source": [
        ""
      ],
      "metadata": {
        "id": "Vl50N6XQktGh"
      },
      "execution_count": null,
      "outputs": []
    }
  ]
}
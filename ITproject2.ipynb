{
  "nbformat": 4,
  "nbformat_minor": 0,
  "metadata": {
    "colab": {
      "name": "ITproject2.ipynb",
      "provenance": [],
      "collapsed_sections": [],
      "include_colab_link": true
    },
    "kernelspec": {
      "name": "python3",
      "display_name": "Python 3"
    },
    "language_info": {
      "name": "python"
    }
  },
  "cells": [
    {
      "cell_type": "markdown",
      "metadata": {
        "id": "view-in-github",
        "colab_type": "text"
      },
      "source": [
        "<a href=\"https://colab.research.google.com/github/kavyaaa-1/IT-Project_Chatbot/blob/main/ITproject2.ipynb\" target=\"_parent\"><img src=\"https://colab.research.google.com/assets/colab-badge.svg\" alt=\"Open In Colab\"/></a>"
      ]
    },
    {
      "cell_type": "code",
      "execution_count": 141,
      "metadata": {
        "id": "ihWLY3qyWABT"
      },
      "outputs": [],
      "source": [
        "import nltk \n",
        "import numpy as np\n",
        "import random\n",
        "import string\n",
        "\n",
        "import warnings\n",
        "warnings.filterwarnings = False \n",
        "\n",
        "from sklearn.feature_extraction.text import TfidfVectorizer\n",
        "from sklearn.metrics.pairwise import cosine_similarity\n"
      ]
    },
    {
      "cell_type": "code",
      "source": [
        "nltk.download('omw-1.4')"
      ],
      "metadata": {
        "colab": {
          "base_uri": "https://localhost:8080/"
        },
        "id": "x_8gPS4kiuW2",
        "outputId": "af88c0a6-e7a9-466d-f8f4-561408512569"
      },
      "execution_count": 142,
      "outputs": [
        {
          "output_type": "stream",
          "name": "stderr",
          "text": [
            "[nltk_data] Downloading package omw-1.4 to /root/nltk_data...\n",
            "[nltk_data]   Package omw-1.4 is already up-to-date!\n"
          ]
        },
        {
          "output_type": "execute_result",
          "data": {
            "text/plain": [
              "True"
            ]
          },
          "metadata": {},
          "execution_count": 142
        }
      ]
    },
    {
      "cell_type": "code",
      "source": [
        "from bs4 import BeautifulSoup\n",
        "import requests\n",
        "import re\n",
        "nltk.download('punkt')\n",
        "nltk.download(\"wordnet\")"
      ],
      "metadata": {
        "colab": {
          "base_uri": "https://localhost:8080/"
        },
        "id": "ODOq5D23idTi",
        "outputId": "62b404ed-4727-4844-b400-cca59f5574b9"
      },
      "execution_count": 143,
      "outputs": [
        {
          "output_type": "stream",
          "name": "stderr",
          "text": [
            "[nltk_data] Downloading package punkt to /root/nltk_data...\n",
            "[nltk_data]   Package punkt is already up-to-date!\n",
            "[nltk_data] Downloading package wordnet to /root/nltk_data...\n",
            "[nltk_data]   Package wordnet is already up-to-date!\n"
          ]
        },
        {
          "output_type": "execute_result",
          "data": {
            "text/plain": [
              "True"
            ]
          },
          "metadata": {},
          "execution_count": 143
        }
      ]
    },
    {
      "cell_type": "code",
      "source": [
        "#headers = {'User-Agent': 'Mozilla/5.0 (Windows NT 10.0; Win64; x64) AppleWebKit/537.36 (KHTML, like Gecko) Chrome/71.0.3578.98 Safari/537.36', \n",
        "#'Accept' : 'text/html,application/xhtml+xml,application/xml;q=0.9,*/*;q=0.8', \n",
        "#'Accept-Language' : 'en-US,en;q=0.5',\n",
        "#'Accept-Encoding' : 'gzip', \n",
        "#'DNT' : '1', # Do Not Track Request Header \n",
        "#'Connection' : 'close'}"
      ],
      "metadata": {
        "id": "Fo1WQAqlW37Q"
      },
      "execution_count": 144,
      "outputs": []
    },
    {
      "cell_type": "code",
      "source": [
        "#url = (\"https://conceptmedical.ca/20-popular-skincare-questions/\")\n",
        "\n",
        "#html = requests.get(url, headers = headers).text\n",
        "#soup = BeautifulSoup(html)"
      ],
      "metadata": {
        "id": "YD8hVNjfWaSF"
      },
      "execution_count": 145,
      "outputs": []
    },
    {
      "cell_type": "code",
      "source": [
        "#info = soup.find_all('p')\n",
        "#info2 = soup.find_all('li')"
      ],
      "metadata": {
        "id": "KBWntV0ZcxEx"
      },
      "execution_count": 146,
      "outputs": []
    },
    {
      "cell_type": "code",
      "source": [
        "#text1 = \" \"\n",
        "\n",
        "#for para in info:\n",
        "#  text1 += para.text\n"
      ],
      "metadata": {
        "id": "rKpmyFDUXT84"
      },
      "execution_count": 147,
      "outputs": []
    },
    {
      "cell_type": "code",
      "source": [
        "#text2 = \" \"\n",
        "\n",
        "#for lists in info2:\n",
        "#  text2 += lists.text"
      ],
      "metadata": {
        "id": "bT2LbIC8b1Pc"
      },
      "execution_count": 148,
      "outputs": []
    },
    {
      "cell_type": "code",
      "source": [
        "#corpus_text = text1 + text2"
      ],
      "metadata": {
        "id": "NoYsIB5_YwmQ"
      },
      "execution_count": 149,
      "outputs": []
    },
    {
      "cell_type": "code",
      "source": [
        "f = open(\"/content/Cera DataSet.txt\", \"r\")\n",
        "corpus_text = f.read()"
      ],
      "metadata": {
        "id": "ZM9J330k3Cis"
      },
      "execution_count": 150,
      "outputs": []
    },
    {
      "cell_type": "code",
      "source": [
        "corpus_text = corpus_text.lower()"
      ],
      "metadata": {
        "id": "ulKcbYTVdAYD"
      },
      "execution_count": 151,
      "outputs": []
    },
    {
      "cell_type": "code",
      "source": [
        "corpus_text = re.sub(r'\\[[0-9]*\\]', ' ', corpus_text)\n",
        "corpus_text = re.sub(r'\\s+', ' ', corpus_text)"
      ],
      "metadata": {
        "id": "LOyqskicd9Zm"
      },
      "execution_count": 152,
      "outputs": []
    },
    {
      "cell_type": "code",
      "source": [
        "corpus_text"
      ],
      "metadata": {
        "id": "RodrLpeYe0MF",
        "outputId": "2e823294-185c-43b2-878d-4ea1fa532e3b",
        "colab": {
          "base_uri": "https://localhost:8080/",
          "height": 140
        }
      },
      "execution_count": 153,
      "outputs": [
        {
          "output_type": "execute_result",
          "data": {
            "text/plain": [
              "\"dry vs dehydrated skin is a common subject of confusion for a lot of people. dry skin is a skin type, which lacks proper levels of oil. it will often have an uneven tone, small pores, feel itchy and have a flaky appearance. to soothe dry skin, include emollients, ceramides, mineral oils and squalane. dehydrated skin on the other hand, is a skin condition that lacks proper levels of hydration. it will have a dull appearance and feel tight. press upward on your cheek, and if fine lines appear, increase your hydration. ingredients you should be including in your skincare routine are hyaluronic acid, glycerin, antioxidants. these three products are a vitamin c serum (of no less than 10% l-ascorbic acid), a retinol product, and a quality broad-spectrum sunscreen , the frequency you should be exfoliating will be based off of if your skin type can tolerate it. for dry and sensitive skin once every 10 days is sufficient, normal to combination skin once a week, oily skin should exfoliate 2-3 times a week. more aggressive exfoliation such as chemical peels or microdermabrasion, should be performed every 4-6 weeks.of course, skincare products should be applied to your face, but did you know you should also be applying serums and creams to your neck, décolleté and hands. these are also areas that show signs of aging, so they are equally important to treat and take care of this allows proper cellular changes to be made to aid in the prevention of early signs of aging at concept medical, we have many options to treat pigmentation. through a thorough consultation, you will be guided as to which treatment or products will help you achieve the absolute best reduction results. treatment options include light therapy (such as broad band light treatments), micro-needling and medical grade chemical peels. we also have medical grade skincare options with active ingredients that can help to reduce the overall appearance of pigmentation in the skin. the short answer – yes! the skin under your eye is much thinner and more sensitive than the skin on the rest of your face, meaning it requires more support. when choosing an undereye cream, look for products that include antioxidants, vitamins, hyaluronic acid, and possibly a low percentage retinol.retinol (or vitamin a) is a well-loved ingredient due to its ability to speed skin cell turnover and boost collagen production. while sensitive skin can use a retinol product, it can lead to flakiness and the feeling of dryness in the skin. to counter this, it is suggested to incorporate a hyaluronic acid and proper moisturizer into your routine. the percentage of retinol as well as the frequency of application weekly should be adjusted to suit your skin type. if you are still finding the usage harsh, consult with your skincare professional for alternative options that are best suited for your skin type. one important thing to remember when it comes to skincare products is to be consistent and patient. you have to remember that your cellular turnover (how quickly dead cells shed and new cells surface) is at minimum 28 days and this rate slows as we age. a general rule of thumb, is to expect to begin to see changes from new skincare at a minimum of 4 weeks from starting use. of course, depending on the product itself, it may actually take a little longer to notice significant change. always feel free to ask your medical aesthetician or dermatologist for proper expectations simple. serums are meant to be applied before moisturizer because their molecular sizes are different. serums are a more fluid product with a smaller molecular size which allows it to penetrate deeper into your skin layers. creams and moisturizers have a larger molecule size, which means they more so sit on the top layer of skin. the proper order of skincare application can vary depending on products being used. for morning skincare : cleanser, toner, antioxidant serum, hydrating serum, eye cream, moisturizer, sunscreen. for a nightly routine: an oil-based cleanser, water-based cleanser, toner, targeted serum, eye cream, retinol, moisturizer .. by over exfoliating or harshly diminishing the oils in your skins protective barrier, you are actually creating more of a problem. , your sebaceous glands will over produce oil to compensate for the sudden loss, furthering your breakouts. at concept medical, a micro-needling series to reduce the appearance of stretch marks, people assume micro-needling is for facial treatments only, but it can actually be performed on any area of the body. this collagen induction therapy treatment uses sterile surgical grade needles which are used to create controlled injury at various depths of the skin. this injury causes a cell healing response from the body, which helps to repair the scarred tissue to see optimal results, a 5-6 treatment series spaced 6-8 weeks between individual treatments is recommended to reduce stretch mark appearance. typically, when treating skin conditions . this will cause damage to your skin cells, which can in turn cause scarring or hyperpigmentation. your skin type is genetic and therefore does not change, but your skins conditions may change throughout the year as your environment changes. with the change of seasons, you may find that the skincare routine and products that were working for you in the winter, may now be too moisturizing in the summer heat and humidity. to have products that suit and cater to your current skin needs. your skins health and condition can be attributed to many factors. one of them being the foods we intake. surprisingly, there are a number of foods linked to causing hormonal changes in your body. some of these may be: milk products, peanut products, and animal products. if you are noticing consistent issues with your skin, we . yes there are skincare products to avoid while pregnant. ruling out toxic skincare is especially important especially while pregnant. some harmful ingredients you must watch out for are phthalates, sulfates, parabens, bha’s, silicones, and synthetic fragrances. additionally, avoid high doses of retinol, salicylic acid, and benzoyl peroxide, as these may cause harm to the baby. contrary to popular belief, you cannot change the actual size of your pores, as your pore size is genetic. what you can do is keep your pores tight and clean through treatment and proper skincare. by doing this, it gives the overall appearance of smaller pores because they are not nearly as noticeable typically, you should always receive a thorough skin analysis from a professional to assess skin type and any existing conditions, but there are some key factors when trying to determine this yourself at home. think about how your skin feels when you wake up in the morning. if it’s generally tight and flaky, it’s likely to be dry. oily skin usually has larger pores and looks shiny and glossy all over. combination skin will usually have an oily t-zone with large pores, while the rest of the face is dry and the pores are smaller. lastly, normal skin feels overall even and balanced. understanding your skin type or any existing conditions is such a critical part of achieving balanced skin! determining this allows for proper skincare product choice and treatment planning moving forward.concept medical is a full service cosmetic medicine clinic located in ottawa, on. we provide physician-led, evidence based cosmetic medicine services to a range of patients in ottawa and the surrounding areas.a brightening face wash best-face-wash-for-oily-skin cleansing is the first and most important step of your daily skincare routine. a good face wash for summer is the one that takes away the oiliness from your skin without leaving it too dry. everyuth’s lemon cherry face wash is the best face wash for oily skin. the lemon and cherry face wash is made of natural ingredients like lemon which are rich in vitamin c. the antioxidants of vitamin c are rich in collagen which helps your skin look younger. additionally, the brightening cherry extracts nourish the skin and make sure it looks fresh and clean. the lemon cherry face wash is also a great face wash for dry skin as it does not steal away the skin’s essential oils. it is easily one of the best face washes in summers exfoliate – once or twice a weekexfoliation is the process of removing dead skin cells, blackheads, whiteheads and any other residual grime from the surface of your skin. while getting rid of dead skin cells is a regular process for your skin there are times when all the dead skin cells don’t shed off. the dead skin cells that stay back on your skin’s surface then block your skin from breathing thereby causing acne and breakouts. exfoliation, therefore, becomes essential at least once or twice a week p.s. use a gentle scrub like everyuth’s walnut face scrub and don’t be too harsh on your skin. use a light-weight moisturizer .moisturization just because it’s the summer and your skin is oily does not mean that you skip the hydration. your skin still needs to be moisturized because sweating causes your skin to lose moisture. use a lightweight moisturizer if your skin is super-oily but completely missing this step is a big no don’t skip a sun block lotion sun block .your sunscreen is your most important skincare product this season. you just cannot afford to skip it. a good body lotion with spf protection like the everyuth naturals sun care berries body lotion with spf15 is perfect to protect your skin from the sun’s harmful uv rays and to ensure that your skin is not damaged due to exposure to sunlight.go lighter on the makeuplighter makeup makeup prevents your skin from breathing. when you apply layers and layers of makeup, it blocks your pores, aggravating acne, breakouts and pimples. so, go lighter on your makeup routine, especially on days when you are going to be stepping out for a longer durationa skin care routine should be a regimen that you think you will follow no matter what. keep it simple and stick to using natural skincare products based on your skin type. stick to the basics if you are just starting out – a gentle cleanser, exfoliator, moisturizer and a sunscreen. exfoliation is the process of removing dead skin cells, blackheads and whiteheads from your skin’s surface. it helps get rid of any build up or residue left behind after cleansing. get your hands on an exfoliating face scrub that is not too harsh on your skin. exfoliating twice-thrice a week is what is highly recommended by all skin experts. everyuth’s walnut face scrub is packed with walnut shells and vitamin e, both these ingredients help in exfoliation and don’t strip your skin of its natural oils. skin care products differ for different skin types and depending on whether you are using it in daytime or night, the application changes. stick to your regular cem routine, however your sunscreen in the mornings gets replaced by a night cream or eye cream. your night skincare routine comprises of products that help your skin recover and heal while you are resting. yes, diet definitely affects the appearance of zits. however, acne also depends on other environmental factors like pollution and sun exposure, your skin type and the skincare products you use. everyuth’s tulsi turmeric face wash has the natural goodness of tulsi and turmeric, which is known for its anti-bacterial and anti-microbial properties. the two products are specially made to cure acne, acne marks and blemishes. this is the most common question that most girls have. there are four skin types – oily, dry, normal and combination skin. if you are still confused about your skin type, take our skin type quiz. accordingly, pick a skincare routine for oily skin or skin care products for dry skin a sunblock lotion is one of the most important products of your skincare stash. pick a sunscreen lotion with spf 50 to best protect your skin from the harmful uva and uvb rays. moreover, pick one that isn’t too greasy and doesn’t make your skin too oily. skincare layering is vital to understand as the wrong order of skincare products can make your hard work go futile and leave your skin feeling deprived of the essential nourishing and protection. the correct way to go is – natural face cleanser, exfoliator, eye cream (optional), moisturizer, sunscreen.your skin’s exposure to the sun can have many effects like premature skin aging, black spots, tanning and more. if your skin is susceptible to tanning, opt for natural ways to remove tan. everyuth’s tan removal products consist of a tan removal cream for face, a scrub for tan removal and a tan removal serum. enriched with chocolate and cherry, these products detoxify your skin and remove taneveryuth naturals tan removal serum moisturization helps hydrate your skin. it is an important step of your skincare routine. a good moisturizer will hydrate your skin without making it too greasy and oily. so, it is highly recommended to use a moisturizing body lotion everyday post showering. can i apply aloe vera on my face daily aloe vera gel for face is great for sensitive, dry or oily skin. it is one solution for all your skin woes. use everyuth’s aloe vera and cucumber gel that blends the goodness of aloe vera and cucumber extracts to nourish your skin.the ideal method for maintaining balanced skin is keeping a consistent skin care routine and avoiding harsh chemicals that can strip the skin and create more blemishes. additionally, a diet rich in water, fresh fruits and vegetables and low in preservatives is also important.ideally skincare should be applied to a clean canvas - i.e. make sure your skin is free of makeup and other things that layer on the skin. i personally use skin care products right after the shower (once i have cooled down) or before bed after washing my face. this way the absorption is ideal and helps penetrate deep into skin layers.sunscreen and moisturizer, vitamin c and e extract. try belli healthy glow facial hydrator for daily and night use on your face.answer: absolutely! belli skincare is specially formulated to work with you as your skin is changing and therefore addresses a variety of concerns because of the potent actives and clean formulations in the integrity of the ingredients.answer: exfoliation is ideal 1-3x/week max. i do recommend belli fresh start pre-treatment scrub, make sure you adhere to the recommended weekly use, because it can actually cause more breakouts and damage your skin if you over do it. you want to exfoliate but not strip the skin of necessary balance.for sure. just as your face becomes dry the body feels the effects of the elements. additionally, we often use harsher soaps on the body and sweat in certain areas making the skin more rough and with dry patches. moisturizing not only helps maintain body elasticity but improves skin tone for a more even look.prevents aging, allows you to utilize less makeup and certainly boosts confidence. additionally, we see fewer fine lines/wrinkles in women who take care of their skin regularly. i think the skincare line should be made of high quality ingredients that each serve a specific purpose. skin care lines should also be free of chemicals, paraben preservatives, and dyes. this is extremely important because so much research shows us that chemicals can negatively affect both the outer skin and also or hormonal system. additionally, i think using a skincare line that is easy to follow is important, just a few simple steps not 20 things. while i believe some products suit certain skin types more than others, all skin can be treated with a product like belli because it is so effective yet formulated without harsh chemicals and focuses also on re-balancing skin, so it is really ideal for any and almost all skin types. consistent moisturizing with a mild cream is extremely helpful. by moisturizing the skin frequently and consistently the rough patches of eczema and congested pores that can occur with acne are usually eliminated his helps balance skin's ph and reduces dryness.the biggest acne myth is that drying out the skin will help clear this up. in fact we know that very dry skin is more prone to acne and continues to produce more blemishes vs properly moisturized skin.the best plan for acne prone skin is to use a mild cleanser, i suggest belli anti blemish facial wash, followed by a belli healthy glow hydrator for lightweight effective moisturizing and avoid doing too much to the skin. hormonal or cystic acne sometimes requires medical interventions in addition to topical skin care regimen so if your acne is painful or you are finding large pimples or lesions that penetrate deep into the skin do not attempt to pop them, simply see your doctor do not pop acne blemishes. this causes trauma to the skin and creates scarringthey can often fade the marks but sometimes it takes a while to completely resolve.for the best treatment you want to lightly exfoliate the affected area(s) using belli fresh start pre-treatment scrub 1 to 3 times weekly, but apply belli stretchmark minimizing cream twice daily.to avoid sun exposure darkening of stretch marks, cover them with a broad spectrum spf because sun exposure can darken and worsen these scars.there is mixed data on this in terms of research studies but some individuals do find that fewer animal products/dairy products can reduce their acne. that being said we have no directly proven this to be the case universally. additionally things like chocolate, wine, etc. do not also automatically cause acne. adequate hydration and sleep of course helps from a lifestyle perspective but some darkness is also genetic. using an eye cream that helps hydrate the skin and can penetrate vitamins deep into the delicate under eye skin is your best non injectable option for improving eye bags/darkness. as we age the muscles around the eye and the tissue loses elasticity. this can lead to puffiness and mild wrinkling. consistent use of an eye cream helps to reduce the visibility of these circles and puffiness. nightly is the best option for eye cream and this allows it to penetrate while the muscles and skin are relaxed. \""
            ],
            "application/vnd.google.colaboratory.intrinsic+json": {
              "type": "string"
            }
          },
          "metadata": {},
          "execution_count": 153
        }
      ]
    },
    {
      "cell_type": "code",
      "source": [
        "#converting text into sentences and words\n",
        "corpus_sentences=nltk.sent_tokenize(corpus_text)\n",
        "corpus_words=nltk.word_tokenize(corpus_text)\n",
        "print(corpus_words)"
      ],
      "metadata": {
        "colab": {
          "base_uri": "https://localhost:8080/"
        },
        "id": "fHmnRvmFiIu_",
        "outputId": "d158060c-df6f-459d-dbe7-3551267e0b12"
      },
      "execution_count": 154,
      "outputs": [
        {
          "output_type": "stream",
          "name": "stdout",
          "text": [
            "['dry', 'vs', 'dehydrated', 'skin', 'is', 'a', 'common', 'subject', 'of', 'confusion', 'for', 'a', 'lot', 'of', 'people', '.', 'dry', 'skin', 'is', 'a', 'skin', 'type', ',', 'which', 'lacks', 'proper', 'levels', 'of', 'oil', '.', 'it', 'will', 'often', 'have', 'an', 'uneven', 'tone', ',', 'small', 'pores', ',', 'feel', 'itchy', 'and', 'have', 'a', 'flaky', 'appearance', '.', 'to', 'soothe', 'dry', 'skin', ',', 'include', 'emollients', ',', 'ceramides', ',', 'mineral', 'oils', 'and', 'squalane', '.', 'dehydrated', 'skin', 'on', 'the', 'other', 'hand', ',', 'is', 'a', 'skin', 'condition', 'that', 'lacks', 'proper', 'levels', 'of', 'hydration', '.', 'it', 'will', 'have', 'a', 'dull', 'appearance', 'and', 'feel', 'tight', '.', 'press', 'upward', 'on', 'your', 'cheek', ',', 'and', 'if', 'fine', 'lines', 'appear', ',', 'increase', 'your', 'hydration', '.', 'ingredients', 'you', 'should', 'be', 'including', 'in', 'your', 'skincare', 'routine', 'are', 'hyaluronic', 'acid', ',', 'glycerin', ',', 'antioxidants', '.', 'these', 'three', 'products', 'are', 'a', 'vitamin', 'c', 'serum', '(', 'of', 'no', 'less', 'than', '10', '%', 'l-ascorbic', 'acid', ')', ',', 'a', 'retinol', 'product', ',', 'and', 'a', 'quality', 'broad-spectrum', 'sunscreen', ',', 'the', 'frequency', 'you', 'should', 'be', 'exfoliating', 'will', 'be', 'based', 'off', 'of', 'if', 'your', 'skin', 'type', 'can', 'tolerate', 'it', '.', 'for', 'dry', 'and', 'sensitive', 'skin', 'once', 'every', '10', 'days', 'is', 'sufficient', ',', 'normal', 'to', 'combination', 'skin', 'once', 'a', 'week', ',', 'oily', 'skin', 'should', 'exfoliate', '2-3', 'times', 'a', 'week', '.', 'more', 'aggressive', 'exfoliation', 'such', 'as', 'chemical', 'peels', 'or', 'microdermabrasion', ',', 'should', 'be', 'performed', 'every', '4-6', 'weeks.of', 'course', ',', 'skincare', 'products', 'should', 'be', 'applied', 'to', 'your', 'face', ',', 'but', 'did', 'you', 'know', 'you', 'should', 'also', 'be', 'applying', 'serums', 'and', 'creams', 'to', 'your', 'neck', ',', 'décolleté', 'and', 'hands', '.', 'these', 'are', 'also', 'areas', 'that', 'show', 'signs', 'of', 'aging', ',', 'so', 'they', 'are', 'equally', 'important', 'to', 'treat', 'and', 'take', 'care', 'of', 'this', 'allows', 'proper', 'cellular', 'changes', 'to', 'be', 'made', 'to', 'aid', 'in', 'the', 'prevention', 'of', 'early', 'signs', 'of', 'aging', 'at', 'concept', 'medical', ',', 'we', 'have', 'many', 'options', 'to', 'treat', 'pigmentation', '.', 'through', 'a', 'thorough', 'consultation', ',', 'you', 'will', 'be', 'guided', 'as', 'to', 'which', 'treatment', 'or', 'products', 'will', 'help', 'you', 'achieve', 'the', 'absolute', 'best', 'reduction', 'results', '.', 'treatment', 'options', 'include', 'light', 'therapy', '(', 'such', 'as', 'broad', 'band', 'light', 'treatments', ')', ',', 'micro-needling', 'and', 'medical', 'grade', 'chemical', 'peels', '.', 'we', 'also', 'have', 'medical', 'grade', 'skincare', 'options', 'with', 'active', 'ingredients', 'that', 'can', 'help', 'to', 'reduce', 'the', 'overall', 'appearance', 'of', 'pigmentation', 'in', 'the', 'skin', '.', 'the', 'short', 'answer', '–', 'yes', '!', 'the', 'skin', 'under', 'your', 'eye', 'is', 'much', 'thinner', 'and', 'more', 'sensitive', 'than', 'the', 'skin', 'on', 'the', 'rest', 'of', 'your', 'face', ',', 'meaning', 'it', 'requires', 'more', 'support', '.', 'when', 'choosing', 'an', 'undereye', 'cream', ',', 'look', 'for', 'products', 'that', 'include', 'antioxidants', ',', 'vitamins', ',', 'hyaluronic', 'acid', ',', 'and', 'possibly', 'a', 'low', 'percentage', 'retinol.retinol', '(', 'or', 'vitamin', 'a', ')', 'is', 'a', 'well-loved', 'ingredient', 'due', 'to', 'its', 'ability', 'to', 'speed', 'skin', 'cell', 'turnover', 'and', 'boost', 'collagen', 'production', '.', 'while', 'sensitive', 'skin', 'can', 'use', 'a', 'retinol', 'product', ',', 'it', 'can', 'lead', 'to', 'flakiness', 'and', 'the', 'feeling', 'of', 'dryness', 'in', 'the', 'skin', '.', 'to', 'counter', 'this', ',', 'it', 'is', 'suggested', 'to', 'incorporate', 'a', 'hyaluronic', 'acid', 'and', 'proper', 'moisturizer', 'into', 'your', 'routine', '.', 'the', 'percentage', 'of', 'retinol', 'as', 'well', 'as', 'the', 'frequency', 'of', 'application', 'weekly', 'should', 'be', 'adjusted', 'to', 'suit', 'your', 'skin', 'type', '.', 'if', 'you', 'are', 'still', 'finding', 'the', 'usage', 'harsh', ',', 'consult', 'with', 'your', 'skincare', 'professional', 'for', 'alternative', 'options', 'that', 'are', 'best', 'suited', 'for', 'your', 'skin', 'type', '.', 'one', 'important', 'thing', 'to', 'remember', 'when', 'it', 'comes', 'to', 'skincare', 'products', 'is', 'to', 'be', 'consistent', 'and', 'patient', '.', 'you', 'have', 'to', 'remember', 'that', 'your', 'cellular', 'turnover', '(', 'how', 'quickly', 'dead', 'cells', 'shed', 'and', 'new', 'cells', 'surface', ')', 'is', 'at', 'minimum', '28', 'days', 'and', 'this', 'rate', 'slows', 'as', 'we', 'age', '.', 'a', 'general', 'rule', 'of', 'thumb', ',', 'is', 'to', 'expect', 'to', 'begin', 'to', 'see', 'changes', 'from', 'new', 'skincare', 'at', 'a', 'minimum', 'of', '4', 'weeks', 'from', 'starting', 'use', '.', 'of', 'course', ',', 'depending', 'on', 'the', 'product', 'itself', ',', 'it', 'may', 'actually', 'take', 'a', 'little', 'longer', 'to', 'notice', 'significant', 'change', '.', 'always', 'feel', 'free', 'to', 'ask', 'your', 'medical', 'aesthetician', 'or', 'dermatologist', 'for', 'proper', 'expectations', 'simple', '.', 'serums', 'are', 'meant', 'to', 'be', 'applied', 'before', 'moisturizer', 'because', 'their', 'molecular', 'sizes', 'are', 'different', '.', 'serums', 'are', 'a', 'more', 'fluid', 'product', 'with', 'a', 'smaller', 'molecular', 'size', 'which', 'allows', 'it', 'to', 'penetrate', 'deeper', 'into', 'your', 'skin', 'layers', '.', 'creams', 'and', 'moisturizers', 'have', 'a', 'larger', 'molecule', 'size', ',', 'which', 'means', 'they', 'more', 'so', 'sit', 'on', 'the', 'top', 'layer', 'of', 'skin', '.', 'the', 'proper', 'order', 'of', 'skincare', 'application', 'can', 'vary', 'depending', 'on', 'products', 'being', 'used', '.', 'for', 'morning', 'skincare', ':', 'cleanser', ',', 'toner', ',', 'antioxidant', 'serum', ',', 'hydrating', 'serum', ',', 'eye', 'cream', ',', 'moisturizer', ',', 'sunscreen', '.', 'for', 'a', 'nightly', 'routine', ':', 'an', 'oil-based', 'cleanser', ',', 'water-based', 'cleanser', ',', 'toner', ',', 'targeted', 'serum', ',', 'eye', 'cream', ',', 'retinol', ',', 'moisturizer', '..', 'by', 'over', 'exfoliating', 'or', 'harshly', 'diminishing', 'the', 'oils', 'in', 'your', 'skins', 'protective', 'barrier', ',', 'you', 'are', 'actually', 'creating', 'more', 'of', 'a', 'problem', '.', ',', 'your', 'sebaceous', 'glands', 'will', 'over', 'produce', 'oil', 'to', 'compensate', 'for', 'the', 'sudden', 'loss', ',', 'furthering', 'your', 'breakouts', '.', 'at', 'concept', 'medical', ',', 'a', 'micro-needling', 'series', 'to', 'reduce', 'the', 'appearance', 'of', 'stretch', 'marks', ',', 'people', 'assume', 'micro-needling', 'is', 'for', 'facial', 'treatments', 'only', ',', 'but', 'it', 'can', 'actually', 'be', 'performed', 'on', 'any', 'area', 'of', 'the', 'body', '.', 'this', 'collagen', 'induction', 'therapy', 'treatment', 'uses', 'sterile', 'surgical', 'grade', 'needles', 'which', 'are', 'used', 'to', 'create', 'controlled', 'injury', 'at', 'various', 'depths', 'of', 'the', 'skin', '.', 'this', 'injury', 'causes', 'a', 'cell', 'healing', 'response', 'from', 'the', 'body', ',', 'which', 'helps', 'to', 'repair', 'the', 'scarred', 'tissue', 'to', 'see', 'optimal', 'results', ',', 'a', '5-6', 'treatment', 'series', 'spaced', '6-8', 'weeks', 'between', 'individual', 'treatments', 'is', 'recommended', 'to', 'reduce', 'stretch', 'mark', 'appearance', '.', 'typically', ',', 'when', 'treating', 'skin', 'conditions', '.', 'this', 'will', 'cause', 'damage', 'to', 'your', 'skin', 'cells', ',', 'which', 'can', 'in', 'turn', 'cause', 'scarring', 'or', 'hyperpigmentation', '.', 'your', 'skin', 'type', 'is', 'genetic', 'and', 'therefore', 'does', 'not', 'change', ',', 'but', 'your', 'skins', 'conditions', 'may', 'change', 'throughout', 'the', 'year', 'as', 'your', 'environment', 'changes', '.', 'with', 'the', 'change', 'of', 'seasons', ',', 'you', 'may', 'find', 'that', 'the', 'skincare', 'routine', 'and', 'products', 'that', 'were', 'working', 'for', 'you', 'in', 'the', 'winter', ',', 'may', 'now', 'be', 'too', 'moisturizing', 'in', 'the', 'summer', 'heat', 'and', 'humidity', '.', 'to', 'have', 'products', 'that', 'suit', 'and', 'cater', 'to', 'your', 'current', 'skin', 'needs', '.', 'your', 'skins', 'health', 'and', 'condition', 'can', 'be', 'attributed', 'to', 'many', 'factors', '.', 'one', 'of', 'them', 'being', 'the', 'foods', 'we', 'intake', '.', 'surprisingly', ',', 'there', 'are', 'a', 'number', 'of', 'foods', 'linked', 'to', 'causing', 'hormonal', 'changes', 'in', 'your', 'body', '.', 'some', 'of', 'these', 'may', 'be', ':', 'milk', 'products', ',', 'peanut', 'products', ',', 'and', 'animal', 'products', '.', 'if', 'you', 'are', 'noticing', 'consistent', 'issues', 'with', 'your', 'skin', ',', 'we', '.', 'yes', 'there', 'are', 'skincare', 'products', 'to', 'avoid', 'while', 'pregnant', '.', 'ruling', 'out', 'toxic', 'skincare', 'is', 'especially', 'important', 'especially', 'while', 'pregnant', '.', 'some', 'harmful', 'ingredients', 'you', 'must', 'watch', 'out', 'for', 'are', 'phthalates', ',', 'sulfates', ',', 'parabens', ',', 'bha', '’', 's', ',', 'silicones', ',', 'and', 'synthetic', 'fragrances', '.', 'additionally', ',', 'avoid', 'high', 'doses', 'of', 'retinol', ',', 'salicylic', 'acid', ',', 'and', 'benzoyl', 'peroxide', ',', 'as', 'these', 'may', 'cause', 'harm', 'to', 'the', 'baby', '.', 'contrary', 'to', 'popular', 'belief', ',', 'you', 'can', 'not', 'change', 'the', 'actual', 'size', 'of', 'your', 'pores', ',', 'as', 'your', 'pore', 'size', 'is', 'genetic', '.', 'what', 'you', 'can', 'do', 'is', 'keep', 'your', 'pores', 'tight', 'and', 'clean', 'through', 'treatment', 'and', 'proper', 'skincare', '.', 'by', 'doing', 'this', ',', 'it', 'gives', 'the', 'overall', 'appearance', 'of', 'smaller', 'pores', 'because', 'they', 'are', 'not', 'nearly', 'as', 'noticeable', 'typically', ',', 'you', 'should', 'always', 'receive', 'a', 'thorough', 'skin', 'analysis', 'from', 'a', 'professional', 'to', 'assess', 'skin', 'type', 'and', 'any', 'existing', 'conditions', ',', 'but', 'there', 'are', 'some', 'key', 'factors', 'when', 'trying', 'to', 'determine', 'this', 'yourself', 'at', 'home', '.', 'think', 'about', 'how', 'your', 'skin', 'feels', 'when', 'you', 'wake', 'up', 'in', 'the', 'morning', '.', 'if', 'it', '’', 's', 'generally', 'tight', 'and', 'flaky', ',', 'it', '’', 's', 'likely', 'to', 'be', 'dry', '.', 'oily', 'skin', 'usually', 'has', 'larger', 'pores', 'and', 'looks', 'shiny', 'and', 'glossy', 'all', 'over', '.', 'combination', 'skin', 'will', 'usually', 'have', 'an', 'oily', 't-zone', 'with', 'large', 'pores', ',', 'while', 'the', 'rest', 'of', 'the', 'face', 'is', 'dry', 'and', 'the', 'pores', 'are', 'smaller', '.', 'lastly', ',', 'normal', 'skin', 'feels', 'overall', 'even', 'and', 'balanced', '.', 'understanding', 'your', 'skin', 'type', 'or', 'any', 'existing', 'conditions', 'is', 'such', 'a', 'critical', 'part', 'of', 'achieving', 'balanced', 'skin', '!', 'determining', 'this', 'allows', 'for', 'proper', 'skincare', 'product', 'choice', 'and', 'treatment', 'planning', 'moving', 'forward.concept', 'medical', 'is', 'a', 'full', 'service', 'cosmetic', 'medicine', 'clinic', 'located', 'in', 'ottawa', ',', 'on', '.', 'we', 'provide', 'physician-led', ',', 'evidence', 'based', 'cosmetic', 'medicine', 'services', 'to', 'a', 'range', 'of', 'patients', 'in', 'ottawa', 'and', 'the', 'surrounding', 'areas.a', 'brightening', 'face', 'wash', 'best-face-wash-for-oily-skin', 'cleansing', 'is', 'the', 'first', 'and', 'most', 'important', 'step', 'of', 'your', 'daily', 'skincare', 'routine', '.', 'a', 'good', 'face', 'wash', 'for', 'summer', 'is', 'the', 'one', 'that', 'takes', 'away', 'the', 'oiliness', 'from', 'your', 'skin', 'without', 'leaving', 'it', 'too', 'dry', '.', 'everyuth', '’', 's', 'lemon', 'cherry', 'face', 'wash', 'is', 'the', 'best', 'face', 'wash', 'for', 'oily', 'skin', '.', 'the', 'lemon', 'and', 'cherry', 'face', 'wash', 'is', 'made', 'of', 'natural', 'ingredients', 'like', 'lemon', 'which', 'are', 'rich', 'in', 'vitamin', 'c.', 'the', 'antioxidants', 'of', 'vitamin', 'c', 'are', 'rich', 'in', 'collagen', 'which', 'helps', 'your', 'skin', 'look', 'younger', '.', 'additionally', ',', 'the', 'brightening', 'cherry', 'extracts', 'nourish', 'the', 'skin', 'and', 'make', 'sure', 'it', 'looks', 'fresh', 'and', 'clean', '.', 'the', 'lemon', 'cherry', 'face', 'wash', 'is', 'also', 'a', 'great', 'face', 'wash', 'for', 'dry', 'skin', 'as', 'it', 'does', 'not', 'steal', 'away', 'the', 'skin', '’', 's', 'essential', 'oils', '.', 'it', 'is', 'easily', 'one', 'of', 'the', 'best', 'face', 'washes', 'in', 'summers', 'exfoliate', '–', 'once', 'or', 'twice', 'a', 'weekexfoliation', 'is', 'the', 'process', 'of', 'removing', 'dead', 'skin', 'cells', ',', 'blackheads', ',', 'whiteheads', 'and', 'any', 'other', 'residual', 'grime', 'from', 'the', 'surface', 'of', 'your', 'skin', '.', 'while', 'getting', 'rid', 'of', 'dead', 'skin', 'cells', 'is', 'a', 'regular', 'process', 'for', 'your', 'skin', 'there', 'are', 'times', 'when', 'all', 'the', 'dead', 'skin', 'cells', 'don', '’', 't', 'shed', 'off', '.', 'the', 'dead', 'skin', 'cells', 'that', 'stay', 'back', 'on', 'your', 'skin', '’', 's', 'surface', 'then', 'block', 'your', 'skin', 'from', 'breathing', 'thereby', 'causing', 'acne', 'and', 'breakouts', '.', 'exfoliation', ',', 'therefore', ',', 'becomes', 'essential', 'at', 'least', 'once', 'or', 'twice', 'a', 'week', 'p.s', '.', 'use', 'a', 'gentle', 'scrub', 'like', 'everyuth', '’', 's', 'walnut', 'face', 'scrub', 'and', 'don', '’', 't', 'be', 'too', 'harsh', 'on', 'your', 'skin', '.', 'use', 'a', 'light-weight', 'moisturizer', '.moisturization', 'just', 'because', 'it', '’', 's', 'the', 'summer', 'and', 'your', 'skin', 'is', 'oily', 'does', 'not', 'mean', 'that', 'you', 'skip', 'the', 'hydration', '.', 'your', 'skin', 'still', 'needs', 'to', 'be', 'moisturized', 'because', 'sweating', 'causes', 'your', 'skin', 'to', 'lose', 'moisture', '.', 'use', 'a', 'lightweight', 'moisturizer', 'if', 'your', 'skin', 'is', 'super-oily', 'but', 'completely', 'missing', 'this', 'step', 'is', 'a', 'big', 'no', 'don', '’', 't', 'skip', 'a', 'sun', 'block', 'lotion', 'sun', 'block', '.your', 'sunscreen', 'is', 'your', 'most', 'important', 'skincare', 'product', 'this', 'season', '.', 'you', 'just', 'can', 'not', 'afford', 'to', 'skip', 'it', '.', 'a', 'good', 'body', 'lotion', 'with', 'spf', 'protection', 'like', 'the', 'everyuth', 'naturals', 'sun', 'care', 'berries', 'body', 'lotion', 'with', 'spf15', 'is', 'perfect', 'to', 'protect', 'your', 'skin', 'from', 'the', 'sun', '’', 's', 'harmful', 'uv', 'rays', 'and', 'to', 'ensure', 'that', 'your', 'skin', 'is', 'not', 'damaged', 'due', 'to', 'exposure', 'to', 'sunlight.go', 'lighter', 'on', 'the', 'makeuplighter', 'makeup', 'makeup', 'prevents', 'your', 'skin', 'from', 'breathing', '.', 'when', 'you', 'apply', 'layers', 'and', 'layers', 'of', 'makeup', ',', 'it', 'blocks', 'your', 'pores', ',', 'aggravating', 'acne', ',', 'breakouts', 'and', 'pimples', '.', 'so', ',', 'go', 'lighter', 'on', 'your', 'makeup', 'routine', ',', 'especially', 'on', 'days', 'when', 'you', 'are', 'going', 'to', 'be', 'stepping', 'out', 'for', 'a', 'longer', 'durationa', 'skin', 'care', 'routine', 'should', 'be', 'a', 'regimen', 'that', 'you', 'think', 'you', 'will', 'follow', 'no', 'matter', 'what', '.', 'keep', 'it', 'simple', 'and', 'stick', 'to', 'using', 'natural', 'skincare', 'products', 'based', 'on', 'your', 'skin', 'type', '.', 'stick', 'to', 'the', 'basics', 'if', 'you', 'are', 'just', 'starting', 'out', '–', 'a', 'gentle', 'cleanser', ',', 'exfoliator', ',', 'moisturizer', 'and', 'a', 'sunscreen', '.', 'exfoliation', 'is', 'the', 'process', 'of', 'removing', 'dead', 'skin', 'cells', ',', 'blackheads', 'and', 'whiteheads', 'from', 'your', 'skin', '’', 's', 'surface', '.', 'it', 'helps', 'get', 'rid', 'of', 'any', 'build', 'up', 'or', 'residue', 'left', 'behind', 'after', 'cleansing', '.', 'get', 'your', 'hands', 'on', 'an', 'exfoliating', 'face', 'scrub', 'that', 'is', 'not', 'too', 'harsh', 'on', 'your', 'skin', '.', 'exfoliating', 'twice-thrice', 'a', 'week', 'is', 'what', 'is', 'highly', 'recommended', 'by', 'all', 'skin', 'experts', '.', 'everyuth', '’', 's', 'walnut', 'face', 'scrub', 'is', 'packed', 'with', 'walnut', 'shells', 'and', 'vitamin', 'e', ',', 'both', 'these', 'ingredients', 'help', 'in', 'exfoliation', 'and', 'don', '’', 't', 'strip', 'your', 'skin', 'of', 'its', 'natural', 'oils', '.', 'skin', 'care', 'products', 'differ', 'for', 'different', 'skin', 'types', 'and', 'depending', 'on', 'whether', 'you', 'are', 'using', 'it', 'in', 'daytime', 'or', 'night', ',', 'the', 'application', 'changes', '.', 'stick', 'to', 'your', 'regular', 'cem', 'routine', ',', 'however', 'your', 'sunscreen', 'in', 'the', 'mornings', 'gets', 'replaced', 'by', 'a', 'night', 'cream', 'or', 'eye', 'cream', '.', 'your', 'night', 'skincare', 'routine', 'comprises', 'of', 'products', 'that', 'help', 'your', 'skin', 'recover', 'and', 'heal', 'while', 'you', 'are', 'resting', '.', 'yes', ',', 'diet', 'definitely', 'affects', 'the', 'appearance', 'of', 'zits', '.', 'however', ',', 'acne', 'also', 'depends', 'on', 'other', 'environmental', 'factors', 'like', 'pollution', 'and', 'sun', 'exposure', ',', 'your', 'skin', 'type', 'and', 'the', 'skincare', 'products', 'you', 'use', '.', 'everyuth', '’', 's', 'tulsi', 'turmeric', 'face', 'wash', 'has', 'the', 'natural', 'goodness', 'of', 'tulsi', 'and', 'turmeric', ',', 'which', 'is', 'known', 'for', 'its', 'anti-bacterial', 'and', 'anti-microbial', 'properties', '.', 'the', 'two', 'products', 'are', 'specially', 'made', 'to', 'cure', 'acne', ',', 'acne', 'marks', 'and', 'blemishes', '.', 'this', 'is', 'the', 'most', 'common', 'question', 'that', 'most', 'girls', 'have', '.', 'there', 'are', 'four', 'skin', 'types', '–', 'oily', ',', 'dry', ',', 'normal', 'and', 'combination', 'skin', '.', 'if', 'you', 'are', 'still', 'confused', 'about', 'your', 'skin', 'type', ',', 'take', 'our', 'skin', 'type', 'quiz', '.', 'accordingly', ',', 'pick', 'a', 'skincare', 'routine', 'for', 'oily', 'skin', 'or', 'skin', 'care', 'products', 'for', 'dry', 'skin', 'a', 'sunblock', 'lotion', 'is', 'one', 'of', 'the', 'most', 'important', 'products', 'of', 'your', 'skincare', 'stash', '.', 'pick', 'a', 'sunscreen', 'lotion', 'with', 'spf', '50', 'to', 'best', 'protect', 'your', 'skin', 'from', 'the', 'harmful', 'uva', 'and', 'uvb', 'rays', '.', 'moreover', ',', 'pick', 'one', 'that', 'isn', '’', 't', 'too', 'greasy', 'and', 'doesn', '’', 't', 'make', 'your', 'skin', 'too', 'oily', '.', 'skincare', 'layering', 'is', 'vital', 'to', 'understand', 'as', 'the', 'wrong', 'order', 'of', 'skincare', 'products', 'can', 'make', 'your', 'hard', 'work', 'go', 'futile', 'and', 'leave', 'your', 'skin', 'feeling', 'deprived', 'of', 'the', 'essential', 'nourishing', 'and', 'protection', '.', 'the', 'correct', 'way', 'to', 'go', 'is', '–', 'natural', 'face', 'cleanser', ',', 'exfoliator', ',', 'eye', 'cream', '(', 'optional', ')', ',', 'moisturizer', ',', 'sunscreen.your', 'skin', '’', 's', 'exposure', 'to', 'the', 'sun', 'can', 'have', 'many', 'effects', 'like', 'premature', 'skin', 'aging', ',', 'black', 'spots', ',', 'tanning', 'and', 'more', '.', 'if', 'your', 'skin', 'is', 'susceptible', 'to', 'tanning', ',', 'opt', 'for', 'natural', 'ways', 'to', 'remove', 'tan', '.', 'everyuth', '’', 's', 'tan', 'removal', 'products', 'consist', 'of', 'a', 'tan', 'removal', 'cream', 'for', 'face', ',', 'a', 'scrub', 'for', 'tan', 'removal', 'and', 'a', 'tan', 'removal', 'serum', '.', 'enriched', 'with', 'chocolate', 'and', 'cherry', ',', 'these', 'products', 'detoxify', 'your', 'skin', 'and', 'remove', 'taneveryuth', 'naturals', 'tan', 'removal', 'serum', 'moisturization', 'helps', 'hydrate', 'your', 'skin', '.', 'it', 'is', 'an', 'important', 'step', 'of', 'your', 'skincare', 'routine', '.', 'a', 'good', 'moisturizer', 'will', 'hydrate', 'your', 'skin', 'without', 'making', 'it', 'too', 'greasy', 'and', 'oily', '.', 'so', ',', 'it', 'is', 'highly', 'recommended', 'to', 'use', 'a', 'moisturizing', 'body', 'lotion', 'everyday', 'post', 'showering', '.', 'can', 'i', 'apply', 'aloe', 'vera', 'on', 'my', 'face', 'daily', 'aloe', 'vera', 'gel', 'for', 'face', 'is', 'great', 'for', 'sensitive', ',', 'dry', 'or', 'oily', 'skin', '.', 'it', 'is', 'one', 'solution', 'for', 'all', 'your', 'skin', 'woes', '.', 'use', 'everyuth', '’', 's', 'aloe', 'vera', 'and', 'cucumber', 'gel', 'that', 'blends', 'the', 'goodness', 'of', 'aloe', 'vera', 'and', 'cucumber', 'extracts', 'to', 'nourish', 'your', 'skin.the', 'ideal', 'method', 'for', 'maintaining', 'balanced', 'skin', 'is', 'keeping', 'a', 'consistent', 'skin', 'care', 'routine', 'and', 'avoiding', 'harsh', 'chemicals', 'that', 'can', 'strip', 'the', 'skin', 'and', 'create', 'more', 'blemishes', '.', 'additionally', ',', 'a', 'diet', 'rich', 'in', 'water', ',', 'fresh', 'fruits', 'and', 'vegetables', 'and', 'low', 'in', 'preservatives', 'is', 'also', 'important.ideally', 'skincare', 'should', 'be', 'applied', 'to', 'a', 'clean', 'canvas', '-', 'i.e', '.', 'make', 'sure', 'your', 'skin', 'is', 'free', 'of', 'makeup', 'and', 'other', 'things', 'that', 'layer', 'on', 'the', 'skin', '.', 'i', 'personally', 'use', 'skin', 'care', 'products', 'right', 'after', 'the', 'shower', '(', 'once', 'i', 'have', 'cooled', 'down', ')', 'or', 'before', 'bed', 'after', 'washing', 'my', 'face', '.', 'this', 'way', 'the', 'absorption', 'is', 'ideal', 'and', 'helps', 'penetrate', 'deep', 'into', 'skin', 'layers.sunscreen', 'and', 'moisturizer', ',', 'vitamin', 'c', 'and', 'e', 'extract', '.', 'try', 'belli', 'healthy', 'glow', 'facial', 'hydrator', 'for', 'daily', 'and', 'night', 'use', 'on', 'your', 'face.answer', ':', 'absolutely', '!', 'belli', 'skincare', 'is', 'specially', 'formulated', 'to', 'work', 'with', 'you', 'as', 'your', 'skin', 'is', 'changing', 'and', 'therefore', 'addresses', 'a', 'variety', 'of', 'concerns', 'because', 'of', 'the', 'potent', 'actives', 'and', 'clean', 'formulations', 'in', 'the', 'integrity', 'of', 'the', 'ingredients.answer', ':', 'exfoliation', 'is', 'ideal', '1-3x/week', 'max', '.', 'i', 'do', 'recommend', 'belli', 'fresh', 'start', 'pre-treatment', 'scrub', ',', 'make', 'sure', 'you', 'adhere', 'to', 'the', 'recommended', 'weekly', 'use', ',', 'because', 'it', 'can', 'actually', 'cause', 'more', 'breakouts', 'and', 'damage', 'your', 'skin', 'if', 'you', 'over', 'do', 'it', '.', 'you', 'want', 'to', 'exfoliate', 'but', 'not', 'strip', 'the', 'skin', 'of', 'necessary', 'balance.for', 'sure', '.', 'just', 'as', 'your', 'face', 'becomes', 'dry', 'the', 'body', 'feels', 'the', 'effects', 'of', 'the', 'elements', '.', 'additionally', ',', 'we', 'often', 'use', 'harsher', 'soaps', 'on', 'the', 'body', 'and', 'sweat', 'in', 'certain', 'areas', 'making', 'the', 'skin', 'more', 'rough', 'and', 'with', 'dry', 'patches', '.', 'moisturizing', 'not', 'only', 'helps', 'maintain', 'body', 'elasticity', 'but', 'improves', 'skin', 'tone', 'for', 'a', 'more', 'even', 'look.prevents', 'aging', ',', 'allows', 'you', 'to', 'utilize', 'less', 'makeup', 'and', 'certainly', 'boosts', 'confidence', '.', 'additionally', ',', 'we', 'see', 'fewer', 'fine', 'lines/wrinkles', 'in', 'women', 'who', 'take', 'care', 'of', 'their', 'skin', 'regularly', '.', 'i', 'think', 'the', 'skincare', 'line', 'should', 'be', 'made', 'of', 'high', 'quality', 'ingredients', 'that', 'each', 'serve', 'a', 'specific', 'purpose', '.', 'skin', 'care', 'lines', 'should', 'also', 'be', 'free', 'of', 'chemicals', ',', 'paraben', 'preservatives', ',', 'and', 'dyes', '.', 'this', 'is', 'extremely', 'important', 'because', 'so', 'much', 'research', 'shows', 'us', 'that', 'chemicals', 'can', 'negatively', 'affect', 'both', 'the', 'outer', 'skin', 'and', 'also', 'or', 'hormonal', 'system', '.', 'additionally', ',', 'i', 'think', 'using', 'a', 'skincare', 'line', 'that', 'is', 'easy', 'to', 'follow', 'is', 'important', ',', 'just', 'a', 'few', 'simple', 'steps', 'not', '20', 'things', '.', 'while', 'i', 'believe', 'some', 'products', 'suit', 'certain', 'skin', 'types', 'more', 'than', 'others', ',', 'all', 'skin', 'can', 'be', 'treated', 'with', 'a', 'product', 'like', 'belli', 'because', 'it', 'is', 'so', 'effective', 'yet', 'formulated', 'without', 'harsh', 'chemicals', 'and', 'focuses', 'also', 'on', 're-balancing', 'skin', ',', 'so', 'it', 'is', 'really', 'ideal', 'for', 'any', 'and', 'almost', 'all', 'skin', 'types', '.', 'consistent', 'moisturizing', 'with', 'a', 'mild', 'cream', 'is', 'extremely', 'helpful', '.', 'by', 'moisturizing', 'the', 'skin', 'frequently', 'and', 'consistently', 'the', 'rough', 'patches', 'of', 'eczema', 'and', 'congested', 'pores', 'that', 'can', 'occur', 'with', 'acne', 'are', 'usually', 'eliminated', 'his', 'helps', 'balance', 'skin', \"'s\", 'ph', 'and', 'reduces', 'dryness.the', 'biggest', 'acne', 'myth', 'is', 'that', 'drying', 'out', 'the', 'skin', 'will', 'help', 'clear', 'this', 'up', '.', 'in', 'fact', 'we', 'know', 'that', 'very', 'dry', 'skin', 'is', 'more', 'prone', 'to', 'acne', 'and', 'continues', 'to', 'produce', 'more', 'blemishes', 'vs', 'properly', 'moisturized', 'skin.the', 'best', 'plan', 'for', 'acne', 'prone', 'skin', 'is', 'to', 'use', 'a', 'mild', 'cleanser', ',', 'i', 'suggest', 'belli', 'anti', 'blemish', 'facial', 'wash', ',', 'followed', 'by', 'a', 'belli', 'healthy', 'glow', 'hydrator', 'for', 'lightweight', 'effective', 'moisturizing', 'and', 'avoid', 'doing', 'too', 'much', 'to', 'the', 'skin', '.', 'hormonal', 'or', 'cystic', 'acne', 'sometimes', 'requires', 'medical', 'interventions', 'in', 'addition', 'to', 'topical', 'skin', 'care', 'regimen', 'so', 'if', 'your', 'acne', 'is', 'painful', 'or', 'you', 'are', 'finding', 'large', 'pimples', 'or', 'lesions', 'that', 'penetrate', 'deep', 'into', 'the', 'skin', 'do', 'not', 'attempt', 'to', 'pop', 'them', ',', 'simply', 'see', 'your', 'doctor', 'do', 'not', 'pop', 'acne', 'blemishes', '.', 'this', 'causes', 'trauma', 'to', 'the', 'skin', 'and', 'creates', 'scarringthey', 'can', 'often', 'fade', 'the', 'marks', 'but', 'sometimes', 'it', 'takes', 'a', 'while', 'to', 'completely', 'resolve.for', 'the', 'best', 'treatment', 'you', 'want', 'to', 'lightly', 'exfoliate', 'the', 'affected', 'area', '(', 's', ')', 'using', 'belli', 'fresh', 'start', 'pre-treatment', 'scrub', '1', 'to', '3', 'times', 'weekly', ',', 'but', 'apply', 'belli', 'stretchmark', 'minimizing', 'cream', 'twice', 'daily.to', 'avoid', 'sun', 'exposure', 'darkening', 'of', 'stretch', 'marks', ',', 'cover', 'them', 'with', 'a', 'broad', 'spectrum', 'spf', 'because', 'sun', 'exposure', 'can', 'darken', 'and', 'worsen', 'these', 'scars.there', 'is', 'mixed', 'data', 'on', 'this', 'in', 'terms', 'of', 'research', 'studies', 'but', 'some', 'individuals', 'do', 'find', 'that', 'fewer', 'animal', 'products/dairy', 'products', 'can', 'reduce', 'their', 'acne', '.', 'that', 'being', 'said', 'we', 'have', 'no', 'directly', 'proven', 'this', 'to', 'be', 'the', 'case', 'universally', '.', 'additionally', 'things', 'like', 'chocolate', ',', 'wine', ',', 'etc', '.', 'do', 'not', 'also', 'automatically', 'cause', 'acne', '.', 'adequate', 'hydration', 'and', 'sleep', 'of', 'course', 'helps', 'from', 'a', 'lifestyle', 'perspective', 'but', 'some', 'darkness', 'is', 'also', 'genetic', '.', 'using', 'an', 'eye', 'cream', 'that', 'helps', 'hydrate', 'the', 'skin', 'and', 'can', 'penetrate', 'vitamins', 'deep', 'into', 'the', 'delicate', 'under', 'eye', 'skin', 'is', 'your', 'best', 'non', 'injectable', 'option', 'for', 'improving', 'eye', 'bags/darkness', '.', 'as', 'we', 'age', 'the', 'muscles', 'around', 'the', 'eye', 'and', 'the', 'tissue', 'loses', 'elasticity', '.', 'this', 'can', 'lead', 'to', 'puffiness', 'and', 'mild', 'wrinkling', '.', 'consistent', 'use', 'of', 'an', 'eye', 'cream', 'helps', 'to', 'reduce', 'the', 'visibility', 'of', 'these', 'circles', 'and', 'puffiness', '.', 'nightly', 'is', 'the', 'best', 'option', 'for', 'eye', 'cream', 'and', 'this', 'allows', 'it', 'to', 'penetrate', 'while', 'the', 'muscles', 'and', 'skin', 'are', 'relaxed', '.']\n"
          ]
        }
      ]
    },
    {
      "cell_type": "code",
      "source": [
        "greeting_inputs=[\"hey\",\"hello\",\"hi\",\"heyaa\",\"morning\",\"evening\",\"good\",\"evenings\",\"greetings\",\"sup\",\"hola\"]\n",
        "greeting_response=[\"Hey\",\"Hows You\",\"How you doin?\",\"**nods**\",\"Hello, how are you?\",\"Hello\",\"Hi there mate\",\"Hola, Whats up\"]\n",
        "\n",
        "greeting_input2 = [\"you?\" , \"day?\"]\n",
        "greeting_response2 = [\"I am fine, thankyou\" , \"Good, thanks\", \"Not bad\"]"
      ],
      "metadata": {
        "id": "Xo5d_FQwgvwr"
      },
      "execution_count": 163,
      "outputs": []
    },
    {
      "cell_type": "code",
      "source": [
        "def greet_someone(greeting):\n",
        "  for x in greeting.split():\n",
        "      if x.lower() in greeting_inputs:\n",
        "          return (random.choice(greeting_response))"
      ],
      "metadata": {
        "id": "wWShc0EkiMis"
      },
      "execution_count": 164,
      "outputs": []
    },
    {
      "cell_type": "code",
      "source": [
        "def greet_someone2(greeting):\n",
        "  for x in greeting.split():\n",
        "      if x.lower() in greeting_input2:\n",
        "          return (random.choice(greeting_response2))"
      ],
      "metadata": {
        "id": "NlgFrZ2805pk"
      },
      "execution_count": 165,
      "outputs": []
    },
    {
      "cell_type": "code",
      "source": [
        "wn_lemmatizer = nltk.stem.WordNetLemmatizer()\n",
        "\n",
        "def lemmatize_data(tokens):\n",
        "    return [wn_lemmatizer.lemmatize(token) for token in tokens]\n",
        "\n",
        "punct_remover=dict((ord(punctuation),None) for punctuation in string.punctuation)"
      ],
      "metadata": {
        "id": "dGfN_HIXiPI-"
      },
      "execution_count": 166,
      "outputs": []
    },
    {
      "cell_type": "code",
      "source": [
        "def get_processed_data(data):\n",
        "    return lemmatize_data(nltk.word_tokenize(data.lower().translate(punct_remover)))"
      ],
      "metadata": {
        "id": "WjJcpayeiSDB"
      },
      "execution_count": 167,
      "outputs": []
    },
    {
      "cell_type": "code",
      "source": [
        "print(greet_someone2(\"how are you?\"))"
      ],
      "metadata": {
        "colab": {
          "base_uri": "https://localhost:8080/"
        },
        "id": "YtQtweiMm-BI",
        "outputId": "98fb69ae-6c85-4ee0-cf1a-7a07469dc030"
      },
      "execution_count": 168,
      "outputs": [
        {
          "output_type": "stream",
          "name": "stdout",
          "text": [
            "I am fine, thankyou\n"
          ]
        }
      ]
    },
    {
      "cell_type": "code",
      "source": [
        "def respond(input):\n",
        "  bot_response=''\n",
        "  corpus_sentences.append(input)\n",
        "\n",
        "  word_vectorizer=TfidfVectorizer(tokenizer=get_processed_data,stop_words='english')\n",
        "  corpus_word_vectors=word_vectorizer.fit_transform(corpus_sentences)\n",
        "  cos_sin_vectors=cosine_similarity(corpus_word_vectors[-1],corpus_word_vectors)\n",
        "  similar_response_idx=cos_sin_vectors.argsort()[0][-2]\n",
        "\n",
        "  matched_vector = cos_sin_vectors.flatten()\n",
        "  matched_vector.sort()\n",
        "  vector_matched = matched_vector[-2]\n",
        "\n",
        "  if vector_matched==0:\n",
        "    bot_response=bot_response+\"I am sorry I could not get that\"\n",
        "  else:\n",
        "    bot_response=bot_response+corpus_sentences[similar_response_idx]\n",
        "    return bot_response"
      ],
      "metadata": {
        "id": "h-O3yNdOiZwj"
      },
      "execution_count": 169,
      "outputs": []
    },
    {
      "cell_type": "code",
      "source": [
        "chat = True\n",
        "print(\"Cera : Heloo! I am Cera, your Skincare Assistant\")\n",
        "print(\"Cera : What would you like to ask?\")\n",
        "while(chat == True):\n",
        "  user_query = input(\"Me : \")\n",
        "  user_query = user_query.lower()\n",
        "  if (user_query != \"quit\" or user_query != \"bye\" ):\n",
        "    if(user_query == \"thanks\" or user_query == \"thankyou\" or user_query == \"thank you\"):\n",
        "      chat = False\n",
        "      print(\"Cera : You are welcome!\")\n",
        "    else:\n",
        "      if greet_someone(user_query) != None:\n",
        "        print(\"Cera : \" + greet_someone(user_query))\n",
        "      elif greet_someone2(user_query) != None:\n",
        "        print(\"Cera : \" + greet_someone2(user_query))\n",
        "      else:\n",
        "        print(\"Cera : \", end = \"\")\n",
        "        print(respond(user_query))\n",
        "        corpus_sentences.remove(user_query)\n",
        "\n",
        "  elif (user_query == \"quit\" or user_query == \"bye\"):\n",
        "    chat = False\n",
        "    print(\"Cera : Bye, Have a nice day\")\n",
        "\n"
      ],
      "metadata": {
        "id": "8poET1bxse8Z",
        "colab": {
          "base_uri": "https://localhost:8080/"
        },
        "outputId": "8a85f8dd-94ca-47cd-8d3e-65fca9a6200f"
      },
      "execution_count": 170,
      "outputs": [
        {
          "name": "stdout",
          "output_type": "stream",
          "text": [
            "Cera : Heloo! I am Cera, your Skincare Assistant\n",
            "Cera : What would you like to ask?\n",
            "Me : what is my skin type\n"
          ]
        },
        {
          "output_type": "stream",
          "name": "stderr",
          "text": [
            "/usr/local/lib/python3.7/dist-packages/sklearn/feature_extraction/text.py:401: UserWarning: Your stop_words may be inconsistent with your preprocessing. Tokenizing the stop words generated tokens ['ha', 'le', 'u', 'wa'] not in stop_words.\n",
            "  % sorted(inconsistent)\n"
          ]
        },
        {
          "output_type": "stream",
          "name": "stdout",
          "text": [
            "Cera : if you are still confused about your skin type, take our skin type quiz.\n",
            "Me : which body lotion i should use?\n",
            "Cera : so, it is highly recommended to use a moisturizing body lotion everyday post showering.\n",
            "Me : sunscreen?\n",
            "Cera : stick to the basics if you are just starting out – a gentle cleanser, exfoliator, moisturizer and a sunscreen.\n",
            "Me : how too reduce pores\n",
            "Cera : combination skin will usually have an oily t-zone with large pores, while the rest of the face is dry and the pores are smaller.\n",
            "Me : products for dry skin\n",
            "Cera : accordingly, pick a skincare routine for oily skin or skin care products for dry skin a sunblock lotion is one of the most important products of your skincare stash.\n",
            "Me : which moisturizer?\n",
            "Cera : a good moisturizer will hydrate your skin without making it too greasy and oily.\n",
            "Me : thank you\n",
            "Cera : You are welcome!\n"
          ]
        }
      ]
    },
    {
      "cell_type": "code",
      "source": [
        ""
      ],
      "metadata": {
        "id": "1wdJifXp4KPu"
      },
      "execution_count": null,
      "outputs": []
    },
    {
      "cell_type": "code",
      "source": [
        ""
      ],
      "metadata": {
        "id": "Vl50N6XQktGh"
      },
      "execution_count": null,
      "outputs": []
    }
  ]
}